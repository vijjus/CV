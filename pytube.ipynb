{
  "nbformat": 4,
  "nbformat_minor": 0,
  "metadata": {
    "kernelspec": {
      "display_name": "Python 3",
      "language": "python",
      "name": "python3"
    },
    "language_info": {
      "codemirror_mode": {
        "name": "ipython",
        "version": 3
      },
      "file_extension": ".py",
      "mimetype": "text/x-python",
      "name": "python",
      "nbconvert_exporter": "python",
      "pygments_lexer": "ipython3",
      "version": "3.6.9"
    },
    "colab": {
      "name": "pytube.ipynb",
      "provenance": [],
      "include_colab_link": true
    }
  },
  "cells": [
    {
      "cell_type": "markdown",
      "metadata": {
        "id": "view-in-github",
        "colab_type": "text"
      },
      "source": [
        "<a href=\"https://colab.research.google.com/github/vijjus/CV/blob/master/pytube.ipynb\" target=\"_parent\"><img src=\"https://colab.research.google.com/assets/colab-badge.svg\" alt=\"Open In Colab\"/></a>"
      ]
    },
    {
      "cell_type": "code",
      "metadata": {
        "id": "OC3umbRT3uIR",
        "colab_type": "code",
        "colab": {}
      },
      "source": [
        "from pytube import YouTube"
      ],
      "execution_count": null,
      "outputs": []
    },
    {
      "cell_type": "code",
      "metadata": {
        "id": "maMdN2vP3uIW",
        "colab_type": "code",
        "colab": {}
      },
      "source": [
        "#where to save \n",
        "SAVE_PATH = \"/s3/\" #to_do"
      ],
      "execution_count": null,
      "outputs": []
    },
    {
      "cell_type": "code",
      "metadata": {
        "id": "abWBq0R_3uIZ",
        "colab_type": "code",
        "colab": {}
      },
      "source": [
        "#link of the video to be downloaded \n",
        "link=\"https://www.youtube.com/watch?v=xWOoBJUqlbI\""
      ],
      "execution_count": null,
      "outputs": []
    },
    {
      "cell_type": "code",
      "metadata": {
        "id": "WeDUpcV23uIb",
        "colab_type": "code",
        "colab": {}
      },
      "source": [
        "try: \n",
        "    #object creation using YouTube which was imported in the beginning \n",
        "    yt = YouTube(link) \n",
        "except: \n",
        "    print(\"Connection Error\") #to handle exception"
      ],
      "execution_count": null,
      "outputs": []
    },
    {
      "cell_type": "code",
      "metadata": {
        "id": "TWHfxGnJ3uIe",
        "colab_type": "code",
        "colab": {}
      },
      "source": [
        "#filters out all the files with \"mp4\" extension \n",
        "mp4files = yt.streams.filter(progressive=True, file_extension='mp4')"
      ],
      "execution_count": null,
      "outputs": []
    },
    {
      "cell_type": "code",
      "metadata": {
        "id": "9R1FufQZ3uIg",
        "colab_type": "code",
        "colab": {},
        "outputId": "86113fdb-8e01-4fe0-f9fe-7d9ec9585cbf"
      },
      "source": [
        "mp4files"
      ],
      "execution_count": null,
      "outputs": [
        {
          "output_type": "execute_result",
          "data": {
            "text/plain": [
              "<pytube.query.StreamQuery at 0x7f39205c40f0>"
            ]
          },
          "metadata": {
            "tags": []
          },
          "execution_count": 13
        }
      ]
    },
    {
      "cell_type": "code",
      "metadata": {
        "id": "6oo1R6Bg3uIj",
        "colab_type": "code",
        "colab": {}
      },
      "source": [
        "res = mp4files.order_by('resolution')"
      ],
      "execution_count": null,
      "outputs": []
    },
    {
      "cell_type": "code",
      "metadata": {
        "id": "h5hBobr43uIm",
        "colab_type": "code",
        "colab": {},
        "outputId": "f35ddebb-5261-4d91-9fa0-81daf21695b8"
      },
      "source": [
        "res.first()"
      ],
      "execution_count": null,
      "outputs": [
        {
          "output_type": "execute_result",
          "data": {
            "text/plain": [
              "<Stream: itag=\"18\" mime_type=\"video/mp4\" res=\"360p\" fps=\"30fps\" vcodec=\"avc1.42001E\" acodec=\"mp4a.40.2\" progressive=\"True\" type=\"video\">"
            ]
          },
          "metadata": {
            "tags": []
          },
          "execution_count": 40
        }
      ]
    },
    {
      "cell_type": "code",
      "metadata": {
        "id": "B0sdth7-3uIp",
        "colab_type": "code",
        "colab": {},
        "outputId": "e87b4493-9117-4201-d10f-274d4792af72"
      },
      "source": [
        "dname = res.first().download()\n",
        "dname"
      ],
      "execution_count": null,
      "outputs": [
        {
          "output_type": "execute_result",
          "data": {
            "text/plain": [
              "'/data/Search in an almost sorted array  GeeksforGeeks.mp4'"
            ]
          },
          "metadata": {
            "tags": []
          },
          "execution_count": 41
        }
      ]
    },
    {
      "cell_type": "code",
      "metadata": {
        "id": "hX1f9Fq83uIr",
        "colab_type": "code",
        "colab": {},
        "outputId": "dc3d0005-3154-4084-ed94-bde9ddab219e"
      },
      "source": [
        "res.desc()"
      ],
      "execution_count": null,
      "outputs": [
        {
          "output_type": "execute_result",
          "data": {
            "text/plain": [
              "<pytube.query.StreamQuery at 0x7f3913bcde48>"
            ]
          },
          "metadata": {
            "tags": []
          },
          "execution_count": 16
        }
      ]
    },
    {
      "cell_type": "code",
      "metadata": {
        "id": "F5Y2Ryi83uIt",
        "colab_type": "code",
        "colab": {},
        "outputId": "db278821-f19d-4d2e-9296-53e3ee8a9278"
      },
      "source": [
        "yt.length"
      ],
      "execution_count": null,
      "outputs": [
        {
          "output_type": "execute_result",
          "data": {
            "text/plain": [
              "219"
            ]
          },
          "metadata": {
            "tags": []
          },
          "execution_count": 21
        }
      ]
    },
    {
      "cell_type": "code",
      "metadata": {
        "id": "364YrGs03uIv",
        "colab_type": "code",
        "colab": {},
        "outputId": "15c8667a-9271-4c05-ace5-a10817b2ce60"
      },
      "source": [
        "yt.title"
      ],
      "execution_count": null,
      "outputs": [
        {
          "output_type": "execute_result",
          "data": {
            "text/plain": [
              "'Search in an almost sorted array | GeeksforGeeks'"
            ]
          },
          "metadata": {
            "tags": []
          },
          "execution_count": 25
        }
      ]
    },
    {
      "cell_type": "code",
      "metadata": {
        "id": "5_DQMIqI3uIy",
        "colab_type": "code",
        "colab": {},
        "outputId": "db586bda-6659-467d-c3fc-77b963d01fbc"
      },
      "source": [
        "name = yt.title + '.mp4'\n",
        "name"
      ],
      "execution_count": null,
      "outputs": [
        {
          "output_type": "execute_result",
          "data": {
            "text/plain": [
              "'Search in an almost sorted array | GeeksforGeeks.mp4'"
            ]
          },
          "metadata": {
            "tags": []
          },
          "execution_count": 28
        }
      ]
    },
    {
      "cell_type": "code",
      "metadata": {
        "id": "QRt_V7dd3uI0",
        "colab_type": "code",
        "colab": {}
      },
      "source": [
        "import os"
      ],
      "execution_count": null,
      "outputs": []
    },
    {
      "cell_type": "code",
      "metadata": {
        "id": "-qn1MN683uI2",
        "colab_type": "code",
        "colab": {},
        "outputId": "5fd7f346-14f2-4996-cc4c-4c4760f07246"
      },
      "source": [
        "dname = yt.streams.first().download()\n",
        "dname"
      ],
      "execution_count": null,
      "outputs": [
        {
          "output_type": "execute_result",
          "data": {
            "text/plain": [
              "'/data/Search in an almost sorted array  GeeksforGeeks.mp4'"
            ]
          },
          "metadata": {
            "tags": []
          },
          "execution_count": 36
        }
      ]
    },
    {
      "cell_type": "code",
      "metadata": {
        "id": "J60Lsmc43uI4",
        "colab_type": "code",
        "colab": {}
      },
      "source": [
        "os.remove(dname)"
      ],
      "execution_count": null,
      "outputs": []
    },
    {
      "cell_type": "code",
      "metadata": {
        "id": "oXaQc1vJ3uI8",
        "colab_type": "code",
        "colab": {}
      },
      "source": [
        "os.rename(dname, 'download.mp4')"
      ],
      "execution_count": null,
      "outputs": []
    },
    {
      "cell_type": "code",
      "metadata": {
        "id": "YV8Hqc4Q3uI-",
        "colab_type": "code",
        "colab": {},
        "outputId": "40e4d3ad-97e2-49d5-b30c-f7b4e895b4e0"
      },
      "source": [
        "!ls"
      ],
      "execution_count": null,
      "outputs": [
        {
          "output_type": "stream",
          "text": [
            "CNN+LSTM.ipynb\t__init__.py  dlib\t   lost+found  retinaface.py\r\n",
            "Untitled.ipynb\t__pycache__  download.mp4  nohup.out   summer2020\r\n"
          ],
          "name": "stdout"
        }
      ]
    },
    {
      "cell_type": "code",
      "metadata": {
        "id": "_ytF30G73uJB",
        "colab_type": "code",
        "colab": {}
      },
      "source": [
        ""
      ],
      "execution_count": null,
      "outputs": []
    }
  ]
}