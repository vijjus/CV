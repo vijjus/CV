{
  "nbformat": 4,
  "nbformat_minor": 0,
  "metadata": {
    "colab": {
      "name": "PerformerIAM.ipynb",
      "provenance": [],
      "collapsed_sections": [],
      "machine_shape": "hm",
      "authorship_tag": "ABX9TyNL9K01CJkFkcVMDvN/7UZe",
      "include_colab_link": true
    },
    "kernelspec": {
      "name": "python3",
      "display_name": "Python 3"
    },
    "language_info": {
      "name": "python"
    },
    "accelerator": "GPU"
  },
  "cells": [
    {
      "cell_type": "markdown",
      "metadata": {
        "id": "view-in-github",
        "colab_type": "text"
      },
      "source": [
        "<a href=\"https://colab.research.google.com/github/vijjus/CV/blob/master/PerformerIAM.ipynb\" target=\"_parent\"><img src=\"https://colab.research.google.com/assets/colab-badge.svg\" alt=\"Open In Colab\"/></a>"
      ]
    },
    {
      "cell_type": "code",
      "metadata": {
        "colab": {
          "base_uri": "https://localhost:8080/"
        },
        "id": "zQW4svS5x2zJ",
        "outputId": "d4b98056-d60c-4d8a-d20d-8e2fb0ea7308"
      },
      "source": [
        "!uname -a"
      ],
      "execution_count": 1,
      "outputs": [
        {
          "output_type": "stream",
          "text": [
            "Linux 7f65eee9c9bc 5.4.109+ #1 SMP Tue Apr 20 19:55:43 PDT 2021 x86_64 x86_64 x86_64 GNU/Linux\n"
          ],
          "name": "stdout"
        }
      ]
    },
    {
      "cell_type": "code",
      "metadata": {
        "colab": {
          "base_uri": "https://localhost:8080/"
        },
        "id": "3EKLRZzgOb5R",
        "outputId": "cee5fbd9-cecd-4de5-9b6d-251fee7e32f6"
      },
      "source": [
        "!nvidia-smi"
      ],
      "execution_count": 2,
      "outputs": [
        {
          "output_type": "stream",
          "text": [
            "Fri May 14 03:43:16 2021       \n",
            "+-----------------------------------------------------------------------------+\n",
            "| NVIDIA-SMI 465.19.01    Driver Version: 460.32.03    CUDA Version: 11.2     |\n",
            "|-------------------------------+----------------------+----------------------+\n",
            "| GPU  Name        Persistence-M| Bus-Id        Disp.A | Volatile Uncorr. ECC |\n",
            "| Fan  Temp  Perf  Pwr:Usage/Cap|         Memory-Usage | GPU-Util  Compute M. |\n",
            "|                               |                      |               MIG M. |\n",
            "|===============================+======================+======================|\n",
            "|   0  Tesla P100-PCIE...  Off  | 00000000:00:04.0 Off |                    0 |\n",
            "| N/A   47C    P0    27W / 250W |      0MiB / 16280MiB |      0%      Default |\n",
            "|                               |                      |                  N/A |\n",
            "+-------------------------------+----------------------+----------------------+\n",
            "                                                                               \n",
            "+-----------------------------------------------------------------------------+\n",
            "| Processes:                                                                  |\n",
            "|  GPU   GI   CI        PID   Type   Process name                  GPU Memory |\n",
            "|        ID   ID                                                   Usage      |\n",
            "|=============================================================================|\n",
            "|  No running processes found                                                 |\n",
            "+-----------------------------------------------------------------------------+\n"
          ],
          "name": "stdout"
        }
      ]
    },
    {
      "cell_type": "code",
      "metadata": {
        "colab": {
          "base_uri": "https://localhost:8080/"
        },
        "id": "WKlUHR5AOeI5",
        "outputId": "898c6468-b90a-4304-eb39-8c960af6dbed"
      },
      "source": [
        "!pip install performer-pytorch"
      ],
      "execution_count": 3,
      "outputs": [
        {
          "output_type": "stream",
          "text": [
            "Requirement already satisfied: performer-pytorch in /usr/local/lib/python3.7/dist-packages (1.0.11)\n",
            "Requirement already satisfied: torch>=1.6 in /usr/local/lib/python3.7/dist-packages (from performer-pytorch) (1.8.1+cu101)\n",
            "Requirement already satisfied: local-attention>=1.1.1 in /usr/local/lib/python3.7/dist-packages (from performer-pytorch) (1.4.1)\n",
            "Requirement already satisfied: einops>=0.3 in /usr/local/lib/python3.7/dist-packages (from performer-pytorch) (0.3.0)\n",
            "Requirement already satisfied: axial-positional-embedding>=0.1.0 in /usr/local/lib/python3.7/dist-packages (from performer-pytorch) (0.2.1)\n",
            "Requirement already satisfied: typing-extensions in /usr/local/lib/python3.7/dist-packages (from torch>=1.6->performer-pytorch) (3.7.4.3)\n",
            "Requirement already satisfied: numpy in /usr/local/lib/python3.7/dist-packages (from torch>=1.6->performer-pytorch) (1.19.5)\n"
          ],
          "name": "stdout"
        }
      ]
    },
    {
      "cell_type": "code",
      "metadata": {
        "colab": {
          "base_uri": "https://localhost:8080/"
        },
        "id": "Z3ys0nnqf62h",
        "outputId": "6d6a8e89-f099-49f2-8ab6-6151708e7053"
      },
      "source": [
        "!pip install vit-pytorch"
      ],
      "execution_count": 4,
      "outputs": [
        {
          "output_type": "stream",
          "text": [
            "Requirement already satisfied: vit-pytorch in /usr/local/lib/python3.7/dist-packages (0.18.3)\n",
            "Requirement already satisfied: torchvision in /usr/local/lib/python3.7/dist-packages (from vit-pytorch) (0.9.1+cu101)\n",
            "Requirement already satisfied: einops>=0.3 in /usr/local/lib/python3.7/dist-packages (from vit-pytorch) (0.3.0)\n",
            "Requirement already satisfied: torch>=1.6 in /usr/local/lib/python3.7/dist-packages (from vit-pytorch) (1.8.1+cu101)\n",
            "Requirement already satisfied: numpy in /usr/local/lib/python3.7/dist-packages (from torchvision->vit-pytorch) (1.19.5)\n",
            "Requirement already satisfied: pillow>=4.1.1 in /usr/local/lib/python3.7/dist-packages (from torchvision->vit-pytorch) (7.1.2)\n",
            "Requirement already satisfied: typing-extensions in /usr/local/lib/python3.7/dist-packages (from torch>=1.6->vit-pytorch) (3.7.4.3)\n"
          ],
          "name": "stdout"
        }
      ]
    },
    {
      "cell_type": "code",
      "metadata": {
        "colab": {
          "base_uri": "https://localhost:8080/"
        },
        "id": "ttBJGD8xN82A",
        "outputId": "451b4f82-3495-4365-a9ff-f5f88113f6a6"
      },
      "source": [
        "!pip install colorama"
      ],
      "execution_count": 5,
      "outputs": [
        {
          "output_type": "stream",
          "text": [
            "Requirement already satisfied: colorama in /usr/local/lib/python3.7/dist-packages (0.4.4)\n"
          ],
          "name": "stdout"
        }
      ]
    },
    {
      "cell_type": "code",
      "metadata": {
        "id": "G-UJh4kEOuD6"
      },
      "source": [
        "import os\n",
        "import cv2\n",
        "import sys\n",
        "import csv\n",
        "import random\n",
        "import torch\n",
        "import collections\n",
        "import editdistance\n",
        "import numpy as np\n",
        "from tqdm import tqdm\n",
        "import torch.nn as nn\n",
        "from colorama import Fore\n",
        "from torch import nn, einsum\n",
        "import torch.nn.functional as F\n",
        "from einops import rearrange, repeat\n",
        "from torch.nn import Conv2d, Dropout, LogSoftmax\n",
        "from einops.layers.torch import Rearrange\n",
        "from itertools import groupby\n",
        "import albumentations as A\n",
        "import torch.nn.functional as F\n",
        "from google.colab import drive\n",
        "import matplotlib.pyplot as plt\n",
        "from vit_pytorch.vit import PreNorm, Attention, Transformer\n",
        "from performer_pytorch import Performer\n",
        "from albumentations.pytorch import ToTensor\n",
        "from PIL import Image\n",
        "from torch.utils.data.dataloader import default_collate\n",
        "from typing import Callable, Dict, List, Set"
      ],
      "execution_count": 6,
      "outputs": []
    },
    {
      "cell_type": "code",
      "metadata": {
        "colab": {
          "base_uri": "https://localhost:8080/"
        },
        "id": "gvFJfP3wo-jP",
        "outputId": "91c069f1-e330-4e6a-9159-b9e5e2b0ddf8"
      },
      "source": [
        "drive.mount(\"/content/gdrive\")"
      ],
      "execution_count": 7,
      "outputs": [
        {
          "output_type": "stream",
          "text": [
            "Drive already mounted at /content/gdrive; to attempt to forcibly remount, call drive.mount(\"/content/gdrive\", force_remount=True).\n"
          ],
          "name": "stdout"
        }
      ]
    },
    {
      "cell_type": "code",
      "metadata": {
        "id": "_cWE8axEDk48"
      },
      "source": [
        "load_weights = False"
      ],
      "execution_count": 8,
      "outputs": []
    },
    {
      "cell_type": "code",
      "metadata": {
        "colab": {
          "base_uri": "https://localhost:8080/"
        },
        "id": "lfKe_nVApCt5",
        "outputId": "37cb2ab1-efa5-4607-837e-6775411c750e"
      },
      "source": [
        "!ls /content/gdrive/MyDrive/IAM-lines.tgz"
      ],
      "execution_count": 9,
      "outputs": [
        {
          "output_type": "stream",
          "text": [
            "/content/gdrive/MyDrive/IAM-lines.tgz\n"
          ],
          "name": "stdout"
        }
      ]
    },
    {
      "cell_type": "code",
      "metadata": {
        "id": "FQJElXkrpY0K"
      },
      "source": [
        "!cp  /content/gdrive/MyDrive/IAM-lines.tgz ."
      ],
      "execution_count": 10,
      "outputs": []
    },
    {
      "cell_type": "code",
      "metadata": {
        "id": "8YHQQ-kXpsKA"
      },
      "source": [
        "!rm -rf data; mkdir data; mv IAM-lines.tgz data/"
      ],
      "execution_count": 11,
      "outputs": []
    },
    {
      "cell_type": "code",
      "metadata": {
        "id": "HsTXlJfhp1ip",
        "colab": {
          "base_uri": "https://localhost:8080/"
        },
        "outputId": "cad603da-0976-4cce-e044-93b9a3b3f191"
      },
      "source": [
        "!cd data; tar -zxf IAM-lines.tgz; cd -"
      ],
      "execution_count": 12,
      "outputs": [
        {
          "output_type": "stream",
          "text": [
            "/content\n"
          ],
          "name": "stdout"
        }
      ]
    },
    {
      "cell_type": "code",
      "metadata": {
        "colab": {
          "base_uri": "https://localhost:8080/"
        },
        "id": "4R-afhH5BTjl",
        "outputId": "d937f738-34e7-4c2d-fdab-61b81459f72b"
      },
      "source": [
        "!tail -10 data/lines/lines.txt.test"
      ],
      "execution_count": 13,
      "outputs": [
        {
          "output_type": "stream",
          "text": [
            "r06-103-05 err 185 17 351 1630 1601 137 confessed|everything|.|Her|fiance*?2\n",
            "r06-106-00 ok 185 16 340 731 1650 141 The|day|I|promised|to|take|Catherine\n",
            "r06-106-01 ok 184 21 342 915 1718 136 down|to|visit|my|young|friend|Philip\n",
            "r06-106-08 ok 182 18 351 2172 1816 132 Renoir|girl|who|expects|everything|from\n",
            "r06-111-05 ok 181 16 347 1645 1765 113 romantic|than|large|houses|.|We|drank\n",
            "r06-111-08 ok 182 13 354 2167 1173 131 thing|from|food|to|music|.\n",
            "r06-115-04 err 185 20 370 1444 1743 143 I|suggested|she|might|find|them|dif-\n",
            "r06-115-09 ok 183 14 351 2359 1793 115 pages|of|Babel|,|for|she|was|determined\n",
            "r06-121-04 ok 184 13 336 1451 1642 138 their|bright|friendly|heads|turned\n",
            "r06-121-10 ok 183 16 353 2530 1769 117 the|pictures|just|for|the|fun|of|it|was\n"
          ],
          "name": "stdout"
        }
      ]
    },
    {
      "cell_type": "code",
      "metadata": {
        "id": "ymzlT8nRDU0F"
      },
      "source": [
        "def list_files_and_basename_recursive(dirpath, ext):\n",
        "    # TODO unit test\n",
        "    retlist = {}\n",
        "    for root, dirs, files in os.walk(dirpath):\n",
        "        for filename in files:\n",
        "            if not filename.endswith(ext):\n",
        "                continue\n",
        "\n",
        "            image_filename_no_ext = os.path.basename(os.path.splitext(filename)[0])\n",
        "            retlist[image_filename_no_ext] = os.path.join(root, filename)\n",
        "\n",
        "    return retlist"
      ],
      "execution_count": 14,
      "outputs": []
    },
    {
      "cell_type": "code",
      "metadata": {
        "id": "la5DMGTnIb1S"
      },
      "source": [
        "class Vocabulary(object):\n",
        "    \"\"\"Convert between str and label.\n",
        "    NOTE:\n",
        "        Insert `blank` to the alphabet for CTC.\n",
        "    Args:\n",
        "        alphabet (Iterable): set of the possible characters.\n",
        "        ignore_case (bool, default=False): whether or not to ignore all of the case.\n",
        "    \"\"\"\n",
        "\n",
        "    def __init__(self, alphabet: List):\n",
        "        self.alphabet = alphabet\n",
        "\n",
        "        self.dict = {}\n",
        "        for i, char in enumerate(alphabet):\n",
        "            self.dict[char] = i\n",
        "\n",
        "    @property\n",
        "    def num_classes(self):\n",
        "        return len(self.dict)\n",
        "\n",
        "    def encode(self, text):\n",
        "        \"\"\"Support batch or single str.\n",
        "        Args:\n",
        "            text (str or list of str): texts to convert.\n",
        "        Returns:\n",
        "            torch.IntTensor [length_0 + length_1 + ... length_{n - 1}]: encoded texts.\n",
        "            torch.IntTensor [n]: length of each text.\n",
        "        \"\"\"\n",
        "        if isinstance(text, str):\n",
        "            text = [self.dict[char] for char in text]\n",
        "            length = [len(text)]\n",
        "        elif isinstance(text, torch.Tensor):\n",
        "            if text.dim() == 2:\n",
        "                label = []\n",
        "                length = []\n",
        "                for sub in text:\n",
        "                    label_char = [self.dict[str(x)] for x in sub.tolist()]\n",
        "                    label.append(label_char)\n",
        "                    length.append(len(sub))\n",
        "                text = label\n",
        "            else:\n",
        "                text = [self.dict[str(x)] for x in text.tolist()]\n",
        "                length = [len(text)]\n",
        "        elif isinstance(text, collections.Iterable):\n",
        "            length = [len(s) for s in text]\n",
        "            text = \"\".join(text)\n",
        "            text, _ = self.encode(text)\n",
        "        else:\n",
        "            raise ValueError(f\"Invalid input type {type(text)}\")\n",
        "\n",
        "        return torch.IntTensor(text), torch.IntTensor(length)\n",
        "\n",
        "    def decode(self, t, length, raw=False):\n",
        "        \"\"\"Decode encoded texts back into strs.\n",
        "        Args:\n",
        "            torch.IntTensor [length_0 + length_1 + ... length_{n - 1}]: encoded texts.\n",
        "            torch.IntTensor [n]: length of each text.\n",
        "        Raises:\n",
        "            AssertionError: when the texts and its length does not match.\n",
        "        Returns:\n",
        "            text (str or list of str): texts to convert.\n",
        "        \"\"\"\n",
        "        if length.numel() == 1:\n",
        "            length = length[0]\n",
        "            assert (\n",
        "                t.numel() == length\n",
        "            ), \"text with length: {} does not match declared length: {}\".format(\n",
        "                t.numel(), length\n",
        "            )\n",
        "            if raw:\n",
        "                return \"\".join(\n",
        "                    [self.alphabet[i] if self.alphabet[i] != \"<SEP>\" else \"\" for i in t]\n",
        "                )\n",
        "            else:\n",
        "                char_list = []\n",
        "                for i in range(length):\n",
        "                    if t[i] != 0 and (not (i > 0 and t[i - 1] == t[i])):\n",
        "                        c = self.alphabet[t[i]]\n",
        "                        if c == \"<SEP>\":\n",
        "                            c = \" \"\n",
        "                        char_list.append(c)\n",
        "                return \"\".join(char_list)\n",
        "        else:\n",
        "            # batch mode\n",
        "            assert (\n",
        "                t.numel() == length.sum()\n",
        "            ), \"texts with length: {} does not match declared length: {}\".format(\n",
        "                t.numel(), length.sum()\n",
        "            )\n",
        "            texts = []\n",
        "            index = 0\n",
        "            for i in range(length.numel()):\n",
        "                label_length = length[i]\n",
        "                texts.append(\n",
        "                    self.decode(\n",
        "                        t[index : index + label_length],\n",
        "                        torch.IntTensor([label_length]),\n",
        "                        raw=raw,\n",
        "                    )\n",
        "                )\n",
        "                index += label_length\n",
        "            return texts\n"
      ],
      "execution_count": 15,
      "outputs": []
    },
    {
      "cell_type": "code",
      "metadata": {
        "id": "irMWm89EQVQb"
      },
      "source": [
        "def base_collator_with_padding(\n",
        "    pad_key, base_collator_fn=default_collate, pad_val=0, pad_idx=0\n",
        "):\n",
        "    \"\"\"Pad: a given key in the data iterator output to a consistent length.\n",
        "    Otherwise, falls back to default collate functionality\n",
        "    Args:\n",
        "        pad_key: str The specific data stream to pad\n",
        "        base_collator_fn: Callable The default collator to call. Defaults to default_collate from PyTorch\n",
        "        pad_val: Any The value to pad in the tensor. Defaults to 0\n",
        "    Returns:\n",
        "        The result of collation, including padding of the variable length streams\n",
        "    \"\"\"\n",
        "\n",
        "    def fn(batch):\n",
        "        max_len = max(item[pad_key].shape[pad_idx] for item in batch)\n",
        "\n",
        "        for item in batch:\n",
        "            original_tensor = item[pad_key]\n",
        "\n",
        "            # TODO currently assumes a single dimension tensor\n",
        "            padded_tensor = torch.full((max_len,), pad_val, dtype=original_tensor.dtype)\n",
        "            padded_tensor[: original_tensor.shape[pad_idx]] = original_tensor\n",
        "\n",
        "            item[pad_key] = padded_tensor\n",
        "\n",
        "        return base_collator_fn(batch)\n",
        "\n",
        "    return fn\n"
      ],
      "execution_count": 16,
      "outputs": []
    },
    {
      "cell_type": "code",
      "metadata": {
        "id": "y7XwxI7XDOk9"
      },
      "source": [
        "class IAMLinesDataset(torch.utils.data.Dataset):\n",
        "    LINE_LEVEL_FIELDNAMES = [\n",
        "        \"line_id\",\n",
        "        \"line_segmentation_result\",\n",
        "        \"graylevel\",\n",
        "        \"components\",\n",
        "        \"bbox_x\",\n",
        "        \"bbox_y\",\n",
        "        \"bbox_w\",\n",
        "        \"bbox_h\",\n",
        "        \"label\",\n",
        "    ]\n",
        "\n",
        "    def __init__(\n",
        "        self,\n",
        "        image_directory: str,\n",
        "        lines_file: str,\n",
        "        image_extension: str = \"png\",\n",
        "        transform: Callable = None,\n",
        "        max_sequence_len=None,\n",
        "    ):\n",
        "        self._data = []\n",
        "        self._transform = transform\n",
        "\n",
        "        image_filepaths = list_files_and_basename_recursive(\n",
        "            image_directory, image_extension\n",
        "        )\n",
        "\n",
        "        chars: Set[str] = set()\n",
        "\n",
        "        self._limit_max_sequence_length = bool(max_sequence_len)\n",
        "\n",
        "        # either set it to our upper limit, or initialize it to be overridden by our longest sequence\n",
        "        self._max_sequence_length = (\n",
        "            max_sequence_len if self._limit_max_sequence_length else -1\n",
        "        )\n",
        "\n",
        "        with open(lines_file) as fp:\n",
        "            # QUOTE_NONE is required here, there are some open double quotes in the file that screw with parsing\n",
        "            reader = csv.DictReader(\n",
        "                fp,\n",
        "                fieldnames=self.LINE_LEVEL_FIELDNAMES,\n",
        "                delimiter=\" \",\n",
        "                quoting=csv.QUOTE_NONE,\n",
        "            )\n",
        "            for row in reader:\n",
        "                data_dict = {\n",
        "                    \"image_filepath\": image_filepaths[row[\"line_id\"]],\n",
        "                }\n",
        "\n",
        "                label_str = row[\"label\"]\n",
        "                label_str = label_str.replace(\"|\", \" \")\n",
        "                label_len = len(label_str)\n",
        "                if self._limit_max_sequence_length:\n",
        "                    label_str = label_str[: self._max_sequence_length]\n",
        "                    new_label_len = len(label_str)\n",
        "                    if label_len != new_label_len:\n",
        "                        warnings.warn(\n",
        "                            f\"Had to truncate image label {row['word_id']}, label string too long \"\n",
        "                            f\"(was {label_len}, limit {self._max_sequence_length})\"\n",
        "                        )\n",
        "\n",
        "                elif label_len > self._max_sequence_length:\n",
        "                    self._max_sequence_length = label_len\n",
        "\n",
        "                chars.update(label_str)\n",
        "\n",
        "                data_dict[\"label\"] = label_str\n",
        "                self._data.append(data_dict)\n",
        "\n",
        "        # Could be an issue if the train set doesn't have some symbols.\n",
        "\n",
        "        # NOTE index 0 is our blank space index\n",
        "        self.vocab = Vocabulary([\"<SEP>\"] + sorted(chars))\n",
        "\n",
        "    # TODO num_classes and max_seq_len should be precalculated\n",
        "    @property\n",
        "    def num_classes(self):\n",
        "        return self.vocab.num_classes\n",
        "\n",
        "    @property\n",
        "    def max_sequence_len(self):\n",
        "        return self._max_sequence_length\n",
        "\n",
        "    def __len__(self):\n",
        "        return len(self._data)\n",
        "\n",
        "    def __getitem__(self, idx):\n",
        "        data_at_idx = self._data[idx]\n",
        "        image_filepath = data_at_idx[\"image_filepath\"]\n",
        "        image_label = data_at_idx[\"label\"]\n",
        "\n",
        "        image = cv2.imread(image_filepath, cv2.IMREAD_GRAYSCALE)\n",
        "        image = cv2.resize(image, (512, 32), cv2.INTER_AREA)\n",
        "\n",
        "        # invert the image\n",
        "        image = image.max() - image\n",
        "        if self._transform:\n",
        "            image = self._transform(image=image)['image']\n",
        "            image = image.permute(1, 0)\n",
        "\n",
        "        label_indices, label_length = self.vocab.encode(image_label)\n",
        "\n",
        "        return {\n",
        "            \"image\": image,\n",
        "            \"label_indices\": label_indices,\n",
        "            \"label_length\": label_length,\n",
        "            \"label_str\": image_label,\n",
        "        }"
      ],
      "execution_count": 17,
      "outputs": []
    },
    {
      "cell_type": "code",
      "metadata": {
        "id": "rRrQR5yXEruQ"
      },
      "source": [
        "train_transform = A.Compose([\n",
        "    #A.ShiftScaleRotate(shift_limit=0, scale_limit=0, rotate_limit=3, p=0.5),\n",
        "    #A.OpticalDistortion(p=0.5),\n",
        "    A.Normalize(mean=[0.5], std=[0.5]),\n",
        "    ToTensor(),\n",
        "])"
      ],
      "execution_count": 18,
      "outputs": []
    },
    {
      "cell_type": "code",
      "metadata": {
        "id": "wqE7wTIRHusH"
      },
      "source": [
        "MAX_SEQ_LEN = 93\n",
        "trainset = IAMLinesDataset(\n",
        "    '/content/data/lines',\n",
        "    '/content/data/lines/lines.txt.train',\n",
        "    transform=train_transform,\n",
        "    max_sequence_len=MAX_SEQ_LEN,\n",
        ")"
      ],
      "execution_count": 19,
      "outputs": []
    },
    {
      "cell_type": "code",
      "metadata": {
        "id": "uMnvZUbWIe9a"
      },
      "source": [
        "train_iter = iter(trainset)"
      ],
      "execution_count": 20,
      "outputs": []
    },
    {
      "cell_type": "code",
      "metadata": {
        "id": "aMD-uTeuIjJ7"
      },
      "source": [
        "data = next(train_iter)"
      ],
      "execution_count": 21,
      "outputs": []
    },
    {
      "cell_type": "code",
      "metadata": {
        "colab": {
          "base_uri": "https://localhost:8080/"
        },
        "id": "uVm3uFOMImMB",
        "outputId": "69eca8f7-c163-4efc-da23-66ceef4eed05"
      },
      "source": [
        "data"
      ],
      "execution_count": 22,
      "outputs": [
        {
          "output_type": "execute_result",
          "data": {
            "text/plain": [
              "{'image': tensor([[-1., -1., -1.,  ..., -1., -1., -1.],\n",
              "         [-1., -1., -1.,  ..., -1., -1., -1.],\n",
              "         [-1., -1., -1.,  ..., -1., -1., -1.],\n",
              "         ...,\n",
              "         [-1., -1., -1.,  ..., -1., -1., -1.],\n",
              "         [-1., -1., -1.,  ..., -1., -1., -1.],\n",
              "         [-1., -1., -1.,  ..., -1., -1., -1.]]),\n",
              " 'label_indices': tensor([28,  1, 40, 42, 49, 32,  1, 73, 68,  1, 72, 73, 68, 69,  1, 40, 71, 13,\n",
              "          1, 34, 54, 62, 73, 72, 64, 58, 65, 65,  1, 59, 71, 68, 66],\n",
              "        dtype=torch.int32),\n",
              " 'label_length': tensor([33], dtype=torch.int32),\n",
              " 'label_str': 'A MOVE to stop Mr. Gaitskell from'}"
            ]
          },
          "metadata": {
            "tags": []
          },
          "execution_count": 22
        }
      ]
    },
    {
      "cell_type": "code",
      "metadata": {
        "colab": {
          "base_uri": "https://localhost:8080/"
        },
        "id": "NOW_CqBsI31j",
        "outputId": "41af5f15-7ca6-4169-833d-3b0c3342e5a1"
      },
      "source": [
        "data['image'].shape"
      ],
      "execution_count": 23,
      "outputs": [
        {
          "output_type": "execute_result",
          "data": {
            "text/plain": [
              "torch.Size([32, 512])"
            ]
          },
          "metadata": {
            "tags": []
          },
          "execution_count": 23
        }
      ]
    },
    {
      "cell_type": "code",
      "metadata": {
        "colab": {
          "base_uri": "https://localhost:8080/",
          "height": 35
        },
        "id": "Gi8mIxZUKk1j",
        "outputId": "75aef7f5-f51f-4d21-a0e4-e0d18b0486cd"
      },
      "source": [
        "data['label_str']"
      ],
      "execution_count": 24,
      "outputs": [
        {
          "output_type": "execute_result",
          "data": {
            "application/vnd.google.colaboratory.intrinsic+json": {
              "type": "string"
            },
            "text/plain": [
              "'A MOVE to stop Mr. Gaitskell from'"
            ]
          },
          "metadata": {
            "tags": []
          },
          "execution_count": 24
        }
      ]
    },
    {
      "cell_type": "code",
      "metadata": {
        "colab": {
          "base_uri": "https://localhost:8080/"
        },
        "id": "LGMgKzpCHua1",
        "outputId": "8bb6fd0a-4ce6-4a00-8c62-2e7dc1ec4ce8"
      },
      "source": [
        "len(trainset.vocab.alphabet)"
      ],
      "execution_count": 25,
      "outputs": [
        {
          "output_type": "execute_result",
          "data": {
            "text/plain": [
              "80"
            ]
          },
          "metadata": {
            "tags": []
          },
          "execution_count": 25
        }
      ]
    },
    {
      "cell_type": "code",
      "metadata": {
        "colab": {
          "base_uri": "https://localhost:8080/",
          "height": 35
        },
        "id": "RPSqTlm5IbCt",
        "outputId": "29402618-53ee-4db4-c71b-e60acc3524d0"
      },
      "source": [
        "trainset.vocab.decode(data['label_indices'], data['label_length'])"
      ],
      "execution_count": 26,
      "outputs": [
        {
          "output_type": "execute_result",
          "data": {
            "application/vnd.google.colaboratory.intrinsic+json": {
              "type": "string"
            },
            "text/plain": [
              "'A MOVE to stop Mr. Gaitskel from'"
            ]
          },
          "metadata": {
            "tags": []
          },
          "execution_count": 26
        }
      ]
    },
    {
      "cell_type": "code",
      "metadata": {
        "colab": {
          "base_uri": "https://localhost:8080/",
          "height": 89
        },
        "id": "2i5ezp0SI8Hz",
        "outputId": "534b57d3-ee7e-4bbf-d17d-0e8796e287ac"
      },
      "source": [
        "plt.imshow(data['image'], cmap='gray')"
      ],
      "execution_count": 27,
      "outputs": [
        {
          "output_type": "execute_result",
          "data": {
            "text/plain": [
              "<matplotlib.image.AxesImage at 0x7f78c1a3a210>"
            ]
          },
          "metadata": {
            "tags": []
          },
          "execution_count": 27
        },
        {
          "output_type": "display_data",
          "data": {
            "image/png": "[encoded data removed]",
            "text/plain": [
              "<Figure size 432x288 with 1 Axes>"
            ]
          },
          "metadata": {
            "tags": [],
            "needs_background": "light"
          }
        }
      ]
    },
    {
      "cell_type": "code",
      "metadata": {
        "id": "AUl8mDUsDr4R"
      },
      "source": [
        "val_transform = A.Compose([\n",
        "    A.Normalize(mean=[0.5], std=[0.5]),\n",
        "    ToTensor(),\n",
        "])"
      ],
      "execution_count": 28,
      "outputs": []
    },
    {
      "cell_type": "code",
      "metadata": {
        "id": "lqnfdqVHLsmw"
      },
      "source": [
        "testset = IAMLinesDataset(\n",
        "    '/content/data/lines',\n",
        "    '/content/data/lines/lines.txt.test',\n",
        "    transform=val_transform,\n",
        "    max_sequence_len=MAX_SEQ_LEN,\n",
        ")"
      ],
      "execution_count": 29,
      "outputs": []
    },
    {
      "cell_type": "code",
      "metadata": {
        "colab": {
          "base_uri": "https://localhost:8080/",
          "height": 711
        },
        "id": "pTQXH063stQD",
        "outputId": "e6dbf217-61f0-4494-d891-cd566d969a93"
      },
      "source": [
        "max_h=0\n",
        "max_w=0\n",
        "max_l=0\n",
        "vocab = set()\n",
        "MAX_CNT=12\n",
        "count=0\n",
        "for data in trainset:\n",
        "  img = data['image']\n",
        "  if count < MAX_CNT:\n",
        "    count += 1\n",
        "    plt.imshow(img, cmap='gray')\n",
        "    plt.show()\n",
        "  max_w = max(max_w, img.shape[1])\n",
        "  max_h = max(max_h, img.shape[0])\n",
        "  text = data['label_str']\n",
        "  max_l = max(max_l, len(text))\n",
        "  for c in text:\n",
        "    if c not in vocab:\n",
        "      vocab.add(c)\n",
        "print(f'Max height={max_h}, width={max_w}, label={max_l}')\n",
        "vocab = list(vocab)\n",
        "vocab.sort()\n",
        "print(''.join(vocab))"
      ],
      "execution_count": 30,
      "outputs": [
        {
          "output_type": "display_data",
          "data": {
            "image/png": "[encoded data removed]",
            "text/plain": [
              "<Figure size 432x288 with 1 Axes>"
            ]
          },
          "metadata": {
            "tags": [],
            "needs_background": "light"
          }
        },
        {
          "output_type": "display_data",
          "data": {
            "image/png": "[encoded data removed]",
            "text/plain": [
              "<Figure size 432x288 with 1 Axes>"
            ]
          },
          "metadata": {
            "tags": [],
            "needs_background": "light"
          }
        },
        {
          "output_type": "display_data",
          "data": {
            "image/png": "[encoded data removed]",
            "text/plain": [
              "<Figure size 432x288 with 1 Axes>"
            ]
          },
          "metadata": {
            "tags": [],
            "needs_background": "light"
          }
        },
        {
          "output_type": "display_data",
          "data": {
            "image/png": "[encoded data removed]",
            "text/plain": [
              "<Figure size 432x288 with 1 Axes>"
            ]
          },
          "metadata": {
            "tags": [],
            "needs_background": "light"
          }
        },
        {
          "output_type": "display_data",
          "data": {
            "image/png": "[encoded data removed]",
            "text/plain": [
              "<Figure size 432x288 with 1 Axes>"
            ]
          },
          "metadata": {
            "tags": [],
            "needs_background": "light"
          }
        },
        {
          "output_type": "display_data",
          "data": {
            "image/png": "[encoded data removed]",
            "text/plain": [
              "<Figure size 432x288 with 1 Axes>"
            ]
          },
          "metadata": {
            "tags": [],
            "needs_background": "light"
          }
        },
        {
          "output_type": "display_data",
          "data": {
            "image/png": "[encoded data removed]",
            "text/plain": [
              "<Figure size 432x288 with 1 Axes>"
            ]
          },
          "metadata": {
            "tags": [],
            "needs_background": "light"
          }
        },
        {
          "output_type": "display_data",
          "data": {
            "image/png": "[encoded data removed]",
            "text/plain": [
              "<Figure size 432x288 with 1 Axes>"
            ]
          },
          "metadata": {
            "tags": [],
            "needs_background": "light"
          }
        },
        {
          "output_type": "display_data",
          "data": {
            "image/png": "[encoded data removed]",
            "text/plain": [
              "<Figure size 432x288 with 1 Axes>"
            ]
          },
          "metadata": {
            "tags": [],
            "needs_background": "light"
          }
        },
        {
          "output_type": "display_data",
          "data": {
            "image/png": "[encoded data removed]",
            "text/plain": [
              "<Figure size 432x288 with 1 Axes>"
            ]
          },
          "metadata": {
            "tags": [],
            "needs_background": "light"
          }
        },
        {
          "output_type": "display_data",
          "data": {
            "image/png": "[encoded data removed]",
            "text/plain": [
              "<Figure size 432x288 with 1 Axes>"
            ]
          },
          "metadata": {
            "tags": [],
            "needs_background": "light"
          }
        },
        {
          "output_type": "display_data",
          "data": {
            "image/png": "[encoded data removed]",
            "text/plain": [
              "<Figure size 432x288 with 1 Axes>"
            ]
          },
          "metadata": {
            "tags": [],
            "needs_background": "light"
          }
        },
        {
          "output_type": "stream",
          "text": [
            "Max height=32, width=512, label=93\n",
            " !\"#&'()*+,-./0123456789:;?ABCDEFGHIJKLMNOPQRSTUVWXYZabcdefghijklmnopqrstuvwxyz\n"
          ],
          "name": "stdout"
        }
      ]
    },
    {
      "cell_type": "code",
      "metadata": {
        "id": "7vtdznNJYz-z"
      },
      "source": [
        "def count_parameters(model):\n",
        "    params = sum(p.numel() for p in model.parameters() if p.requires_grad)\n",
        "    return params / 1000000"
      ],
      "execution_count": 31,
      "outputs": []
    },
    {
      "cell_type": "code",
      "metadata": {
        "id": "scpvUnSwhgFC"
      },
      "source": [
        "def pair(t):\n",
        "    return t if isinstance(t, tuple) else (t, t)\n",
        "class ViT(nn.Module):\n",
        "    def __init__(self, *, image_size, patch_size, num_classes, dim, \n",
        "                 depth, heads, mlp_dim, pool = 'mean', channels = 3, \n",
        "                 dim_head = 64, dropout = 0., emb_dropout = 0.,\n",
        "                 patch_method = \"linear\", transformer='regular'):\n",
        "        super().__init__()\n",
        "        image_height, image_width = pair(image_size)\n",
        "        patch_height, patch_width = pair(patch_size)\n",
        "\n",
        "        assert image_height % patch_height == 0 and image_width % patch_width == 0, 'Image dimensions must be divisible by the patch size.'\n",
        "\n",
        "        num_patches = (image_height // patch_height) * (image_width // patch_width)\n",
        "        patch_dim = channels * patch_height * patch_width\n",
        "        assert pool in {'cls', 'mean'}, 'pool type must be either cls (cls token) or mean (mean pooling)'\n",
        "\n",
        "        if patch_method == \"linear\":\n",
        "          self.to_patch_embedding = nn.Sequential(\n",
        "            Rearrange('b c (h p1) (w p2) -> b (h w) (p1 p2 c)', p1 = patch_height, p2 = patch_width),\n",
        "            nn.Linear(patch_dim, dim),\n",
        "          )\n",
        "        else:\n",
        "          self.to_patch_embedding = nn.Conv2d(\n",
        "            in_channels=channels,\n",
        "            out_channels=dim,\n",
        "            kernel_size=patch_size,\n",
        "            stride=patch_size,\n",
        "          )\n",
        "\n",
        "        self.pos_embedding = nn.Parameter(torch.randn(1, num_patches + 1, dim))\n",
        "        self.dropout = nn.Dropout(emb_dropout)\n",
        "\n",
        "        if transformer == 'performer':\n",
        "          self.transformer = Performer(dim=dim, depth=depth, \n",
        "                                       heads=heads, dim_head=dim_head,\n",
        "                                       attn_dropout=dropout,\n",
        "                                       causal=True)\n",
        "        else:\n",
        "          self.transformer = Transformer(dim, depth, heads, dim_head, mlp_dim, dropout)\n",
        "\n",
        "        self.pool = pool\n",
        "        self.to_latent = nn.Identity()\n",
        "\n",
        "        self.mlp_head = nn.Sequential(\n",
        "            nn.LayerNorm(dim),\n",
        "            nn.Linear(dim, num_classes)\n",
        "        )\n",
        "\n",
        "        self._log_softmax = LogSoftmax(dim=-1)\n",
        "\n",
        "    def forward(self, img):\n",
        "        #print(f'Image shape: {img.shape}')\n",
        "        x = self.to_patch_embedding(img)\n",
        "        # convolutional embedding produces an extra dimension\n",
        "        if len(x.shape) == 4:\n",
        "          x = x.flatten(2)\n",
        "          x = x.transpose(-1, -2)\n",
        "        #print(f'After patch embedding: {x.shape}')\n",
        "        b, n, _ = x.shape\n",
        "\n",
        "        x += self.pos_embedding[:, :n]\n",
        "        #print(f'after pos embedding: {x.shape}')\n",
        "        x = self.dropout(x)\n",
        "        #print(f'Before transformer: {x.shape}')\n",
        "        x = self.transformer(x)\n",
        "        #print(f'After transformer: {x.shape}')\n",
        "\n",
        "        batch_len, sequence_len, hidden_len = x.shape\n",
        "\n",
        "        x = x.reshape(-1, hidden_len)\n",
        "        logits = self.mlp_head(x)\n",
        "        logits = logits.view(batch_len, sequence_len, -1)\n",
        "        logits = self._log_softmax(logits)\n",
        "        logits = logits.permute(1, 0, 2)\n",
        "        \n",
        "        #print(f'After logits: {logits.shape}')\n",
        "        return logits"
      ],
      "execution_count": 32,
      "outputs": []
    },
    {
      "cell_type": "code",
      "metadata": {
        "id": "NOeG-Q__JmeV"
      },
      "source": [
        "train_loader = torch.utils.data.DataLoader(trainset, batch_size=32, collate_fn=base_collator_with_padding(\"label_indices\"), shuffle=True)\n",
        "test_loader = torch.utils.data.DataLoader(testset, batch_size=32, collate_fn=base_collator_with_padding(\"label_indices\"), shuffle=True)"
      ],
      "execution_count": 33,
      "outputs": []
    },
    {
      "cell_type": "code",
      "metadata": {
        "colab": {
          "base_uri": "https://localhost:8080/"
        },
        "id": "CdfVBVqvqmxT",
        "outputId": "46c25f97-c3a8-4900-e4de-70c9c23ca95f"
      },
      "source": [
        "trainset.num_classes"
      ],
      "execution_count": 34,
      "outputs": [
        {
          "output_type": "execute_result",
          "data": {
            "text/plain": [
              "80"
            ]
          },
          "metadata": {
            "tags": []
          },
          "execution_count": 34
        }
      ]
    },
    {
      "cell_type": "code",
      "metadata": {
        "id": "MtvRe1EIHfQZ"
      },
      "source": [
        "model = ViT(image_size=(32, 512), patch_size=(32, 4), num_classes=trainset.num_classes,\n",
        "            depth=6, dim=512, mlp_dim=2048, heads=8, channels=1, \n",
        "            patch_method=\"cnn\")"
      ],
      "execution_count": 35,
      "outputs": []
    },
    {
      "cell_type": "code",
      "metadata": {
        "colab": {
          "base_uri": "https://localhost:8080/"
        },
        "id": "hPoqRvXWP8wo",
        "outputId": "63a4440e-0da4-44d0-84f6-0b7e172d97d8"
      },
      "source": [
        "x = torch.randn(1,1,32,512)\n",
        "out = model(x)\n",
        "out.shape"
      ],
      "execution_count": 36,
      "outputs": [
        {
          "output_type": "execute_result",
          "data": {
            "text/plain": [
              "torch.Size([128, 1, 80])"
            ]
          },
          "metadata": {
            "tags": []
          },
          "execution_count": 36
        }
      ]
    },
    {
      "cell_type": "code",
      "metadata": {
        "id": "ehq1kZAqO3L0"
      },
      "source": [
        "model = model.cuda()"
      ],
      "execution_count": 37,
      "outputs": []
    },
    {
      "cell_type": "code",
      "metadata": {
        "id": "WIaZQiF9IGKp"
      },
      "source": [
        "# load pre-trained weights\n",
        "if load_weights and os.path.exists(\"/content/gdrive/MyDrive/PerfViT_IAM.pth\"):\n",
        "  model.load_state_dict(torch.load(\"/content/gdrive/MyDrive/PerfViT_IAM.pth\"))"
      ],
      "execution_count": 38,
      "outputs": []
    },
    {
      "cell_type": "code",
      "metadata": {
        "colab": {
          "base_uri": "https://localhost:8080/"
        },
        "id": "zMjOOeSWNYTH",
        "outputId": "ac64aee8-08ba-4f40-81f1-6e8f1ea6b81b"
      },
      "source": [
        "blank_label = trainset.vocab.alphabet.index(\"<SEP>\")\n",
        "blank_label"
      ],
      "execution_count": 39,
      "outputs": [
        {
          "output_type": "execute_result",
          "data": {
            "text/plain": [
              "0"
            ]
          },
          "metadata": {
            "tags": []
          },
          "execution_count": 39
        }
      ]
    },
    {
      "cell_type": "code",
      "metadata": {
        "id": "aDAN-w1QKA-c"
      },
      "source": [
        "criterion = nn.CTCLoss(blank=blank_label, reduction='mean', zero_infinity=True)\n",
        "optimizer = torch.optim.SGD(model.parameters(), lr=0.01)\n",
        "scheduler = torch.optim.lr_scheduler.ReduceLROnPlateau(optimizer=optimizer, patience=3, verbose=True)"
      ],
      "execution_count": 40,
      "outputs": []
    },
    {
      "cell_type": "code",
      "metadata": {
        "colab": {
          "base_uri": "https://localhost:8080/"
        },
        "id": "qCiSt23yY436",
        "outputId": "a1a6c47e-282a-4482-a25b-e50502f99e37"
      },
      "source": [
        "print(f\"Model has {count_parameters(model):.2f}M parameters\")"
      ],
      "execution_count": 41,
      "outputs": [
        {
          "output_type": "stream",
          "text": [
            "Model has 19.08M parameters\n"
          ],
          "name": "stdout"
        }
      ]
    },
    {
      "cell_type": "code",
      "metadata": {
        "id": "SHqI3OahjUGc"
      },
      "source": [
        "epochs=100"
      ],
      "execution_count": 42,
      "outputs": []
    },
    {
      "cell_type": "code",
      "metadata": {
        "id": "yc1hgf5qRzyq"
      },
      "source": [
        "def create_logit_lengths(batch_size, sequence_length):\n",
        "    return torch.full((batch_size,), sequence_length, dtype=torch.int64)"
      ],
      "execution_count": 43,
      "outputs": []
    },
    {
      "cell_type": "code",
      "metadata": {
        "colab": {
          "base_uri": "https://localhost:8080/"
        },
        "id": "Tmmt4rBkKDPP",
        "outputId": "9c20a70d-9be1-45eb-fc44-7361ec097315"
      },
      "source": [
        "# ================================================ TRAINING MODEL ======================================================\n",
        "best_ed = np.inf\n",
        "for epoch in range(epochs):\n",
        "    # ============================================ TRAINING ============================================================\n",
        "    train_correct = 0\n",
        "    train_total = 0\n",
        "    model.train()\n",
        "    train_loss = 0.0\n",
        "    train_ed = 0\n",
        "    train_cc = 0\n",
        "    for data in tqdm(train_loader,\n",
        "                     position=0, leave=True,\n",
        "                     file=sys.stdout, bar_format=\"{l_bar}%s{bar}%s{r_bar}\" % (Fore.GREEN, Fore.RESET)):\n",
        "        tensor_keys = [\"image\", \"label_indices\", \"label_length\"]\n",
        "        images, label_indices, label_lengths = tuple(\n",
        "            data[k].cuda() for k in tensor_keys\n",
        "        )\n",
        "\n",
        "        b, h, w = images.shape\n",
        "        images = images.reshape(b, 1 , h, w)\n",
        "\n",
        "        optimizer.zero_grad()\n",
        "        \n",
        "        y_pred = model(images)\n",
        "\n",
        "        ll = create_logit_lengths(y_pred.shape[1], y_pred.shape[0]) \n",
        "        loss = criterion(y_pred, label_indices, ll, label_lengths)\n",
        "        \n",
        "        loss.backward()\n",
        "        optimizer.step()\n",
        "\n",
        "        train_loss += loss.item()\n",
        "        \n",
        "        preds = torch.argmax(y_pred, dim=-1)\n",
        "        preds_size = torch.full(\n",
        "            (preds.shape[1],), fill_value=preds.shape[0], dtype=torch.int64\n",
        "        )\n",
        "\n",
        "        flattened_preds = preds.transpose(1, 0).contiguous().view(-1)\n",
        "        preds_decode = trainset.vocab.decode(flattened_preds.data, preds_size.data)\n",
        "\n",
        "        labels = data['label_str']\n",
        "\n",
        "        for label, pred in zip(labels, preds_decode):\n",
        "          train_ed += editdistance.eval(pred, label)\n",
        "          train_cc += len(label)\n",
        "          train_total += 1\n",
        "\n",
        "    print(f'TRAINING. editdistance: {train_ed}/{train_total}={train_ed/train_total:.3f}')\n",
        "    print(f\"[{epoch}] Train loss: {train_loss:.2f}, avg. char count={train_cc/train_total:.3f}\")\n",
        "\n",
        "    scheduler.step(train_loss)\n",
        "\n",
        "    # ========================= VALIDATION =====================================\n",
        "    val_correct = 0\n",
        "    val_total = 0\n",
        "    model.eval()\n",
        "    val_loss = 0.0\n",
        "    val_ed = 0\n",
        "    val_cc = 0\n",
        "    TO_DISPLAY = 10\n",
        "    learnt = set()\n",
        "    for data in test_loader:\n",
        "        tensor_keys = [\"image\", \"label_indices\", \"label_length\"]\n",
        "        images, label_indices, label_lengths = tuple(\n",
        "            data[k].cuda() for k in tensor_keys\n",
        "        )\n",
        "\n",
        "        b, h, w = images.shape\n",
        "        images = images.reshape(b, 1 , h, w)\n",
        "        \n",
        "        with torch.set_grad_enabled(False):\n",
        "            y_pred = model(images)\n",
        "        \n",
        "        y_pred = model(images)\n",
        "\n",
        "        l = create_logit_lengths(y_pred.shape[1], y_pred.shape[0]) \n",
        "        loss = criterion(y_pred, label_indices, l, label_lengths)\n",
        "\n",
        "        val_loss += loss.item()\n",
        "\n",
        "        preds = torch.argmax(y_pred, dim=-1)\n",
        "        preds_size = torch.full(\n",
        "            (preds.shape[1],), fill_value=preds.shape[0], dtype=torch.int64\n",
        "        )\n",
        "\n",
        "        flattened_preds = preds.transpose(1, 0).contiguous().view(-1)\n",
        "        preds_decode = trainset.vocab.decode(flattened_preds.data, preds_size.data)\n",
        "\n",
        "        labels = data['label_str']\n",
        "\n",
        "        for label, pred in zip(labels, preds_decode):\n",
        "          for c in pred:\n",
        "            learnt.add(c)\n",
        "          val_ed += editdistance.eval(pred, label)\n",
        "          val_cc += len(label)\n",
        "          val_total += 1\n",
        "          if val_total < TO_DISPLAY:\n",
        "            print(f\"Output={pred}\\t Label={label}\")\n",
        "\n",
        "    print(f'Learnt {len(learnt)} characters: {learnt}')\n",
        "    # save best weights\n",
        "    if val_ed < best_ed:\n",
        "      best_ed = val_ed\n",
        "      print(f\"Best model seen [{best_ed:.2f}], saving weights...\")\n",
        "      torch.save(model.state_dict(), \"/content/gdrive/MyDrive/PerfViT_IAM.pth\")\n",
        "    print(f'TESTING editdistance:  {val_ed}/{val_total} = {val_ed/val_total:.3f}')\n",
        "    print(f\"[{epoch}] Test loss: {val_loss:.2f}, avg char count: {val_cc/val_total:.3f}\")\n"
      ],
      "execution_count": null,
      "outputs": [
        {
          "output_type": "stream",
          "text": [
            "100%|\u001b[32m██████████\u001b[39m| 376/376 [01:30<00:00,  4.14it/s]\n",
            "TRAINING. editdistance: 522352/12032=43.414\n",
            "[0] Train loss: 1322.74, avg. char count=43.230\n",
            "Output=\t Label=then decided to bathe and dress for a rather early\n",
            "Output=\t Label=third astronaut went up - what 's his name ?\n",
            "Output=\t Label=has been appointed to smooth out difficulties for\n",
            "Output=\t Label=It is not easy to make an economic\n",
            "Output=\t Label=give me a ring at this number and I 'll\n",
            "Output=\t Label=trying to understand Gavin's point of\n",
            "Output=\t Label=was not one of Nigel's usual attributes .\n",
            "Output=\t Label=sounding name of Lansdowne Road . There\n",
            "Output=\t Label=the municipality . Yet , at any time now ,\n",
            "Learnt 2 characters: {'e', 't'}\n",
            "Best model seen [56625.00], saving weights...\n",
            "TESTING editdistance:  56625/1321 = 42.865\n",
            "[0] Test loss: 135.75, avg char count: 42.867\n",
            "100%|\u001b[32m██████████\u001b[39m| 376/376 [01:31<00:00,  4.12it/s]\n",
            "TRAINING. editdistance: 511297/12032=42.495\n",
            "[1] Train loss: 1235.33, avg. char count=43.230\n",
            "Output=t   \t Label=Sidney Osborne , and his inventory has been\n",
            "Output=   \t Label=whom Anglesey consulted in May 1834 .\n",
            "Output=    \t Label=She had been struck several times with a blunt\n",
            "Output=    \t Label=\" Intended for Plas Newydd , this lot is . Paid for ,\n",
            "Output=   \t Label=in the history of Anglesey's unceasing search for an\n",
            "Output= e \t Label=6impasse which always resulted , and in the\n",
            "Output=   \t Label=compartments but over the years it builds up ,\n",
            "Output=    \t Label=individuals in the West . Some may ask : Is\n",
            "Output=   \t Label=is prepared to pay , and the type of\n",
            "Learnt 5 characters: {'t', ' ', 'h', '.', 'e'}\n",
            "Best model seen [52004.00], saving weights...\n",
            "TESTING editdistance:  52004/1321 = 39.367\n",
            "[1] Test loss: 134.52, avg char count: 42.867\n",
            "100%|\u001b[32m██████████\u001b[39m| 376/376 [01:32<00:00,  4.05it/s]\n",
            "TRAINING. editdistance: 474931/12032=39.472\n",
            "[2] Train loss: 1204.31, avg. char count=43.230\n",
            "Output=    .\t Label=exactly down to the taper line ,\n",
            "Output=       .\t Label=grey eyes . His finger-nails were dirty , though he\n",
            "Output=       \t Label=clamping into position with a ' D ' clamp . Bend\n",
            "Output=      .\t Label=by his publishers in March of last year ? Still a skeleton . Yet\n",
            "Output=    .\t Label=Nor is this to be wondered at , for even\n",
            "Output= h e .\t Label=I have not yet thought of a fire ... .\n",
            "Output=    .\t Label=found us a couple of boxes to sit on .\n",
            "Output=   \t Label=relatively few retirements . For the most part therefore\n",
            "Output=      .\t Label=substantially higher last year than in 1959 .\n",
            "Learnt 6 characters: {'d', 't', ' ', 'h', '.', 'e'}\n",
            "Best model seen [50031.00], saving weights...\n",
            "TESTING editdistance:  50031/1321 = 37.874\n",
            "[2] Test loss: 131.08, avg char count: 42.867\n",
            "100%|\u001b[32m██████████\u001b[39m| 376/376 [01:33<00:00,  4.01it/s]\n",
            "TRAINING. editdistance: 461776/12032=38.379\n",
            "[3] Train loss: 1178.60, avg. char count=43.230\n",
            "Output=    e  e\t Label=must safeguard Rhodesia against chaos . And try to\n",
            "Output=    h  .\t Label=widespread resentment over the U.S. Polaris base in\n",
            "Output=  t     e\t Label=On the eve of August Bank Holiday\n",
            "Output=t        .\t Label=feather-weight contest between Chris Elliot and\n",
            "Output=t        .\t Label=be so good as to order your men not to molest my\n",
            "Output=t     e e\t Label=Not so dusty , she might say afterwards , drawing at\n",
            "Output=   h    .\t Label=traditional patterns that we follow today were ,\n",
            "Output=      e .\t Label=The statement of Padley and Crossman is no\n",
            "Output=t   e  .\t Label=however , a word of advice generally .\n",
            "Learnt 7 characters: {'n', 'd', 't', ' ', 'h', '.', 'e'}\n",
            "Best model seen [47520.00], saving weights...\n",
            "TESTING editdistance:  47520/1321 = 35.973\n",
            "[3] Test loss: 132.17, avg char count: 42.867\n",
            "100%|\u001b[32m██████████\u001b[39m| 376/376 [01:33<00:00,  4.00it/s]\n",
            "TRAINING. editdistance: 459115/12032=38.158\n",
            "[4] Train loss: 1168.28, avg. char count=43.230\n",
            "Output=    .\t Label=unorthodox medical men in the cities of Europe .\n",
            "Output=     e\t Label=diligently unto my commandments , which I command\n",
            "Output=      e\t Label=fine girl , intelligent , and pretty , and I had\n",
            "Output=     .\t Label=For many years my union had to present its views\n",
            "Output=    e\t Label=THE Queen and the Duke of Edinburgh come home\n",
            "Output=       .\t Label=This director is at last being re-evaluated and\n",
            "Output=    .\t Label=his head , so the verger described afterwards .\n",
            "Output=        \t Label=After the First World War , 1914 , I did not visit\n",
            "Output=      e\t Label=standards . Instead , we saw the\n",
            "Learnt 6 characters: {'t', ' ', 'h', '.', 'e', 'o'}\n",
            "TESTING editdistance:  50119/1321 = 37.940\n",
            "[4] Test loss: 127.91, avg char count: 42.867\n",
            "100%|\u001b[32m██████████\u001b[39m| 376/376 [01:33<00:00,  4.00it/s]\n",
            "TRAINING. editdistance: 457963/12032=38.062\n",
            "[5] Train loss: 1154.68, avg. char count=43.230\n",
            "Output=      .\t Label=as a percentage of social service expenditure ,\n",
            "Output=      e  .\t Label=trying to shake-off the last traces of hypnotic after-effects .\n",
            "Output=      e e\t Label=the pictures just for the fun of it was\n",
            "Output=       e\t Label=proved right . EARL RUSSELL and his friends have\n",
            "Output=      e oe\t Label=Then they stop swimming and are caught . In\n",
            "Output=  th    e  e\t Label=is incoherently , clumsily , but half shyly and\n",
            "Output=e  o  t  e\t Label=of Canterbury and York were to pay ten marks ,\n",
            "Output=     e\t Label=Government was to denounce the United\n",
            "Output=    e\t Label=Fourth Gospel by explanations based on assumed textual dislocations . The\n",
            "Learnt 9 characters: {'n', 'd', 't', 'a', ' ', 'h', '.', 'e', 'o'}\n",
            "TESTING editdistance:  47534/1321 = 35.983\n",
            "[5] Test loss: 127.39, avg char count: 42.867\n",
            "100%|\u001b[32m██████████\u001b[39m| 376/376 [01:34<00:00,  3.98it/s]\n",
            "TRAINING. editdistance: 449637/12032=37.370\n",
            "[6] Train loss: 1146.34, avg. char count=43.230\n",
            "Output=ee     ti   t\t Label=leading the Opposition with skill and\n",
            "Output=o      .\t Label=He bumped into a floor lamp and\n",
            "Output=a   e .\t Label=is high & I have not yet thought of a fire ... .\n",
            "Output=   oe\t Label=Those who lend their names to this kind of\n",
            "Output=a a e a e  .\t Label=temporary surroundings .\n",
            "Output=a    e  .\t Label=and suitably gaudy colour .\n",
            "Output=   e  .\t Label=Yesterday Sir Roy's chief aide , Mr.\n",
            "Output=  a e e\t Label=fontein and the Transvaal , with slightly\n",
            "Output=      e .\t Label=is joined to both transoms and lies in the grooves\n",
            "Learnt 12 characters: {'n', 'g', 'd', 't', 'i', 'a', ' ', 'h', '.', 'y', 'e', 'o'}\n",
            "Best model seen [46616.00], saving weights...\n",
            "TESTING editdistance:  46616/1321 = 35.288\n",
            "[6] Test loss: 126.15, avg char count: 42.867\n",
            "100%|\u001b[32m██████████\u001b[39m| 376/376 [01:35<00:00,  3.94it/s]\n",
            "TRAINING. editdistance: 441256/12032=36.674\n",
            "[7] Train loss: 1132.30, avg. char count=43.230\n",
            "Output= \t Label=Buttery . I think , however , that you might have\n",
            "Output= e.\t Label=desert her friends . HAPPY , happy\n",
            "Output=   te\t Label=irritated , patient and persevering , ' but he appears to\n",
            "Output=  e\t Label=to pass the time of day \" ; Supporters had\n",
            "Output=e   e .\t Label=to rush Britain into the European Common\n",
            "Output= e a   \t Label=still in greatest demand . It is mostly\n",
            "Output=a  e \t Label=the temporary assumption of the govern-\n",
            "Output=    .\t Label=sentiment would # still favour the abolition\n",
            "Output=   e.\t Label=communications to Hobhouse and Kinnaird about Byron's affairs is\n",
            "Learnt 9 characters: {'g', 't', 'a', ' ', 'h', '.', 'y', 'e', 'o'}\n",
            "TESTING editdistance:  50526/1321 = 38.248\n",
            "[7] Test loss: 125.44, avg char count: 42.867\n",
            "100%|\u001b[32m██████████\u001b[39m| 376/376 [01:35<00:00,  3.95it/s]\n",
            "TRAINING. editdistance: 441290/12032=36.676\n",
            "[8] Train loss: 1129.10, avg. char count=43.230\n",
            "Output=a   a  aa\t Label=most treatments of its subject by attempting\n",
            "Output=aee t a  e t\t Label=her eyes and reached for her address book . \" I 'll\n",
            "Output= e a .\t Label=darkness .\n",
            "Output=a  a  a\t Label=I don't accept his good faith . \" He said\n",
            "Output=ta ee oe i  a o.\t Label=but an express took him off yesterday . '\n",
            "Output=.\t Label=IN THE ISLANDS , WHILE THEY WARMLY WELCOMED ...\n",
            "Output=a   a e \t Label=Britain must depend on Nato and \" the West \"\n",
            "Output= e a a o .\t Label=has its premiere tomorrow , the director , Mr.\n",
            "Output=ae   ae e e\t Label=weighed , and set aside for five days while the\n",
            "Learnt 11 characters: {'g', 'd', 't', 'i', 'a', ' ', 'h', '.', 'y', 'e', 'o'}\n",
            "TESTING editdistance:  47023/1321 = 35.597\n",
            "[8] Test loss: 124.26, avg char count: 42.867\n",
            "100%|\u001b[32m██████████\u001b[39m| 376/376 [01:35<00:00,  3.94it/s]\n",
            "TRAINING. editdistance: 440085/12032=36.576\n",
            "[9] Train loss: 1119.24, avg. char count=43.230\n",
            "Output=ea  .\t Label=and virile competitor and he knew it . He turned\n",
            "Output=o ee a  e\t Label=say a word about it , Lester wants his\n",
            "Output=   .\t Label=of fruits .\n",
            "Output=  ea e\t Label=of the numerous conventional remedies to which he had\n",
            "Output= ae  \t Label=have asked him to join us . I 'm so\n",
            "Output=a e  i e  ae\t Label=At an early stage of the census\n",
            "Output=o e ae .\t Label=hunting for furnished rooms , and had given up , when an\n",
            "Output= e oe a  e \t Label=All groups except families with four or more children\n",
            "Output= a  e  .\t Label=I don't think I 'd go to Edinburgh un-\n",
            "Learnt 13 characters: {'n', 'g', 'd', 't', 'i', 'a', ' ', 'p', 'h', '.', 'y', 'e', 'o'}\n",
            "TESTING editdistance:  47103/1321 = 35.657\n",
            "[9] Test loss: 123.79, avg char count: 42.867\n",
            "100%|\u001b[32m██████████\u001b[39m| 376/376 [01:34<00:00,  3.97it/s]\n",
            "TRAINING. editdistance: 440195/12032=36.585\n",
            "[10] Train loss: 1118.09, avg. char count=43.230\n",
            "Output=a oe ae  \t Label=at their desserts the number of flowers\n",
            "Output=o   e a  e o \t Label=you a lesson . It wouldn't work . You 'd do it to\n",
            "Output=t  e a   .\t Label=before I got used to calling them\n",
            "Output=e e  e a e  .\t Label=The most clearly substantiated case\n",
            "Output=oe a e .\t Label=yourself , under such conditions the goods are your gods .\n",
            "Output=   \t Label=was found to have her own silk scarf drawn\n",
            "Output=oe   e a ee o \t Label=to her , Dan . \" \" She 'll be all right . It 's the\n",
            "Output=o   e a e  \t Label=They think there is something\n",
            "Output=e e   e a e o \t Label=sea , blue as a new school exercise\n",
            "Learnt 14 characters: {'n', 'g', 'd', 't', 'i', 'a', ' ', 'p', 'h', '.', 'T', 'y', 'e', 'o'}\n",
            "Best model seen [46144.00], saving weights...\n",
            "TESTING editdistance:  46144/1321 = 34.931\n",
            "[10] Test loss: 123.71, avg char count: 42.867\n",
            "100%|\u001b[32m██████████\u001b[39m| 376/376 [01:34<00:00,  3.97it/s]\n",
            "TRAINING. editdistance: 440450/12032=36.607\n",
            "[11] Train loss: 1113.90, avg. char count=43.230\n",
            "Output=ao  a  eo .\t Label=been boycotted by the two main settlers' parties -\n",
            "Output=e a a  eo \t Label=Buttery . I think , however , that you might have\n",
            "Output=e  e a  e \t Label=begun . Instead of having the desired effect ,\n",
            "Output=aee o e a  e e .\t Label=down Gavin , without a word , swept\n",
            "Output=ae e ae  o \t Label=and the sheet wound round this central pin . The roll made\n",
            "Output=a eeo  a a ee  .\t Label=a hand and grasped hers .\n",
            "Output=o e  e a  e e .\t Label=if the trouble is a complicated one\n",
            "Output=a e e  a  ee\t Label=is a pleasing , fine looking young man &\n",
            "Output=o  e a  e  \t Label=thirties and took her straight to his\n",
            "Learnt 15 characters: {'n', '\"', 'g', 'd', 't', 'i', 'a', ' ', 'p', 'h', '.', 'T', 'y', 'e', 'o'}\n",
            "Best model seen [45622.00], saving weights...\n",
            "TESTING editdistance:  45622/1321 = 34.536\n",
            "[11] Test loss: 123.70, avg char count: 42.867\n",
            "100%|\u001b[32m██████████\u001b[39m| 376/376 [01:34<00:00,  3.96it/s]\n",
            "TRAINING. editdistance: 440123/12032=36.579\n",
            "[12] Train loss: 1111.36, avg. char count=43.230\n",
            "Output= ee e\t Label=it reaches them . They move away before\n",
            "Output=ee o e e\t Label=the # Ministry of Labour . This scheme is designed\n",
            "Output= e  ee \t Label=He climbed the stairs , eager to unload the\n",
            "Output=  e  e e\t Label=an attempt to show my lady-love that I\n",
            "Output=e oe\t Label=conversation that evening , for when\n",
            "Output=ae  e o e \t Label=by his publishers in March of last year ? Still a skeleton . Yet\n",
            "Output= eaee \t Label=man of the road his freedom of decision , and\n",
            "Output=a ae et\t Label=nuns who carried the craft to Ireland . There it\n",
            "Output=e  e eg\t Label=objectionable to have the family history\n",
            "Learnt 15 characters: {'n', '\"', 'g', 'd', 't', 'i', 'a', ' ', 'p', 'h', '.', 'T', 'y', 'e', 'o'}\n",
            "TESTING editdistance:  48614/1321 = 36.801\n",
            "[12] Test loss: 122.70, avg char count: 42.867\n",
            "100%|\u001b[32m██████████\u001b[39m| 376/376 [01:35<00:00,  3.95it/s]\n",
            "TRAINING. editdistance: 438898/12032=36.478\n",
            "[13] Train loss: 1108.92, avg. char count=43.230\n",
            "Output=ta e eae e \t Label=Some thought that the result would be all\n",
            "Output=eee a e e \t Label=Theatre tomorrow . It has been produced and\n",
            "Output=e e a  y\t Label=that your father took his life , backed by\n",
            "Output=  .\t Label=she had fallen or been thrown from a train .\n",
            "Output= ea a  \t Label=The journey has been against me , as there has\n",
            "Output=e e a o  \t Label=diplomatist Lord Ponsonby , had written to advise Anglesey\n",
            "Output=aee e a e  \t Label=large quantities of morphine and heroin\n",
            "Output=aee a  ee\t Label=co-operation especially with the other Christian communities .\n",
            "Output=e  ea e .\t Label=however , a word of advice generally .\n",
            "Learnt 16 characters: {'n', '\"', 'g', 'd', 't', 'i', 'a', ' ', 'f', 'p', 'h', '.', 'T', 'y', 'e', 'o'}\n",
            "TESTING editdistance:  46447/1321 = 35.160\n",
            "[13] Test loss: 122.62, avg char count: 42.867\n",
            "100%|\u001b[32m██████████\u001b[39m| 376/376 [01:35<00:00,  3.92it/s]\n",
            "TRAINING. editdistance: 438070/12032=36.409\n",
            "[14] Train loss: 1105.01, avg. char count=43.230\n",
            "Output=e  ea  te.\t Label=It 's hereabouts that the budge takes to the bottle , but I\n",
            "Output=ee a  tee .\t Label=plump hand towards her grand pianos , etc :\n",
            "Output=e a  e \t Label=encountering this tendency\n",
            "Output=aee a  e\t Label=cigarettes worth smoking , these . Most unhealthy , English\n",
            "Output=  e a  ee\t Label=also effectively around . They provide some chilly red\n",
            "Output=   e a  e e\t Label=Shelagh Delaney . Just because A Taste\n",
            "Output=ee a e h\t Label=written to advise Anglesey to give the system\n",
            "Output=aeee e o\t Label=judge always had on the table at dinner , he\n",
            "Output=T e  e  e \t Label=For short ones a smoothing plane can be used .\n",
            "Learnt 16 characters: {'n', '\"', 'g', 'd', 't', 'i', 'a', ' ', 'f', 'p', 'h', '.', 'T', 'y', 'e', 'o'}\n",
            "TESTING editdistance:  46339/1321 = 35.079\n",
            "[14] Test loss: 123.04, avg char count: 42.867\n",
            "100%|\u001b[32m██████████\u001b[39m| 376/376 [01:35<00:00,  3.92it/s]\n",
            "TRAINING. editdistance: 438599/12032=36.453\n",
            "[15] Train loss: 1102.46, avg. char count=43.230\n",
            "Output=o ge a  ta o\t Label=flection , it might be that I took a\n",
            "Output=ae  a a a \t Label=refilled glass and looked over the rim at his\n",
            "Output=a e i  a \t Label=had carried his brother , George 4 . , and he kindly\n",
            "Output=e   ea e e \t Label=bismuth-210 grows in .\n",
            "Output=eae a e\t Label=The wish was particularly apparent in comments\n",
            "Output=e  e a  e \t Label=All groups except families with four or more children\n",
            "Output=   a  ey\t Label=of Home , Foreign Secretary , was listening\n",
            "Output= o .\t Label=know little , we know much . '\n",
            "Output=ae ea e \t Label=boycotting the London talks on the\n",
            "Learnt 18 characters: {'\"', 'n', 'g', 'd', 't', 'l', 'i', 'a', ' ', 'f', 'p', 'h', ',', '.', 'T', 'y', 'e', 'o'}\n",
            "TESTING editdistance:  46864/1321 = 35.476\n",
            "[15] Test loss: 122.09, avg char count: 42.867\n",
            "100%|\u001b[32m██████████\u001b[39m| 376/376 [01:36<00:00,  3.91it/s]\n",
            "TRAINING. editdistance: 436116/12032=36.246\n",
            "[16] Train loss: 1100.30, avg. char count=43.230\n",
            "Output=o e a e oe e e\t Label=an attempt to show my lady-love that I\n",
            "Output=ee t teo eee.\t Label=had bought a drink and taken it outside .\n",
            "Output= o  e.\t Label=radio-lead and the added lead carrier is\n",
            "Output=te e  e a e e e.\t Label=Such is the life of a naval officer's wife .\n",
            "Output=e e aeo e e \t Label=Mr. Bryan Stonehouse's production is\n",
            "Output=ee   ei  ea\t Label=had to get to pay off their college bills , were naturally\n",
            "Output=a e e a eo e eeg \t Label=or to herself - she believed implicitly in\n",
            "Output=eee eo e te  ee\t Label=Lester was not home yet from his formidable\n",
            "Output=oeee o e e e e\t Label=put all our energies into the particular\n",
            "Learnt 18 characters: {'\"', 'n', 'g', 'd', 't', 'l', 'i', 'a', ' ', 'f', 'p', 'h', ',', '.', 'T', 'y', 'e', 'o'}\n",
            "Best model seen [45059.00], saving weights...\n",
            "TESTING editdistance:  45059/1321 = 34.110\n",
            "[16] Test loss: 122.79, avg char count: 42.867\n",
            "100%|\u001b[32m██████████\u001b[39m| 376/376 [01:35<00:00,  3.92it/s]\n",
            "TRAINING. editdistance: 436871/12032=36.309\n",
            "[17] Train loss: 1097.08, avg. char count=43.230\n",
            "Output=eaeee e\t Label=would never be jealous again , would even take Larry's advice and\n",
            "Output=aae  egy\t Label=which it engenders . But I am not arguing\n",
            "Output=a e e o.\t Label=sentiment would # still favour the abolition\n",
            "Output=te e e a  e ee\t Label=Gay stood irresolute for a moment , half\n",
            "Output=te e g e e .\t Label=had been brought to his notice .\n",
            "Output= aea e \t Label=yourselves . You can take it from\n",
            "Output=ee  e aee\t Label=important than the casual meetings of the present\n",
            "Output=ae eae a \t Label=households occupying them , as the basis of the\n",
            "Output=o l e e  eeg .\t Label=public of the change .\n",
            "Learnt 18 characters: {'\"', 'n', 'g', 'd', 't', 'l', 'i', 'a', ' ', 'f', 'p', 'h', ',', '.', 'T', 'y', 'e', 'o'}\n",
            "TESTING editdistance:  47460/1321 = 35.927\n",
            "[17] Test loss: 121.63, avg char count: 42.867\n",
            "100%|\u001b[32m██████████\u001b[39m| 376/376 [01:36<00:00,  3.91it/s]\n",
            "TRAINING. editdistance: 434315/12032=36.097\n",
            "[18] Train loss: 1098.68, avg. char count=43.230\n",
            "Output=e eogea e a e  .\t Label=the atmosphere of a city .\n",
            "Output=e eo a te ee\t Label=of Canterbury and York were to pay ten marks ,\n",
            "Output=e  a ea e eef\t Label=edging for collar , cuffs or a handkerchief .\n",
            "Output=a e e o a  .\t Label=had claimed tax relief on the pur-\n",
            "Output=o oaea e ee.\t Label=though somewhat dim picture .\n",
            "Output=ta e  aee e o  ee\t Label=feather-weight contest between Chris Elliot and\n",
            "Output=e a ea  e  oey\t Label=still in greatest demand . It is mostly\n",
            "Output= .\t Label=Sentence Database\n",
            "Output=e eo  e e\t Label=as best actress for her work in the Godard\n",
            "Learnt 18 characters: {'\"', 'n', 'g', 'd', 't', 'l', 'i', 'a', ' ', 'f', 'p', 'h', ',', '.', 'T', 'y', 'e', 'o'}\n",
            "TESTING editdistance:  45375/1321 = 34.349\n",
            "[18] Test loss: 122.25, avg char count: 42.867\n",
            "100%|\u001b[32m██████████\u001b[39m| 376/376 [01:36<00:00,  3.91it/s]\n",
            "TRAINING. editdistance: 435346/12032=36.182\n",
            "[19] Train loss: 1094.62, avg. char count=43.230\n",
            "Output=oee poa e \t Label=recapture of Vang Vieng , the pro-\n",
            "Output=.\t Label=Labour supporters .\n",
            "Output=oe a e a eo.\t Label=reluctantly and with an effort . '\n",
            "Output=.\t Label=table .\n",
            "Output=  ae   ee e\t Label=with a deeply thoughtful expression on his face .\n",
            "Output=  e\t Label=Ten minutes later he stopped in a lane\n",
            "Output=ote ote e\t Label=mass of Radicalism , & then God knows what may happen ... .\n",
            "Output=tae   a  eee\t Label=that they learned to fly properly . The pains associated\n",
            "Output=o g e  e  e .\t Label=that chap , Hewitt , too . Leave it to me . '\n",
            "Learnt 18 characters: {'\"', 'n', 'g', 'd', 't', 'l', 'i', 'a', ' ', 'f', 'p', 'h', ',', '.', 'T', 'y', 'e', 'o'}\n",
            "TESTING editdistance:  46603/1321 = 35.279\n",
            "[19] Test loss: 121.37, avg char count: 42.867\n",
            "100%|\u001b[32m██████████\u001b[39m| 376/376 [01:36<00:00,  3.91it/s]\n",
            "TRAINING. editdistance: 432656/12032=35.959\n",
            "[20] Train loss: 1092.94, avg. char count=43.230\n",
            "Output=oa a e h\t Label=some dreadful ravine , or beset by\n",
            "Output=a e   e.\t Label=malady . None of the numerous conventional\n",
            "Output=ee a \t Label=well if you don't wear it for a bit , Di , \" he\n",
            "Output=oe a .\t Label=always palely appealing , Mr. James Maxwell ,\n",
            "Output=a  e\t Label=brandy owner's solo swish on his anecdotal\n",
            "Output= at   \t Label=typically French .\n",
            "Output=a e  \t Label=an effective alleviation of his painful malady . None\n",
            "Output=oe a a \t Label=must safeguard Rhodesia against chaos . And try to\n",
            "Output=o e aee\t Label=are more effective for the delicate designs used for\n",
            "Learnt 17 characters: {'\"', 'g', 'd', 't', 'i', 'a', ' ', 'f', 'p', 'h', ',', 'M', '.', 'T', 'y', 'e', 'o'}\n",
            "TESTING editdistance:  49895/1321 = 37.771\n",
            "[20] Test loss: 121.57, avg char count: 42.867\n",
            "100%|\u001b[32m██████████\u001b[39m| 376/376 [01:36<00:00,  3.91it/s]\n",
            "TRAINING. editdistance: 434080/12032=36.077\n",
            "[21] Train loss: 1090.93, avg. char count=43.230\n",
            "Output=e a eaa  g\t Label=to discuss a common course of action . Sir Roy is\n",
            "Output=o  a e\t Label=are well secured as they will have to withstand\n",
            "Output=Tee  a e\t Label=The Minister regards the recent trend\n",
            "Output=o ae a.\t Label=building has lagged behind the demand .\n",
            "Output=oe a a  e e\t Label=with the possibility of faulty design . \" He held\n",
            "Output=gaa e\t Label=\" Another was the body fetching up on the mooring-hook - practically where\n",
            "Output=a    .\t Label=all households in the sample .\n",
            "Output=a   yeged\t Label=He often used to try to imagine\n",
            "Output=o eta a e e\"\t Label=be accepted by both East and West . \"\n",
            "Learnt 18 characters: {'\"', 'n', 'g', 'd', 't', 'l', 'i', 'a', ' ', 'f', 'p', 'h', ',', '.', 'T', 'y', 'e', 'o'}\n",
            "TESTING editdistance:  48421/1321 = 36.655\n",
            "[21] Test loss: 121.24, avg char count: 42.867\n",
            "100%|\u001b[32m██████████\u001b[39m| 376/376 [01:36<00:00,  3.90it/s]\n",
            "TRAINING. editdistance: 432516/12032=35.947\n",
            "[22] Train loss: 1089.28, avg. char count=43.230\n",
            "Output=eee at aae aed\t Label=makes her few brief scenes effective , and Mr.\n",
            "Output=eeo  eo eeed\t Label=the board . There were only 17 vacancies for the 58\n",
            "Output=o eo a ee e\t Label=For short periods over the years some of the London\n",
            "Output= e e e e e e\t Label=had been deemed necessary all the\n",
            "Output=tea  e \t Label=begun . Some plain tapered legs have\n",
            "Output=ee  ae ee e e\t Label=weighed , and set aside for five days while the\n",
            "Output=  ea ee ed\t Label=sir . It said Llangrwl . \" Llewelyn Jones sat\n",
            "Output=ee  e  e e  ee\t Label=was impatient for it . This afternoon , then , we climbed\n",
            "Output=poea   e e\t Label=perfect figure . Vittoria's thoughts were more complex .\n",
            "Learnt 18 characters: {'\"', 'n', 'g', 'd', 't', 'l', 'i', 'a', ' ', 'f', 'p', 'h', ',', '.', 'T', 'y', 'e', 'o'}\n",
            "TESTING editdistance:  46375/1321 = 35.106\n",
            "[22] Test loss: 120.84, avg char count: 42.867\n",
            "100%|\u001b[32m██████████\u001b[39m| 376/376 [01:36<00:00,  3.91it/s]\n",
            "TRAINING. editdistance: 432507/12032=35.946\n",
            "[23] Train loss: 1088.84, avg. char count=43.230\n",
            "Output= e.\t Label=chief aide , Mr. Julius Greenfield , telephoned\n",
            "Output=e a \"\t Label=know little , we know much . '\n",
            "Output=ta  e  a aaee \t Label=be in England . The first ruler of the United Kingdom was a\n",
            "Output=aeeae e \t Label=large quantities of morphine and heroin\n",
            "Output=aee a ee .\t Label=yourself , under such conditions the goods are your gods .\n",
            "Output=ee  eee\t Label=THE Queen and the Duke of Edinburgh come home\n",
            "Output=ae  ea ee e .\t Label=that ever was . But he has not one word of English . '\n",
            "Output=te e a eee\t Label=turn . By comparing personal appearances\n",
            "Output= .\t Label=them .\n",
            "Learnt 19 characters: {'e', 'g', 't', 'l', 'p', ',', 'M', '\"', 'n', 'i', 'h', 'y', 'o', 'd', 'a', ' ', '.', 'T', 'f'}\n",
            "TESTING editdistance:  46468/1321 = 35.176\n",
            "[23] Test loss: 120.60, avg char count: 42.867\n",
            "100%|\u001b[32m██████████\u001b[39m| 376/376 [01:35<00:00,  3.92it/s]\n",
            "TRAINING. editdistance: 432167/12032=35.918\n",
            "[24] Train loss: 1088.32, avg. char count=43.230\n",
            "Output=a eti ae e e \"\t Label=be accepted by both East and West . \"\n",
            "Output=ageae \t Label=was 800 feet high above the sea level ! The\n",
            "Output=to  a a ee a \t Label=from George Anson Byron , whom she had\n",
            "Output=oyeo  e \t Label=and other major questions , Mr. Jack Cooper\n",
            "Output=oaee d\t Label=from his pocket . \" At a price , \" he concluded ,\n",
            "Output=a  ag eg ea  eg e\t Label=thread . Catch long end of thread ( Fig. 2 ) .\n",
            "Output=o  e o eo \t Label=All groups except families with four or more children\n",
            "Output=o e oeo e age\t Label=the herring must continue to migrate over\n",
            "Output=o e a  ee\t Label=In China , for instance , dried rats are esteemed\n",
            "Learnt 19 characters: {'e', 'g', 't', \"'\", 'l', 'p', ',', 'M', '\"', 'i', 'h', 'y', 'o', 'd', 'a', ' ', '.', 'T', 'f'}\n",
            "TESTING editdistance:  47384/1321 = 35.870\n",
            "[24] Test loss: 120.49, avg char count: 42.867\n",
            "100%|\u001b[32m██████████\u001b[39m| 376/376 [01:36<00:00,  3.90it/s]\n",
            "TRAINING. editdistance: 430901/12032=35.813\n",
            "[25] Train loss: 1084.68, avg. char count=43.230\n",
            "Output=a e a o \t Label=Group Captain . But Broughtons stood his ground . \" No ,\n",
            "Output=aae e ee\t Label=mischief perpetrated by almost every person\n",
            "Output=gg  t\t Label=to go on .\n",
            "Output=aaee eo .\t Label=compartments but over the years it builds up ,\n",
            "Output=a e  ae  e ee.\t Label=streets and wet pavements , the school play-\n",
            "Output=a ea e\t Label=of the people is the supreme law \" ) reports : \" The\n",
            "Output=e  e e e e,\t Label=# Khruschev , was also taken to the\n",
            "Output=T.\t Label=Federal Government were getting valuable experience in\n",
            "Output=eea ea e  eyd\t Label=taken a town in the industrial North of\n",
            "Learnt 20 characters: {'e', 'g', 't', \"'\", 'l', ',', 'p', 'M', '\"', 'n', 'i', 'h', 'y', 'o', 'd', 'a', ' ', '.', 'T', 'f'}\n",
            "TESTING editdistance:  47749/1321 = 36.146\n",
            "[25] Test loss: 120.66, avg char count: 42.867\n",
            "100%|\u001b[32m██████████\u001b[39m| 376/376 [01:36<00:00,  3.90it/s]\n",
            "TRAINING. editdistance: 431634/12032=35.874\n",
            "[26] Train loss: 1084.32, avg. char count=43.230\n",
            "Output= e   ee e eef\t Label=We dip into both , at the Seder . And we want to understand\n",
            "Output=eff   ff .\t Label=of Chiefs .\n",
            "Output=te o a e o eg e\t Label=Stepmother Ann Todd and doctor Christopher Lee are\n",
            "Output=teoeo e e  e e\t Label=his chief a report on his talks with Mr.\n",
            "Output=fe o e  e e e e .\t Label=\" My white or my black ? \" Nigel enquired .\n",
            "Output=et e  e yee\"\t Label=could render simple part-singing tolerably well .\n",
            "Output=e  aeoe ee\t Label=upward and shook his head slowly from\n",
            "Output=.\t Label=table .\n",
            "Output=e e e e oy e \t Label=therefore in essence a forced payment whose\n",
            "Learnt 20 characters: {'e', 'g', 't', 'l', 'p', ',', 'M', 'b', '\"', 'n', 'i', 'h', 'y', 'o', 'd', 'a', ' ', '.', 'T', 'f'}\n",
            "TESTING editdistance:  45405/1321 = 34.372\n",
            "[26] Test loss: 120.82, avg char count: 42.867\n",
            "100%|\u001b[32m██████████\u001b[39m| 376/376 [01:36<00:00,  3.90it/s]\n",
            "TRAINING. editdistance: 432168/12032=35.918\n",
            "[27] Train loss: 1082.69, avg. char count=43.230\n",
            "Output=\t Label=Scot . The Lord Chancellor is a Scot . The Prime Minister is a\n",
            "Output=tete  o e yeoe e e e\t Label=matter what was being said because she was\n",
            "Output=poe  el e e  eeg .\t Label=public of the change .\n",
            "Output=tee eo a ee\t Label=W.C.U. by threatening to loose off one of his\n",
            "Output=o   e o e e  ee\t Label=for an instinctive sense of danger .\n",
            "Output=ee eo e e eg.\t Label=ment and Satanic debauchery .\n",
            "Output=\t Label=DECEASED FRIEND TO ZANTE ... . . ' IF TRELAWNY\n",
            "Output=te  a e oe e e e\t Label=Even if you 're wrong you 'll most certainly be in danger when\n",
            "Output=pee  ee e oe ege et\t Label=provisions of Schedule D taxation which not only allowed her\n",
            "Learnt 20 characters: {'e', 'g', 't', 'l', 'p', ',', 'M', 'b', '\"', 'n', 'i', 'h', 'y', 'o', 'd', 'a', ' ', '.', 'T', 'f'}\n",
            "Best model seen [44748.00], saving weights...\n",
            "TESTING editdistance:  44748/1321 = 33.874\n",
            "[27] Test loss: 120.96, avg char count: 42.867\n",
            "100%|\u001b[32m██████████\u001b[39m| 376/376 [01:36<00:00,  3.90it/s]\n",
            "TRAINING. editdistance: 430800/12032=35.805\n",
            "[28] Train loss: 1080.18, avg. char count=43.230\n",
            "Output=T oe  oe o e\t Label=After all it 's them we 're supposed to be\n",
            "Output=o eaye e   \"\t Label=a stop to it . \"\n",
            "Output=eo e o  ae\t Label=American leadership . But a big role has been\n",
            "Output=a ea eae fo \t Label=Shorty .\n",
            "Output=oe a e a g \t Label=told us that there was nothing an Englishman\n",
            "Output=ooy o e a ee   et\t Label=creep down along her smooth muscles till he lost\n",
            "Output=y  ee e.\t Label=Yesterday Sir Roy's chief aide , Mr.\n",
            "Output=o e o eg e a t\t Label=Hewitt it was madness to go on worrying about her , he\n",
            "Output=Te ae eeo e\t Label=They will not work in union . If physical power , spiritual power\n",
            "Learnt 20 characters: {'e', 'g', 't', 'l', 'p', ',', 'M', 'b', '\"', 'i', 'I', 'h', 'y', 'o', 'd', 'a', ' ', '.', 'T', 'f'}\n",
            "TESTING editdistance:  46558/1321 = 35.245\n",
            "[28] Test loss: 119.99, avg char count: 42.867\n",
            "100%|\u001b[32m██████████\u001b[39m| 376/376 [01:36<00:00,  3.90it/s]\n",
            "TRAINING. editdistance: 430824/12032=35.807\n",
            "[29] Train loss: 1080.19, avg. char count=43.230\n",
            "Output=a e  ea ee t\t Label=central nervous system and is liable to produce physical\n",
            "Output=eaye ie ge ed\t Label=Against these advantages the codex was fragile and\n",
            "Output=e e   e ee ey\t Label=helped build up Nato and rearm Western Germany ,\n",
            "Output=pe  a eo tie \t Label=prominence , it may be that we can\n",
            "Output=    gaaa e ed\t Label=Furthermore , developments in the detail form of\n",
            "Output=ae ge  e g e .\t Label=about the nuptial arrangements .\n",
            "Output=ta a e oa  e\t Label=Suddenly he crouched forward . \" Broughtons , if I thought\n",
            "Output= aea e \t Label=laboratories and offices , and the expected but\n",
            "Output=taee  e ee\t Label=households containing children reduced their consumption\n",
            "Learnt 21 characters: {'e', 'g', 't', 'l', 'p', ',', 'M', 'b', '\"', 'n', 'i', 'I', 'h', 'y', 'o', 'd', 'a', ' ', '.', 'T', 'f'}\n",
            "TESTING editdistance:  46741/1321 = 35.383\n",
            "[29] Test loss: 119.92, avg char count: 42.867\n",
            "100%|\u001b[32m██████████\u001b[39m| 376/376 [01:36<00:00,  3.89it/s]\n",
            "TRAINING. editdistance: 431031/12032=35.824\n",
            "[30] Train loss: 1077.41, avg. char count=43.230\n",
            "Output=Teo e  ea \t Label=This resulted in the oxidation of the\n",
            "Output=po  oa e a  e e\t Label=for a new hiding-place . He lay in bed ,\n",
            "Output=to   ae  ee\t Label=Fanny her first lover is a sailor who leaves\n",
            "Output=teege  e aa  toet\t Label=Belgium , bowed down by internal\n",
            "Output=o  ae a e o h\t Label=the sun , but regarding foodstuffs the\n",
            "Output=po  eo a e teeed\t Label=for his services , but all Mr Hobhouse's duties\n",
            "Output=b a ee e yg e he\t Label=had been deemed necessary all the\n",
            "Output=gae e ae \t Label=fumbled for his contract before thrusting the\n",
            "Output=e a   aote.\t Label=regular National Assistance grants .\n",
            "Learnt 21 characters: {'e', 'g', 't', \"'\", 'l', 'p', ',', 'M', 'b', '\"', 'n', 'i', 'h', 'y', 'o', 'd', 'a', ' ', '.', 'T', 'f'}\n",
            "TESTING editdistance:  45644/1321 = 34.553\n",
            "[30] Test loss: 120.20, avg char count: 42.867\n",
            "100%|\u001b[32m██████████\u001b[39m| 376/376 [01:36<00:00,  3.90it/s]\n",
            "TRAINING. editdistance: 431158/12032=35.834\n",
            "[31] Train loss: 1076.58, avg. char count=43.230\n",
            "Output=e  oea e e e\t Label=and the great advantages to be derived from\n",
            "Output=\t Label=\" Ban-the-Bomb \" demonstrators . Police leave\n",
            "Output=pa  te ea e ethe\t Label=precipitates need be known because the concentration\n",
            "Output=thee  gthtaa ae o ee a h\t Label=Mauro's first action was to write to his\n",
            "Output=.\t Label=table .\n",
            "Output=e te ae a e  .\t Label=of Radicalism , & then God knows what may happen ... .\n",
            "Output=a ea e e  ehef\t Label=her packages . This sister was able to establish\n",
            "Output=\t Label=HAD NO SOONER HEARD FROM COUNT GAMBA AND\n",
            "Output=Ma ege  a  e  e  e e\t Label=be analysed into discrete bits . These bits were\n",
            "Learnt 21 characters: {'e', 'g', 't', 'l', 'p', ',', 'M', 'b', '\"', 'n', 'i', 'I', 'h', 'y', 'o', 'd', 'a', ' ', '.', 'T', 'f'}\n",
            "TESTING editdistance:  44896/1321 = 33.986\n",
            "[31] Test loss: 120.40, avg char count: 42.867\n",
            "100%|\u001b[32m██████████\u001b[39m| 376/376 [01:36<00:00,  3.90it/s]\n",
            "TRAINING. editdistance: 431221/12032=35.840\n",
            "[32] Train loss: 1073.42, avg. char count=43.230\n",
            "Output=o e  e age  oe\t Label=to her , Dan . \" \" She 'll be all right . It 's the\n",
            "Output= aeoe e\t Label=The journey has been against me , as there has\n",
            "Output=e fo e  ega  e\t Label=A pleasant life truly ! ... It so happens that I have\n",
            "Output= e geoe e et\t Label=a tinkle and a thud from beside the coat cupboard . Cecil's\n",
            "Output=epe ooeo ee oe\t Label=in those years more than busy . We now had a vicarage next\n",
            "Output=Ta oegat  \t Label=I don't accept his good faith . \" He said\n",
            "Output=ete e oa eeet\t Label=also effectively around . They provide some chilly red\n",
            "Output=o te  aeoee et\t Label=their bright friendly heads turned\n",
            "Output=ethig   e \t Label=couple struggling in a first-class\n",
            "Learnt 21 characters: {'e', 'g', 't', 'l', 'p', ',', 'M', 'b', '\"', 'n', 'i', 'I', 'h', 'y', 'o', 'd', 'a', ' ', '.', 'T', 'f'}\n",
            "TESTING editdistance:  45783/1321 = 34.658\n",
            "[32] Test loss: 119.33, avg char count: 42.867\n",
            "100%|\u001b[32m██████████\u001b[39m| 376/376 [01:36<00:00,  3.88it/s]\n",
            "TRAINING. editdistance: 429697/12032=35.713\n",
            "[33] Train loss: 1071.89, avg. char count=43.230\n",
            "Output=e e g  ge ehe .\t Label=I 'll tell you if you need help .\n",
            "Output=te  ote  e e\t Label=All groups except families with four or more children\n",
            "Output=Tee e a e e\t Label=Renoir girl who expects everything from\n",
            "Output=ae ye e eag e e eel\t Label=women but yet moved by a strong maternal instinct to\n",
            "Output=a e  heoee\t Label=( or to Moke ) , there was a vacuum where there should\n",
            "Output=ag t e e  e \t Label=enjoyed it as much as his health\n",
            "Output=eege a a e ee\t Label=pushing at the stern , the yawl was soon\n",
            "Output=Tee e o aeo ee\t Label=The Minister regards the recent trend\n",
            "Output=e   ag eg ee  eg e\t Label=thread . Catch long end of thread ( Fig. 2 ) .\n",
            "Learnt 21 characters: {'e', 'g', 't', 'l', 'p', ',', 'M', 'b', '\"', 'n', 'i', 'I', 'h', 'y', 'o', 'd', 'a', ' ', '.', 'T', 'f'}\n",
            "TESTING editdistance:  45717/1321 = 34.608\n",
            "[33] Test loss: 119.43, avg char count: 42.867\n",
            "100%|\u001b[32m██████████\u001b[39m| 376/376 [01:36<00:00,  3.89it/s]\n",
            "TRAINING. editdistance: 430652/12032=35.792\n",
            "[34] Train loss: 1068.56, avg. char count=43.230\n",
            "Output=tee eteee eeyey\t Label=Sir Francis Burdett described to Anglesey\n",
            "Output=e o eye  e e et\t Label=career that Anna Neagle and Herbert Wilcox were not\n",
            "Output=tef ee  e e e\t Label=from appreciable motives . The rest , one feels , were\n",
            "Output=et eg e e egte.\t Label=midst of plenty . Help will not be easily forth-\n",
            "Output=o  ee e te\t Label=sex ( what else would they joke\n",
            "Output=ae e eoe\t Label=cold and uneasy , unable to account\n",
            "Output=oegee te ee,\t Label=steadily and looked about the room ,\n",
            "Output=oo ee  .\t Label=was hurt for herself .\n",
            "Output=eg e eef\t Label=be party to accepting as a matter of\n",
            "Learnt 20 characters: {'e', 'g', 't', 'l', ',', 'p', 'M', 'b', '\"', 'n', 'i', 'h', 'y', 'o', 'd', 'a', ' ', '.', 'T', 'f'}\n",
            "TESTING editdistance:  46339/1321 = 35.079\n",
            "[34] Test loss: 118.64, avg char count: 42.867\n",
            "100%|\u001b[32m██████████\u001b[39m| 376/376 [01:36<00:00,  3.89it/s]\n",
            "TRAINING. editdistance: 429558/12032=35.701\n",
            "[35] Train loss: 1067.74, avg. char count=43.230\n",
            "Output= ae e e  e\t Label=with a deeply thoughtful expression on his face .\n",
            "Output=tae ye  ee ee\t Label=The libretto , by W. H. Auden and Chester Kallman ,\n",
            "Output=ti  a  ae\t Label=The most clearly substantiated case\n",
            "Output=a e o eee\t Label=Mr. Wilson's offer in mind . Guy Eden writes :\n",
            "Output=o e o  eeehe\t Label=country lawyer , and we were very small 4microdebs , weren't we ,\n",
            "Output=tatt .\t Label=Earlier , on the Palladium show I found Stanley\n",
            "Output=ee  ge\t Label=making fabric pictures or designs .\n",
            "Output=ta ea    ge\t Label=Ever been out in a submarine ? I 'll give\n",
            "Output=o o eete t\t Label=anybody supporting the increased charges is a\n",
            "Learnt 21 characters: {'e', 'g', 't', 'l', 'p', ',', 'M', 'b', '\"', 'n', 'i', 'I', 'h', 'y', 'o', 'd', 'a', ' ', '.', 'T', 'f'}\n",
            "TESTING editdistance:  47119/1321 = 35.669\n",
            "[35] Test loss: 118.23, avg char count: 42.867\n",
            "100%|\u001b[32m██████████\u001b[39m| 376/376 [01:37<00:00,  3.88it/s]\n",
            "TRAINING. editdistance: 428099/12032=35.580\n",
            "[36] Train loss: 1065.90, avg. char count=43.230\n",
            "Output=ag  e  ea e ete  e\t Label=wording . It is not possible to establish any one\n",
            "Output=a a aa e   \t Label=shown themselves seventeen years before had had the\n",
            "Output=a g a \t Label=or in flagging warmer ones . At the time of its movement\n",
            "Output=oea g ga  e  .\t Label=substantially higher last year than in 1959 .\n",
            "Output=a ee o eee e \t Label=we face life boldly , many of the shadows are\n",
            "Output=a  otangpe ee  ent\t Label=the stop-watch manufacturing methods that\n",
            "Output=Tot gaeg ee ehg\t Label=Not so long ago older folk were reminding\n",
            "Output=    gaa   a e e d\t Label=Furthermore , developments in the detail form of\n",
            "Output=ta t t ea ta a a eg \t Label=fared badly . They are now faced with four other by-\n",
            "Learnt 21 characters: {'e', 'g', 't', 'l', 'p', ',', 'M', 'b', '\"', 'n', 'i', 'I', 'h', 'y', 'o', 'd', 'a', ' ', '.', 'T', 'f'}\n",
            "TESTING editdistance:  45676/1321 = 34.577\n",
            "[36] Test loss: 118.73, avg char count: 42.867\n",
            "100%|\u001b[32m██████████\u001b[39m| 376/376 [01:37<00:00,  3.87it/s]\n",
            "TRAINING. editdistance: 427814/12032=35.556\n",
            "[37] Train loss: 1062.89, avg. char count=43.230\n",
            "Output=fa  et t ed\t Label=And he indicated that his Government\n",
            "Output=\t Label=\" Ban-the-Bomb \" demonstrators . Police leave\n",
            "Output=ee e ege\t Label=making fabric pictures or designs .\n",
            "Output=at ggh ee  he\t Label=on the point of death , the new German curative method\n",
            "Output=ta tta fa e e \t Label=to entertain for an instant the idea , the\n",
            "Output=eg teee \t Label=large quantities of morphine and heroin\n",
            "Output=a pgo e eee e \t Label=birds figure in press advertisements , their\n",
            "Output=a ee  e ee.\t Label=\" My white or my black ? \" Nigel enquired .\n",
            "Output=te ee o  e ee \t Label=the ground as well as in midwater and\n",
            "Learnt 21 characters: {'e', 'g', 't', 'l', 'p', ',', 'M', 'b', '\"', 'n', 'i', 'I', 'h', 'y', 'o', 'd', 'a', ' ', '.', 'T', 'f'}\n",
            "TESTING editdistance:  45712/1321 = 34.604\n",
            "[37] Test loss: 117.89, avg char count: 42.867\n",
            "100%|\u001b[32m██████████\u001b[39m| 376/376 [01:37<00:00,  3.86it/s]\n",
            "TRAINING. editdistance: 424643/12032=35.293\n",
            "[38] Train loss: 1057.96, avg. char count=43.230\n",
            "Output=ae\t Label=Government was to denounce the United\n",
            "Output=e, ge\t Label=making fabric pictures or designs .\n",
            "Output=e gatea g e\t Label=Moreover he might well have been aware of his\n",
            "Output=i  e ee eeeey\t Label=of Mr. Healey , \" Shadow \" Foreign Secretary ,\n",
            "Output=\t Label=radio-lead and the added lead carrier is\n",
            "Output=a  tatge ee et\t Label=the stop-watch manufacturing methods that\n",
            "Output=\t Label=acid in silica basins . The contents\n",
            "Output=yaa  eg \t Label=The storage problem puts clay pots at a\n",
            "Output=eea e  aeg eeg\t Label=objectionable to have the family history\n",
            "Learnt 21 characters: {'e', 'g', 't', 'l', ',', 'p', 'M', 'b', '\"', 'n', 'i', 'I', 'h', 'y', 'o', 'd', 'a', ' ', '.', 'T', 'f'}\n",
            "TESTING editdistance:  47956/1321 = 36.303\n",
            "[38] Test loss: 118.12, avg char count: 42.867\n",
            "100%|\u001b[32m██████████\u001b[39m| 376/376 [01:37<00:00,  3.85it/s]\n",
            "TRAINING. editdistance: 422189/12032=35.089\n",
            "[39] Train loss: 1054.90, avg. char count=43.230\n",
            "Output=o ef e e g \t Label=is incoherently , clumsily , but half shyly and\n",
            "Output=tfte.\t Label=Government's frequent appeals to the electorate .\n",
            "Output=Toee e e eeee\t Label=made this century is the way in which illness\n",
            "Output=fa eeee eee e\t Label=In A Taste of Honey Mr. Richardson has\n",
            "Output=Toyeg  e eg e\t Label=\" Another was the body fetching up on the mooring-hook - practically where\n",
            "Output=iga e  e  e e \t Label=dangerous drugs and to direct that such a doctor , or a doctor\n",
            "Output=.\t Label=them .\n",
            "Output=e e a te.\t Label=regular National Assistance grants .\n",
            "Output=ee ee  e y eeg\t Label=statistical statement - and ended by inciting\n",
            "Learnt 21 characters: {'e', 'g', 't', 'l', 'p', ',', 'M', 'b', '\"', 'n', 'i', 'I', 'h', 'y', 'o', 'd', 'a', ' ', '.', 'T', 'f'}\n",
            "TESTING editdistance:  46591/1321 = 35.269\n",
            "[39] Test loss: 116.74, avg char count: 42.867\n",
            "100%|\u001b[32m██████████\u001b[39m| 376/376 [01:37<00:00,  3.87it/s]\n",
            "TRAINING. editdistance: 419066/12032=34.829\n",
            "[40] Train loss: 1051.17, avg. char count=43.230\n",
            "Output=poee e fe e  e e\t Label=patients Mr. Powell should take ruthless\n",
            "Output=foeg  eh a e  e\t Label=Purley she offered to come and look after me . She was\n",
            "Output=ogge e f  e\t Label=groping after wads of five\n",
            "Output=a t  ha  ag pet  ged\t Label=outcome that the Nazis evidently hoped might\n",
            "Output=eta g a e\t Label=that television makes its appeal to those of lesser\n",
            "Output=ee eef  te e e eed\t Label=dipped slightly . The needle of the speed\n",
            "Output=o e e e tetd\t Label=from his pocket . \" At a price , \" he concluded ,\n",
            "Output=ae   eeae e ee\t Label=diligently unto my commandments , which I command\n",
            "Output=Tag  y ee e e \t Label=They only worked , of course , a five-\n",
            "Learnt 21 characters: {'e', 'g', 't', 'l', 'p', ',', 'M', 'b', '\"', 'n', 'i', 'I', 'h', 'y', 'o', 'd', 'a', ' ', '.', 'T', 'f'}\n",
            "Best model seen [43791.00], saving weights...\n",
            "TESTING editdistance:  43791/1321 = 33.150\n",
            "[40] Test loss: 116.66, avg char count: 42.867\n",
            " 57%|\u001b[32m█████▋    \u001b[39m| 213/376 [00:55<00:43,  3.79it/s]"
          ],
          "name": "stdout"
        }
      ]
    },
    {
      "cell_type": "code",
      "metadata": {
        "id": "QfsgYTF6piFD"
      },
      "source": [
        "torch.save(model.state_dict(), \"/content/gdrive/MyDrive/PerfViT_IAM.pth\")"
      ],
      "execution_count": 45,
      "outputs": []
    },
    {
      "cell_type": "code",
      "metadata": {
        "colab": {
          "base_uri": "https://localhost:8080/"
        },
        "id": "SxHPRqeUOGCi",
        "outputId": "28c866da-5197-4c75-f462-77901fd3ebb2"
      },
      "source": [
        "data['image'].shape"
      ],
      "execution_count": 76,
      "outputs": [
        {
          "output_type": "execute_result",
          "data": {
            "text/plain": [
              "(50, 500)"
            ]
          },
          "metadata": {
            "tags": []
          },
          "execution_count": 76
        }
      ]
    },
    {
      "cell_type": "code",
      "metadata": {
        "id": "C8_TGWeOg9LY"
      },
      "source": [
        "count=0\n",
        "COUNT=40\n",
        "for x_val, y_val in val_loader:\n",
        "    batch_size = x_val.shape[0]\n",
        "    # x_val = x_val.view(x_val.shape[0], 1, x_val.shape[2], -1)\n",
        "    t, l = encoder.encode(y_val)\n",
        "\n",
        "    with torch.set_grad_enabled(False):\n",
        "        y_pred = model(x_val.cuda())\n",
        "\n",
        "    y_pred = y_pred.permute(1, 0, 2)\n",
        "    _, max_index = torch.max(y_pred, dim=2)\n",
        "    for i in range(batch_size):\n",
        "        raw_prediction = list(max_index[:, i].detach().cpu().numpy())\n",
        "        prediction = torch.IntTensor([c for c, _ in groupby(raw_prediction) if c != blank_label])\n",
        "        try:\n",
        "          if len(prediction):\n",
        "            text = ''.join([vocab[k] for k in prediction])\n",
        "            print(f\"Output={text},\\t Label={y_val[i]}\")\n",
        "        except IndexError:\n",
        "          pass\n",
        "        count += 1\n",
        "    if count > COUNT:\n",
        "      break"
      ],
      "execution_count": null,
      "outputs": []
    },
    {
      "cell_type": "code",
      "metadata": {
        "id": "Xc8zIYjNK7Tl"
      },
      "source": [
        "from einops.layers.torch import Rearrange"
      ],
      "execution_count": null,
      "outputs": []
    },
    {
      "cell_type": "code",
      "metadata": {
        "id": "E1Xc038jMEqj"
      },
      "source": [
        "img = torch.randn(1,1,32,512)"
      ],
      "execution_count": null,
      "outputs": []
    },
    {
      "cell_type": "code",
      "metadata": {
        "id": "nYmLPTg-LD35"
      },
      "source": [
        "R = Rearrange('b c (h p1) (w p2) -> b (h w) (p1 p2 c)', p1 = 32, p2 = 8)"
      ],
      "execution_count": null,
      "outputs": []
    },
    {
      "cell_type": "code",
      "metadata": {
        "colab": {
          "base_uri": "https://localhost:8080/"
        },
        "id": "fJcYQ_2pLcHM",
        "outputId": "29bc8771-7f80-443f-d0fe-3658053431f1"
      },
      "source": [
        "r = R(img)\n",
        "r.shape"
      ],
      "execution_count": null,
      "outputs": [
        {
          "output_type": "execute_result",
          "data": {
            "text/plain": [
              "torch.Size([1, 64, 256])"
            ]
          },
          "metadata": {
            "tags": []
          },
          "execution_count": 49
        }
      ]
    },
    {
      "cell_type": "code",
      "metadata": {
        "colab": {
          "base_uri": "https://localhost:8080/"
        },
        "id": "FPH9IKpiPY--",
        "outputId": "fd05e415-3e07-4b3c-dba1-7e420d8a6c08"
      },
      "source": [
        "transformer = Performer(\n",
        "    dim=512,\n",
        "    depth=1,\n",
        "    heads=8,\n",
        "    dim_head=64,\n",
        "    causal=True\n",
        ")"
      ],
      "execution_count": null,
      "outputs": [
        {
          "output_type": "stream",
          "text": [
            "unable to import cuda code for auto-regressive Performer. will default to the memory inefficient non-cuda version\n"
          ],
          "name": "stdout"
        }
      ]
    },
    {
      "cell_type": "code",
      "metadata": {
        "id": "RhUC8ZpNgadx"
      },
      "source": [
        "model = ViT(\n",
        "    image_size=512,\n",
        "    patch_size=8,\n",
        "    num_classes=11,\n",
        "    dim=512,\n",
        "    channels=1,\n",
        "    transformer=transformer,\n",
        ")"
      ],
      "execution_count": null,
      "outputs": []
    },
    {
      "cell_type": "code",
      "metadata": {
        "colab": {
          "base_uri": "https://localhost:8080/"
        },
        "id": "QWToGENDhFfk",
        "outputId": "7eb8e396-1bba-4fa8-a047-4110ab7c0af6"
      },
      "source": [
        "model"
      ],
      "execution_count": null,
      "outputs": [
        {
          "output_type": "execute_result",
          "data": {
            "text/plain": [
              "ViT(\n",
              "  (to_patch_embedding): Sequential(\n",
              "    (0): Rearrange('b c (h p1) (w p2) -> b (h w) (p1 p2 c)', p1=8, p2=8)\n",
              "    (1): Linear(in_features=64, out_features=512, bias=True)\n",
              "  )\n",
              "  (transformer): Performer(\n",
              "    (net): SequentialSequence(\n",
              "      (layers): ModuleList(\n",
              "        (0): ModuleList(\n",
              "          (0): PreLayerNorm(\n",
              "            (norm): LayerNorm((512,), eps=1e-05, elementwise_affine=True)\n",
              "            (fn): SelfAttention(\n",
              "              (fast_attention): FastAttention(\n",
              "                (kernel_fn): ReLU()\n",
              "              )\n",
              "              (to_q): Linear(in_features=512, out_features=512, bias=True)\n",
              "              (to_k): Linear(in_features=512, out_features=512, bias=True)\n",
              "              (to_v): Linear(in_features=512, out_features=512, bias=True)\n",
              "              (to_out): Linear(in_features=512, out_features=512, bias=True)\n",
              "              (dropout): Dropout(p=0.0, inplace=False)\n",
              "            )\n",
              "          )\n",
              "          (1): PreLayerNorm(\n",
              "            (norm): LayerNorm((512,), eps=1e-05, elementwise_affine=True)\n",
              "            (fn): Chunk(\n",
              "              (fn): FeedForward(\n",
              "                (w1): Linear(in_features=512, out_features=2048, bias=True)\n",
              "                (act): GELU()\n",
              "                (dropout): Dropout(p=0.0, inplace=False)\n",
              "                (w2): Linear(in_features=2048, out_features=512, bias=True)\n",
              "              )\n",
              "            )\n",
              "          )\n",
              "        )\n",
              "      )\n",
              "    )\n",
              "    (proj_updater): ProjectionUpdater(\n",
              "      (instance): SequentialSequence(\n",
              "        (layers): ModuleList(\n",
              "          (0): ModuleList(\n",
              "            (0): PreLayerNorm(\n",
              "              (norm): LayerNorm((512,), eps=1e-05, elementwise_affine=True)\n",
              "              (fn): SelfAttention(\n",
              "                (fast_attention): FastAttention(\n",
              "                  (kernel_fn): ReLU()\n",
              "                )\n",
              "                (to_q): Linear(in_features=512, out_features=512, bias=True)\n",
              "                (to_k): Linear(in_features=512, out_features=512, bias=True)\n",
              "                (to_v): Linear(in_features=512, out_features=512, bias=True)\n",
              "                (to_out): Linear(in_features=512, out_features=512, bias=True)\n",
              "                (dropout): Dropout(p=0.0, inplace=False)\n",
              "              )\n",
              "            )\n",
              "            (1): PreLayerNorm(\n",
              "              (norm): LayerNorm((512,), eps=1e-05, elementwise_affine=True)\n",
              "              (fn): Chunk(\n",
              "                (fn): FeedForward(\n",
              "                  (w1): Linear(in_features=512, out_features=2048, bias=True)\n",
              "                  (act): GELU()\n",
              "                  (dropout): Dropout(p=0.0, inplace=False)\n",
              "                  (w2): Linear(in_features=2048, out_features=512, bias=True)\n",
              "                )\n",
              "              )\n",
              "            )\n",
              "          )\n",
              "        )\n",
              "      )\n",
              "    )\n",
              "  )\n",
              "  (to_latent): Identity()\n",
              "  (mlp_head): Sequential(\n",
              "    (0): LayerNorm((512,), eps=1e-05, elementwise_affine=True)\n",
              "    (1): Linear(in_features=512, out_features=11, bias=True)\n",
              "  )\n",
              ")"
            ]
          },
          "metadata": {
            "tags": []
          },
          "execution_count": 30
        }
      ]
    },
    {
      "cell_type": "code",
      "metadata": {
        "id": "ectw_Xg4P1ki"
      },
      "source": [
        "x = torch.randn(1, 16, 32)"
      ],
      "execution_count": null,
      "outputs": []
    },
    {
      "cell_type": "code",
      "metadata": {
        "colab": {
          "base_uri": "https://localhost:8080/",
          "height": 232
        },
        "id": "j_w4SsI7VYRx",
        "outputId": "d78868a3-3281-4782-955d-a49dc32be5e1"
      },
      "source": [
        "plt.imshow(x.squeeze(0), cmap='gray')"
      ],
      "execution_count": null,
      "outputs": [
        {
          "output_type": "execute_result",
          "data": {
            "text/plain": [
              "<matplotlib.image.AxesImage at 0x7faec1a93690>"
            ]
          },
          "metadata": {
            "tags": []
          },
          "execution_count": 41
        },
        {
          "output_type": "display_data",
          "data": {
            "image/png": "[encoded data removed]",
            "text/plain": [
              "<Figure size 432x288 with 1 Axes>"
            ]
          },
          "metadata": {
            "tags": [],
            "needs_background": "light"
          }
        }
      ]
    },
    {
      "cell_type": "code",
      "metadata": {
        "colab": {
          "base_uri": "https://localhost:8080/"
        },
        "id": "b0yhZqOSP9SO",
        "outputId": "1029b3fc-8736-4560-fa1f-583bfbe7905b"
      },
      "source": [
        "out = model(x.unsqueeze(0))\n",
        "out.shape"
      ],
      "execution_count": null,
      "outputs": [
        {
          "output_type": "execute_result",
          "data": {
            "text/plain": [
              "torch.Size([1, 11])"
            ]
          },
          "metadata": {
            "tags": []
          },
          "execution_count": 43
        }
      ]
    },
    {
      "cell_type": "code",
      "metadata": {
        "colab": {
          "base_uri": "https://localhost:8080/"
        },
        "id": "8PRIMaTXVmJg",
        "outputId": "27656d29-1b57-44d9-fd63-a33463364afd"
      },
      "source": [
        "out"
      ],
      "execution_count": null,
      "outputs": [
        {
          "output_type": "execute_result",
          "data": {
            "text/plain": [
              "tensor([[ 1.8996, -0.0451,  0.5881, -0.6383, -0.5154, -0.7162, -0.1623,  0.5851,\n",
              "         -0.4277,  0.7611,  0.6347]], grad_fn=<AddmmBackward>)"
            ]
          },
          "metadata": {
            "tags": []
          },
          "execution_count": 44
        }
      ]
    },
    {
      "cell_type": "code",
      "metadata": {
        "id": "Wb2_WdTIP_CH"
      },
      "source": [
        ""
      ],
      "execution_count": null,
      "outputs": []
    },
    {
      "cell_type": "code",
      "metadata": {
        "id": "7m9w4VzoPjDt"
      },
      "source": [
        ""
      ],
      "execution_count": null,
      "outputs": []
    }
  ]
}