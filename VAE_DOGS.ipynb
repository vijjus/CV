{
  "nbformat": 4,
  "nbformat_minor": 0,
  "metadata": {
    "kernelspec": {
      "display_name": "Python 3",
      "language": "python",
      "name": "python3"
    },
    "language_info": {
      "codemirror_mode": {
        "name": "ipython",
        "version": 3
      },
      "file_extension": ".py",
      "mimetype": "text/x-python",
      "name": "python",
      "nbconvert_exporter": "python",
      "pygments_lexer": "ipython3",
      "version": "3.6.9"
    },
    "colab": {
      "name": "VAE_DOGS.ipynb",
      "provenance": [],
      "include_colab_link": true
    },
    "accelerator": "GPU"
  },
  "cells": [
    {
      "cell_type": "markdown",
      "metadata": {
        "id": "view-in-github",
        "colab_type": "text"
      },
      "source": [
        "<a href=\"https://colab.research.google.com/github/vijjus/CV/blob/master/VAE_DOGS.ipynb\" target=\"_parent\"><img src=\"https://colab.research.google.com/assets/colab-badge.svg\" alt=\"Open In Colab\"/></a>"
      ]
    },
    {
      "cell_type": "code",
      "metadata": {
        "id": "yngMRSwV2ntF",
        "colab_type": "code",
        "outputId": "1c3c0fa9-7a20-482b-a7f0-a4aea5ba8ea8",
        "colab": {
          "base_uri": "https://localhost:8080/",
          "height": 306
        }
      },
      "source": [
        "gpu_info = !nvidia-smi\n",
        "gpu_info = '\\n'.join(gpu_info)\n",
        "if gpu_info.find('failed') >= 0:\n",
        "  print('Select the Runtime > \"Change runtime type\" menu to enable a GPU accelerator, ')\n",
        "  print('and then re-execute this cell.')\n",
        "else:\n",
        "  print(gpu_info)"
      ],
      "execution_count": 1,
      "outputs": [
        {
          "output_type": "stream",
          "text": [
            "Thu Jun  4 22:28:49 2020       \n",
            "+-----------------------------------------------------------------------------+\n",
            "| NVIDIA-SMI 440.82       Driver Version: 418.67       CUDA Version: 10.1     |\n",
            "|-------------------------------+----------------------+----------------------+\n",
            "| GPU  Name        Persistence-M| Bus-Id        Disp.A | Volatile Uncorr. ECC |\n",
            "| Fan  Temp  Perf  Pwr:Usage/Cap|         Memory-Usage | GPU-Util  Compute M. |\n",
            "|===============================+======================+======================|\n",
            "|   0  Tesla P100-PCIE...  Off  | 00000000:00:04.0 Off |                    0 |\n",
            "| N/A   35C    P0    25W / 250W |      0MiB / 16280MiB |      0%      Default |\n",
            "+-------------------------------+----------------------+----------------------+\n",
            "                                                                               \n",
            "+-----------------------------------------------------------------------------+\n",
            "| Processes:                                                       GPU Memory |\n",
            "|  GPU       PID   Type   Process name                             Usage      |\n",
            "|=============================================================================|\n",
            "|  No running processes found                                                 |\n",
            "+-----------------------------------------------------------------------------+\n"
          ],
          "name": "stdout"
        }
      ]
    },
    {
      "cell_type": "code",
      "metadata": {
        "id": "fqTjgKeo1s-1",
        "colab_type": "code",
        "colab": {}
      },
      "source": [
        "!echo '3FDsALdx4sLyMedGxO5h:RsdZX1E2jRryINc6Vb5HGpL1FY84lNBXbTNSU8Ln' > ~/.passwd-s3fs"
      ],
      "execution_count": 0,
      "outputs": []
    },
    {
      "cell_type": "code",
      "metadata": {
        "id": "9wxk7d_m1umu",
        "colab_type": "code",
        "outputId": "735063bd-b9a0-47f4-ea8b-b8944e7c4f74",
        "colab": {
          "base_uri": "https://localhost:8080/",
          "height": 34
        }
      },
      "source": [
        "!cat ~/.passwd-s3fs"
      ],
      "execution_count": 3,
      "outputs": [
        {
          "output_type": "stream",
          "text": [
            "3FDsALdx4sLyMedGxO5h:RsdZX1E2jRryINc6Vb5HGpL1FY84lNBXbTNSU8Ln\n"
          ],
          "name": "stdout"
        }
      ]
    },
    {
      "cell_type": "code",
      "metadata": {
        "id": "ik14ptGV1xXS",
        "colab_type": "code",
        "colab": {}
      },
      "source": [
        "!chmod 600 ~/.passwd-s3fs"
      ],
      "execution_count": 0,
      "outputs": []
    },
    {
      "cell_type": "code",
      "metadata": {
        "id": "6r15HMZe1z2G",
        "colab_type": "code",
        "colab": {}
      },
      "source": [
        "!mkdir /s3"
      ],
      "execution_count": 0,
      "outputs": []
    },
    {
      "cell_type": "code",
      "metadata": {
        "id": "p-pGI7AY14HI",
        "colab_type": "code",
        "outputId": "af13efb9-7bee-492d-c77c-41899d81696c",
        "colab": {
          "base_uri": "https://localhost:8080/",
          "height": 289
        }
      },
      "source": [
        "!apt install s3fs"
      ],
      "execution_count": 6,
      "outputs": [
        {
          "output_type": "stream",
          "text": [
            "Reading package lists... Done\n",
            "Building dependency tree       \n",
            "Reading state information... Done\n",
            "The following NEW packages will be installed:\n",
            "  s3fs\n",
            "0 upgraded, 1 newly installed, 0 to remove and 32 not upgraded.\n",
            "Need to get 200 kB of archives.\n",
            "After this operation, 557 kB of additional disk space will be used.\n",
            "Get:1 http://archive.ubuntu.com/ubuntu bionic/universe amd64 s3fs amd64 1.82-1 [200 kB]\n",
            "Fetched 200 kB in 0s (2,311 kB/s)\n",
            "Selecting previously unselected package s3fs.\n",
            "(Reading database ... 144467 files and directories currently installed.)\n",
            "Preparing to unpack .../archives/s3fs_1.82-1_amd64.deb ...\n",
            "Unpacking s3fs (1.82-1) ...\n",
            "Setting up s3fs (1.82-1) ...\n",
            "Processing triggers for man-db (2.8.3-2ubuntu0.1) ...\n"
          ],
          "name": "stdout"
        }
      ]
    },
    {
      "cell_type": "code",
      "metadata": {
        "id": "uSnCPv4Z2QH1",
        "colab_type": "code",
        "colab": {}
      },
      "source": [
        "!s3fs w251-final-project /s3 -o passwd_file=~/.passwd-s3fs,url=https://s3.us.cloud-object-storage.appdomain.cloud"
      ],
      "execution_count": 0,
      "outputs": []
    },
    {
      "cell_type": "code",
      "metadata": {
        "id": "woDxp1_t2dNo",
        "colab_type": "code",
        "outputId": "05f86196-e915-4105-9e7b-512c8c0e9557",
        "colab": {
          "base_uri": "https://localhost:8080/",
          "height": 527
        }
      },
      "source": [
        "!ls /s3"
      ],
      "execution_count": 8,
      "outputs": [
        {
          "output_type": "stream",
          "text": [
            " caption_model.pth.tar\n",
            " CatImages\n",
            " dataset_coco.json.gz\n",
            " delivery.jpg\n",
            " DFDC\n",
            " haderfake.mp4\n",
            " image2.jpeg\n",
            " image3.jpeg\n",
            " image_captioning.ipynb\n",
            " kagglecatsanddogs_3367a.zip\n",
            " kat_ring0.mp4\n",
            " kat_ring1.mp4\n",
            " kat_ring2.mp4\n",
            " kat_ring3.mp4\n",
            " knowns\n",
            " model.pt.zip\n",
            " models.py\n",
            "'MSR-LA - 3467.docx'\n",
            " new_faces.ipynb\n",
            " package.jpg\n",
            " package.mp4\n",
            " PetImages\n",
            " pman.jpg\n",
            " pretrained_weights\n",
            "'readme[1].txt'\n",
            " Reuters_Deepfake.mp4\n",
            " testdir\n",
            " test_imgs\n",
            " uploads\n",
            " WORDMAP_coco_5_cap_per_img_5_min_word_freq.json.gz\n"
          ],
          "name": "stdout"
        }
      ]
    },
    {
      "cell_type": "code",
      "metadata": {
        "id": "VogQx3U51V34",
        "colab_type": "code",
        "colab": {}
      },
      "source": [
        "import torch\n",
        "from torch.autograd import Variable\n",
        "import numpy as np\n",
        "import torch.nn.functional as F\n",
        "import torchvision\n",
        "from torchvision import transforms, datasets\n",
        "import torch.optim as optim\n",
        "from torch import nn\n",
        "import matplotlib.pyplot as plt"
      ],
      "execution_count": 0,
      "outputs": []
    },
    {
      "cell_type": "code",
      "metadata": {
        "id": "uNbmc9cT1V38",
        "colab_type": "code",
        "outputId": "08d91c08-846f-4194-952c-57d4bec23fd5",
        "colab": {
          "base_uri": "https://localhost:8080/",
          "height": 34
        }
      },
      "source": [
        "# Device configuration\n",
        "device = torch.device('cuda' if torch.cuda.is_available() else 'cpu')\n",
        "device"
      ],
      "execution_count": 10,
      "outputs": [
        {
          "output_type": "execute_result",
          "data": {
            "text/plain": [
              "device(type='cuda')"
            ]
          },
          "metadata": {
            "tags": []
          },
          "execution_count": 10
        }
      ]
    },
    {
      "cell_type": "code",
      "metadata": {
        "id": "AmdwI-Xt1V3_",
        "colab_type": "code",
        "colab": {}
      },
      "source": [
        "BATCH_SIZE = 16         # number of data points in each batch\n",
        "N_EPOCHS = 3            # times to run the model on complete data\n",
        "HW_DIM = 64             # height/width \n",
        "INPUT_DIM = HW_DIM * HW_DIM   # size of each input\n",
        "HIDDEN_DIM = 256        # hidden dimension\n",
        "LATENT_DIM = 100        # latent vector dimension\n",
        "lr = 1e-3               # learning rate\n",
        "NC = 3"
      ],
      "execution_count": 0,
      "outputs": []
    },
    {
      "cell_type": "code",
      "metadata": {
        "id": "12U3VubW1V4C",
        "colab_type": "code",
        "colab": {}
      },
      "source": [
        "transform = transforms.Compose([\n",
        "        transforms.Resize(HW_DIM),\n",
        "        transforms.RandomHorizontalFlip(),\n",
        "        transforms.ToTensor(),\n",
        "        transforms.Normalize([0.485], [0.229])\n",
        "    ])"
      ],
      "execution_count": 0,
      "outputs": []
    },
    {
      "cell_type": "code",
      "metadata": {
        "id": "6dgRJ8TX1V4K",
        "colab_type": "code",
        "colab": {}
      },
      "source": [
        "dog_dataset = datasets.ImageFolder('/s3/PetImages', transform=transforms.Compose([\n",
        "        transforms.Resize((HW_DIM,HW_DIM)),\n",
        "        transforms.RandomHorizontalFlip(),\n",
        "        transforms.ToTensor(),\n",
        "        transforms.Normalize([0.485], [0.229])\n",
        "    ]))"
      ],
      "execution_count": 0,
      "outputs": []
    },
    {
      "cell_type": "code",
      "metadata": {
        "id": "3NSj-hR-1V4N",
        "colab_type": "code",
        "outputId": "c7d9e7c6-e863-4589-e1fb-0fcee7dde070",
        "colab": {
          "base_uri": "https://localhost:8080/",
          "height": 187
        }
      },
      "source": [
        "dog_dataset"
      ],
      "execution_count": 14,
      "outputs": [
        {
          "output_type": "execute_result",
          "data": {
            "text/plain": [
              "Dataset ImageFolder\n",
              "    Number of datapoints: 12499\n",
              "    Root location: /s3/PetImages\n",
              "    StandardTransform\n",
              "Transform: Compose(\n",
              "               Resize(size=(64, 64), interpolation=PIL.Image.BILINEAR)\n",
              "               RandomHorizontalFlip(p=0.5)\n",
              "               ToTensor()\n",
              "               Normalize(mean=[0.485], std=[0.229])\n",
              "           )"
            ]
          },
          "metadata": {
            "tags": []
          },
          "execution_count": 14
        }
      ]
    },
    {
      "cell_type": "code",
      "metadata": {
        "id": "9-ldi0h_1V4P",
        "colab_type": "code",
        "colab": {}
      },
      "source": [
        "from torch.utils.data import DataLoader"
      ],
      "execution_count": 0,
      "outputs": []
    },
    {
      "cell_type": "code",
      "metadata": {
        "id": "8X_ZSE-p1V4S",
        "colab_type": "code",
        "colab": {}
      },
      "source": [
        "dataloader = DataLoader(dog_dataset, batch_size=BATCH_SIZE, shuffle=True)"
      ],
      "execution_count": 0,
      "outputs": []
    },
    {
      "cell_type": "code",
      "metadata": {
        "id": "td6F1hyL1V4U",
        "colab_type": "code",
        "outputId": "75d8afca-4963-4407-c982-add0b974d442",
        "colab": {
          "base_uri": "https://localhost:8080/",
          "height": 34
        }
      },
      "source": [
        "print('Number of samples: ', len(dog_dataset))"
      ],
      "execution_count": 17,
      "outputs": [
        {
          "output_type": "stream",
          "text": [
            "Number of samples:  12499\n"
          ],
          "name": "stdout"
        }
      ]
    },
    {
      "cell_type": "code",
      "metadata": {
        "id": "MJUxxOLH1V4c",
        "colab_type": "code",
        "colab": {}
      },
      "source": [
        "class Normal(object):\n",
        "    def __init__(self, mu, sigma, log_sigma, v=None, r=None):\n",
        "        self.mu = mu\n",
        "        self.sigma = sigma  # either stdev diagonal itself, or stdev diagonal from decomposition\n",
        "        self.logsigma = log_sigma\n",
        "        dim = mu.get_shape()\n",
        "        if v is None:\n",
        "            v = torch.FloatTensor(*dim)\n",
        "        if r is None:\n",
        "            r = torch.FloatTensor(*dim)\n",
        "        self.v = v\n",
        "        self.r = r"
      ],
      "execution_count": 0,
      "outputs": []
    },
    {
      "cell_type": "code",
      "metadata": {
        "id": "WvQUai1aGUcw",
        "colab_type": "code",
        "colab": {}
      },
      "source": [
        "from torchvision import models"
      ],
      "execution_count": 0,
      "outputs": []
    },
    {
      "cell_type": "code",
      "metadata": {
        "id": "GyJt6ppC1V4Y",
        "colab_type": "code",
        "outputId": "1678d54b-dbcd-4a08-af7b-1cda3d09c9d3",
        "colab": {
          "base_uri": "https://localhost:8080/",
          "height": 34
        }
      },
      "source": [
        "for data in dataloader:\n",
        "    x, y = data\n",
        "    print(x.shape)\n",
        "    break"
      ],
      "execution_count": 49,
      "outputs": [
        {
          "output_type": "stream",
          "text": [
            "torch.Size([16, 3, 64, 64])\n"
          ],
          "name": "stdout"
        }
      ]
    },
    {
      "cell_type": "code",
      "metadata": {
        "id": "vNJM4_y1oc_R",
        "colab_type": "code",
        "colab": {
          "base_uri": "https://localhost:8080/",
          "height": 34
        },
        "outputId": "6bf73d15-a775-431f-fee3-2b65ed829677"
      },
      "source": [
        "x[0].max().item()"
      ],
      "execution_count": 65,
      "outputs": [
        {
          "output_type": "execute_result",
          "data": {
            "text/plain": [
              "2.1632845401763916"
            ]
          },
          "metadata": {
            "tags": []
          },
          "execution_count": 65
        }
      ]
    },
    {
      "cell_type": "code",
      "metadata": {
        "id": "N9WHy2LFpgSL",
        "colab_type": "code",
        "colab": {
          "base_uri": "https://localhost:8080/",
          "height": 34
        },
        "outputId": "9f2f9fb7-3174-4bca-c4bc-ee198693bb1c"
      },
      "source": [
        "np.abs(x[0].min().item())"
      ],
      "execution_count": 67,
      "outputs": [
        {
          "output_type": "execute_result",
          "data": {
            "text/plain": [
              "1.9466564655303955"
            ]
          },
          "metadata": {
            "tags": []
          },
          "execution_count": 67
        }
      ]
    },
    {
      "cell_type": "code",
      "metadata": {
        "id": "5e2tgIRPndR8",
        "colab_type": "code",
        "colab": {}
      },
      "source": [
        "img = x[0]/x[0].max().item()"
      ],
      "execution_count": 0,
      "outputs": []
    },
    {
      "cell_type": "code",
      "metadata": {
        "id": "AECOK_oqp5Ld",
        "colab_type": "code",
        "colab": {}
      },
      "source": [
        "img = (img + 1)/2.0"
      ],
      "execution_count": 0,
      "outputs": []
    },
    {
      "cell_type": "code",
      "metadata": {
        "id": "JjjK970ImYFu",
        "colab_type": "code",
        "colab": {
          "base_uri": "https://localhost:8080/",
          "height": 408
        },
        "outputId": "faba3054-f9ed-4b46-f207-a73c7f045684"
      },
      "source": [
        "img"
      ],
      "execution_count": 74,
      "outputs": [
        {
          "output_type": "execute_result",
          "data": {
            "text/plain": [
              "tensor([[[0.7902, 0.8298, 0.3944,  ..., 0.8536, 0.8496, 0.7467],\n",
              "         [0.6557, 0.8733, 0.5171,  ..., 0.8417, 0.7546, 0.6200],\n",
              "         [0.3825, 0.7467, 0.7942,  ..., 0.7863, 0.6279, 0.5844],\n",
              "         ...,\n",
              "         [0.3588, 0.3232, 0.3073,  ..., 0.4696, 0.4736, 0.2955],\n",
              "         [0.3707, 0.3509, 0.3350,  ..., 0.4775, 0.4855, 0.2915],\n",
              "         [0.3390, 0.3430, 0.3271,  ..., 0.5013, 0.5013, 0.3153]],\n",
              "\n",
              "        [[0.3905, 0.3509, 0.2915,  ..., 0.2519, 0.2480, 0.2242],\n",
              "         [0.4775, 0.3707, 0.3113,  ..., 0.2440, 0.2242, 0.1767],\n",
              "         [0.2440, 0.2638, 0.3825,  ..., 0.2321, 0.1886, 0.1807],\n",
              "         ...,\n",
              "         [0.4261, 0.3984, 0.3905,  ..., 0.3192, 0.2994, 0.1688],\n",
              "         [0.4340, 0.4142, 0.4023,  ..., 0.3430, 0.3390, 0.1728],\n",
              "         [0.3984, 0.4023, 0.3984,  ..., 0.3667, 0.3588, 0.1886]],\n",
              "\n",
              "        [[0.4063, 0.4221, 0.3667,  ..., 0.3271, 0.3311, 0.3073],\n",
              "         [0.4815, 0.4498, 0.3746,  ..., 0.3271, 0.3113, 0.2598],\n",
              "         [0.2559, 0.3350, 0.4419,  ..., 0.3232, 0.2757, 0.2757],\n",
              "         ...,\n",
              "         [0.4934, 0.4657, 0.4855,  ..., 0.2361, 0.2203, 0.1213],\n",
              "         [0.5013, 0.4855, 0.4855,  ..., 0.2480, 0.2519, 0.1213],\n",
              "         [0.4894, 0.4894, 0.4815,  ..., 0.2915, 0.2796, 0.1451]]])"
            ]
          },
          "metadata": {
            "tags": []
          },
          "execution_count": 74
        }
      ]
    },
    {
      "cell_type": "code",
      "metadata": {
        "id": "M_H6RiHpghAG",
        "colab_type": "code",
        "colab": {
          "base_uri": "https://localhost:8080/",
          "height": 285
        },
        "outputId": "680c87fd-baa8-4923-dc25-d1f57f073c04"
      },
      "source": [
        "plt.imshow(img.permute(1,2,0).numpy())"
      ],
      "execution_count": 75,
      "outputs": [
        {
          "output_type": "execute_result",
          "data": {
            "text/plain": [
              "<matplotlib.image.AxesImage at 0x7ff82a7ad198>"
            ]
          },
          "metadata": {
            "tags": []
          },
          "execution_count": 75
        },
        {
          "output_type": "display_data",
          "data": {
            "image/png": "[encoded data removed]",
            "text/plain": [
              "<Figure size 432x288 with 1 Axes>"
            ]
          },
          "metadata": {
            "tags": [],
            "needs_background": "light"
          }
        }
      ]
    },
    {
      "cell_type": "code",
      "metadata": {
        "id": "qg9QnrjWN70l",
        "colab_type": "code",
        "colab": {
          "base_uri": "https://localhost:8080/",
          "height": 34
        },
        "outputId": "43c0c41d-5aac-48e3-9066-5ed760caf302"
      },
      "source": [
        "y.shape"
      ],
      "execution_count": 76,
      "outputs": [
        {
          "output_type": "execute_result",
          "data": {
            "text/plain": [
              "torch.Size([16])"
            ]
          },
          "metadata": {
            "tags": []
          },
          "execution_count": 76
        }
      ]
    },
    {
      "cell_type": "code",
      "metadata": {
        "id": "62ODtKyotC_H",
        "colab_type": "code",
        "colab": {}
      },
      "source": [
        "i = torch.randn(16, 100).view(-1,100,1,1)"
      ],
      "execution_count": 0,
      "outputs": []
    },
    {
      "cell_type": "code",
      "metadata": {
        "id": "7_GG0YfhutAp",
        "colab_type": "code",
        "colab": {}
      },
      "source": [
        "def hout(hin,kernel_size,stride=1,padding=0,dilation=1,output_padding=0):\n",
        "  return ((hin-1)*stride - 2*padding + dilation*(kernel_size-1) + output_padding+1)"
      ],
      "execution_count": 0,
      "outputs": []
    },
    {
      "cell_type": "code",
      "metadata": {
        "id": "TaXjupBqvfwa",
        "colab_type": "code",
        "colab": {
          "base_uri": "https://localhost:8080/",
          "height": 34
        },
        "outputId": "c00b7f90-c36f-4585-93dd-0a2ac09a24ac"
      },
      "source": [
        "hout(1,4,1,0)"
      ],
      "execution_count": 117,
      "outputs": [
        {
          "output_type": "execute_result",
          "data": {
            "text/plain": [
              "4"
            ]
          },
          "metadata": {
            "tags": []
          },
          "execution_count": 117
        }
      ]
    },
    {
      "cell_type": "code",
      "metadata": {
        "id": "kK0pdFyJvqsV",
        "colab_type": "code",
        "colab": {
          "base_uri": "https://localhost:8080/",
          "height": 34
        },
        "outputId": "26ca6f99-5cf8-4ad7-a776-5e7d0575d8fa"
      },
      "source": [
        "hout(4,4,2,1)"
      ],
      "execution_count": 121,
      "outputs": [
        {
          "output_type": "execute_result",
          "data": {
            "text/plain": [
              "8"
            ]
          },
          "metadata": {
            "tags": []
          },
          "execution_count": 121
        }
      ]
    },
    {
      "cell_type": "code",
      "metadata": {
        "id": "GphJJ5NRvvj8",
        "colab_type": "code",
        "colab": {
          "base_uri": "https://localhost:8080/",
          "height": 34
        },
        "outputId": "18befe02-ab2c-4bbd-8afa-9fa27d6eee7a"
      },
      "source": [
        "hout(8,4,2,1)"
      ],
      "execution_count": 122,
      "outputs": [
        {
          "output_type": "execute_result",
          "data": {
            "text/plain": [
              "16"
            ]
          },
          "metadata": {
            "tags": []
          },
          "execution_count": 122
        }
      ]
    },
    {
      "cell_type": "code",
      "metadata": {
        "id": "tQgpTXKFvzmK",
        "colab_type": "code",
        "colab": {
          "base_uri": "https://localhost:8080/",
          "height": 34
        },
        "outputId": "74bfc2a5-13e3-4993-dbce-1179dde151e5"
      },
      "source": [
        "hout(16,4,2,1)"
      ],
      "execution_count": 123,
      "outputs": [
        {
          "output_type": "execute_result",
          "data": {
            "text/plain": [
              "32"
            ]
          },
          "metadata": {
            "tags": []
          },
          "execution_count": 123
        }
      ]
    },
    {
      "cell_type": "code",
      "metadata": {
        "id": "Q_q46ZmTv-Hh",
        "colab_type": "code",
        "colab": {}
      },
      "source": [
        ""
      ],
      "execution_count": 0,
      "outputs": []
    },
    {
      "cell_type": "code",
      "metadata": {
        "id": "TMd2J-rftIRj",
        "colab_type": "code",
        "colab": {}
      },
      "source": [
        "f = nn.ConvTranspose2d(LATENT_DIM, HW_DIM * 8, 4, 1, 0, bias=False) # HW_DIM * 8 = 512"
      ],
      "execution_count": 0,
      "outputs": []
    },
    {
      "cell_type": "code",
      "metadata": {
        "id": "WzKERSGdtN8_",
        "colab_type": "code",
        "colab": {}
      },
      "source": [
        "o = f(i)"
      ],
      "execution_count": 0,
      "outputs": []
    },
    {
      "cell_type": "code",
      "metadata": {
        "id": "mC_fXcpCtTvs",
        "colab_type": "code",
        "colab": {
          "base_uri": "https://localhost:8080/",
          "height": 34
        },
        "outputId": "722edb11-b08b-470a-9cb9-0edef9dde621"
      },
      "source": [
        "o.size()"
      ],
      "execution_count": 109,
      "outputs": [
        {
          "output_type": "execute_result",
          "data": {
            "text/plain": [
              "torch.Size([16, 512, 4, 4])"
            ]
          },
          "metadata": {
            "tags": []
          },
          "execution_count": 109
        }
      ]
    },
    {
      "cell_type": "code",
      "metadata": {
        "id": "yyyxD3I7thOm",
        "colab_type": "code",
        "colab": {}
      },
      "source": [
        "f2 = nn.ConvTranspose2d(HW_DIM * 8, HW_DIM * 4, 3, 2, 1, bias=False)"
      ],
      "execution_count": 0,
      "outputs": []
    },
    {
      "cell_type": "code",
      "metadata": {
        "id": "gsWdiel1uAfr",
        "colab_type": "code",
        "colab": {}
      },
      "source": [
        "o = f2(o)"
      ],
      "execution_count": 0,
      "outputs": []
    },
    {
      "cell_type": "code",
      "metadata": {
        "id": "bB4P3JqZuDJv",
        "colab_type": "code",
        "colab": {
          "base_uri": "https://localhost:8080/",
          "height": 34
        },
        "outputId": "8da12614-4fad-4f2b-d151-b9c6595adb46"
      },
      "source": [
        "o.size()"
      ],
      "execution_count": 112,
      "outputs": [
        {
          "output_type": "execute_result",
          "data": {
            "text/plain": [
              "torch.Size([16, 256, 7, 7])"
            ]
          },
          "metadata": {
            "tags": []
          },
          "execution_count": 112
        }
      ]
    },
    {
      "cell_type": "code",
      "metadata": {
        "id": "MhIfIgIxuEnQ",
        "colab_type": "code",
        "colab": {}
      },
      "source": [
        "f3 = nn.ConvTranspose2d(HW_DIM * 4, HW_DIM * 2, 4, 2, 1, bias=False)"
      ],
      "execution_count": 0,
      "outputs": []
    },
    {
      "cell_type": "code",
      "metadata": {
        "id": "nK1Qs89Sua9L",
        "colab_type": "code",
        "colab": {}
      },
      "source": [
        "o = f3(o)"
      ],
      "execution_count": 0,
      "outputs": []
    },
    {
      "cell_type": "code",
      "metadata": {
        "id": "px_JKQFNucnM",
        "colab_type": "code",
        "colab": {
          "base_uri": "https://localhost:8080/",
          "height": 34
        },
        "outputId": "736c7690-216a-4c2d-fc8e-9f674a018203"
      },
      "source": [
        "o.size()"
      ],
      "execution_count": 115,
      "outputs": [
        {
          "output_type": "execute_result",
          "data": {
            "text/plain": [
              "torch.Size([16, 128, 14, 14])"
            ]
          },
          "metadata": {
            "tags": []
          },
          "execution_count": 115
        }
      ]
    },
    {
      "cell_type": "code",
      "metadata": {
        "id": "pSBnMUKQudoe",
        "colab_type": "code",
        "colab": {}
      },
      "source": [
        ""
      ],
      "execution_count": 0,
      "outputs": []
    },
    {
      "cell_type": "code",
      "metadata": {
        "id": "ZHN9W9Gb1V4e",
        "colab_type": "code",
        "colab": {}
      },
      "source": [
        "class Encoder(torch.nn.Module):\n",
        "    def __init__(self, D_in, H):\n",
        "        super(Encoder, self).__init__()\n",
        "        self.resnet = models.mobilenet_v2(pretrained=True)\n",
        "        self.linear = torch.nn.Linear(1000, HIDDEN_DIM)\n",
        "\n",
        "    def forward(self, x):\n",
        "        x = self.resnet(x)\n",
        "        return F.relu(self.linear(x))"
      ],
      "execution_count": 0,
      "outputs": []
    },
    {
      "cell_type": "code",
      "metadata": {
        "id": "jJhXEQ0H1V4g",
        "colab_type": "code",
        "colab": {}
      },
      "source": [
        "class Decoder(torch.nn.Module):\n",
        "    def __init__(self, D_in, H, D_out):\n",
        "        super(Decoder, self).__init__()\n",
        "        self.decoder = nn.Sequential(\n",
        "            # input is Z, going into a convolution\n",
        "            nn.ConvTranspose2d(LATENT_DIM, HW_DIM * 8, 4, 1, 0, bias=False),\n",
        "            nn.BatchNorm2d(HW_DIM * 8),\n",
        "            nn.ReLU(True),\n",
        "            # state size. (HW_DIM*8) x 4 x 4\n",
        "            nn.ConvTranspose2d(HW_DIM * 8, HW_DIM * 4, 4, 2, 1, bias=False),\n",
        "            nn.BatchNorm2d(HW_DIM * 4),\n",
        "            nn.ReLU(True),\n",
        "            # state size. (HW_DIM*4) x 8 x 8\n",
        "            nn.ConvTranspose2d(HW_DIM * 4, HW_DIM * 2, 4, 2, 1, bias=False),\n",
        "            nn.BatchNorm2d(HW_DIM * 2),\n",
        "            nn.ReLU(True),\n",
        "            # state size. (HW_DIM*2) x 16 x 16\n",
        "            nn.ConvTranspose2d(HW_DIM * 2, HW_DIM, 4, 2, 1, bias=False),\n",
        "            nn.BatchNorm2d(HW_DIM),\n",
        "            nn.ReLU(True),\n",
        "            # state size. (HW_DIM) x 32 x 32\n",
        "            nn.ConvTranspose2d(HW_DIM, NC, 4, 2, 1, bias=False),\n",
        "            # state size. (NC) x 64 x 64\n",
        "            # nn.Tanh()\n",
        "            nn.Sigmoid()\n",
        "        )\n",
        "\n",
        "    def forward(self, x):\n",
        "        deconv_input = x.view(-1,LATENT_DIM,1,1)\n",
        "        return self.decoder(deconv_input)"
      ],
      "execution_count": 0,
      "outputs": []
    },
    {
      "cell_type": "code",
      "metadata": {
        "id": "YjQygv_r1V4j",
        "colab_type": "code",
        "colab": {}
      },
      "source": [
        "class VAE(torch.nn.Module):\n",
        "\n",
        "    def __init__(self, encoder, decoder):\n",
        "        super(VAE, self).__init__()\n",
        "        self.encoder = encoder\n",
        "        self.decoder = decoder\n",
        "        self._enc_mu = torch.nn.Linear(HIDDEN_DIM, LATENT_DIM)\n",
        "        self._enc_log_sigma = torch.nn.Linear(HIDDEN_DIM, LATENT_DIM)\n",
        "\n",
        "    def _sample_latent(self, h_enc):\n",
        "        \"\"\"\n",
        "        Return the latent normal sample z ~ N(mu, sigma^2)\n",
        "        \"\"\"\n",
        "        mu = F.relu(self._enc_mu(h_enc))\n",
        "        log_sigma = F.relu(self._enc_log_sigma(h_enc))\n",
        "        sigma = torch.exp(log_sigma)\n",
        "        std_z = torch.from_numpy(np.random.normal(0, 1, size=sigma.size())).float()\n",
        "\n",
        "        self.z_mean = mu\n",
        "        self.z_sigma = sigma\n",
        "\n",
        "        return mu + sigma * Variable(std_z, requires_grad=False).to(device)  # Reparameterization trick\n",
        "\n",
        "    def forward(self, state):\n",
        "        h_enc = self.encoder(state)\n",
        "        z = self._sample_latent(h_enc)\n",
        "        return self.decoder(z)"
      ],
      "execution_count": 0,
      "outputs": []
    },
    {
      "cell_type": "code",
      "metadata": {
        "id": "MF6FgetY1V4l",
        "colab_type": "code",
        "colab": {}
      },
      "source": [
        "def latent_loss(z_mean, z_stddev):\n",
        "    mean_sq = z_mean * z_mean\n",
        "    stddev_sq = z_stddev * z_stddev\n",
        "    return 0.5 * torch.mean(mean_sq + stddev_sq - torch.log(stddev_sq) - 1)"
      ],
      "execution_count": 0,
      "outputs": []
    },
    {
      "cell_type": "code",
      "metadata": {
        "id": "L1lkWdZU1V4o",
        "colab_type": "code",
        "colab": {}
      },
      "source": [
        "encoder = Encoder(INPUT_DIM, HIDDEN_DIM)\n",
        "decoder = Decoder(LATENT_DIM, HIDDEN_DIM, INPUT_DIM)\n",
        "vae = VAE(encoder, decoder)"
      ],
      "execution_count": 0,
      "outputs": []
    },
    {
      "cell_type": "code",
      "metadata": {
        "id": "nYV_r1qL1V4r",
        "colab_type": "code",
        "colab": {}
      },
      "source": [
        "vae = vae.to(device)"
      ],
      "execution_count": 0,
      "outputs": []
    },
    {
      "cell_type": "code",
      "metadata": {
        "id": "yC5QsTYP1V4t",
        "colab_type": "code",
        "outputId": "a464e92d-e1cf-49fd-8b29-f8157531600a",
        "colab": {
          "base_uri": "https://localhost:8080/",
          "height": 1000
        }
      },
      "source": [
        "vae"
      ],
      "execution_count": 135,
      "outputs": [
        {
          "output_type": "execute_result",
          "data": {
            "text/plain": [
              "VAE(\n",
              "  (encoder): Encoder(\n",
              "    (resnet): MobileNetV2(\n",
              "      (features): Sequential(\n",
              "        (0): ConvBNReLU(\n",
              "          (0): Conv2d(3, 32, kernel_size=(3, 3), stride=(2, 2), padding=(1, 1), bias=False)\n",
              "          (1): BatchNorm2d(32, eps=1e-05, momentum=0.1, affine=True, track_running_stats=True)\n",
              "          (2): ReLU6(inplace=True)\n",
              "        )\n",
              "        (1): InvertedResidual(\n",
              "          (conv): Sequential(\n",
              "            (0): ConvBNReLU(\n",
              "              (0): Conv2d(32, 32, kernel_size=(3, 3), stride=(1, 1), padding=(1, 1), groups=32, bias=False)\n",
              "              (1): BatchNorm2d(32, eps=1e-05, momentum=0.1, affine=True, track_running_stats=True)\n",
              "              (2): ReLU6(inplace=True)\n",
              "            )\n",
              "            (1): Conv2d(32, 16, kernel_size=(1, 1), stride=(1, 1), bias=False)\n",
              "            (2): BatchNorm2d(16, eps=1e-05, momentum=0.1, affine=True, track_running_stats=True)\n",
              "          )\n",
              "        )\n",
              "        (2): InvertedResidual(\n",
              "          (conv): Sequential(\n",
              "            (0): ConvBNReLU(\n",
              "              (0): Conv2d(16, 96, kernel_size=(1, 1), stride=(1, 1), bias=False)\n",
              "              (1): BatchNorm2d(96, eps=1e-05, momentum=0.1, affine=True, track_running_stats=True)\n",
              "              (2): ReLU6(inplace=True)\n",
              "            )\n",
              "            (1): ConvBNReLU(\n",
              "              (0): Conv2d(96, 96, kernel_size=(3, 3), stride=(2, 2), padding=(1, 1), groups=96, bias=False)\n",
              "              (1): BatchNorm2d(96, eps=1e-05, momentum=0.1, affine=True, track_running_stats=True)\n",
              "              (2): ReLU6(inplace=True)\n",
              "            )\n",
              "            (2): Conv2d(96, 24, kernel_size=(1, 1), stride=(1, 1), bias=False)\n",
              "            (3): BatchNorm2d(24, eps=1e-05, momentum=0.1, affine=True, track_running_stats=True)\n",
              "          )\n",
              "        )\n",
              "        (3): InvertedResidual(\n",
              "          (conv): Sequential(\n",
              "            (0): ConvBNReLU(\n",
              "              (0): Conv2d(24, 144, kernel_size=(1, 1), stride=(1, 1), bias=False)\n",
              "              (1): BatchNorm2d(144, eps=1e-05, momentum=0.1, affine=True, track_running_stats=True)\n",
              "              (2): ReLU6(inplace=True)\n",
              "            )\n",
              "            (1): ConvBNReLU(\n",
              "              (0): Conv2d(144, 144, kernel_size=(3, 3), stride=(1, 1), padding=(1, 1), groups=144, bias=False)\n",
              "              (1): BatchNorm2d(144, eps=1e-05, momentum=0.1, affine=True, track_running_stats=True)\n",
              "              (2): ReLU6(inplace=True)\n",
              "            )\n",
              "            (2): Conv2d(144, 24, kernel_size=(1, 1), stride=(1, 1), bias=False)\n",
              "            (3): BatchNorm2d(24, eps=1e-05, momentum=0.1, affine=True, track_running_stats=True)\n",
              "          )\n",
              "        )\n",
              "        (4): InvertedResidual(\n",
              "          (conv): Sequential(\n",
              "            (0): ConvBNReLU(\n",
              "              (0): Conv2d(24, 144, kernel_size=(1, 1), stride=(1, 1), bias=False)\n",
              "              (1): BatchNorm2d(144, eps=1e-05, momentum=0.1, affine=True, track_running_stats=True)\n",
              "              (2): ReLU6(inplace=True)\n",
              "            )\n",
              "            (1): ConvBNReLU(\n",
              "              (0): Conv2d(144, 144, kernel_size=(3, 3), stride=(2, 2), padding=(1, 1), groups=144, bias=False)\n",
              "              (1): BatchNorm2d(144, eps=1e-05, momentum=0.1, affine=True, track_running_stats=True)\n",
              "              (2): ReLU6(inplace=True)\n",
              "            )\n",
              "            (2): Conv2d(144, 32, kernel_size=(1, 1), stride=(1, 1), bias=False)\n",
              "            (3): BatchNorm2d(32, eps=1e-05, momentum=0.1, affine=True, track_running_stats=True)\n",
              "          )\n",
              "        )\n",
              "        (5): InvertedResidual(\n",
              "          (conv): Sequential(\n",
              "            (0): ConvBNReLU(\n",
              "              (0): Conv2d(32, 192, kernel_size=(1, 1), stride=(1, 1), bias=False)\n",
              "              (1): BatchNorm2d(192, eps=1e-05, momentum=0.1, affine=True, track_running_stats=True)\n",
              "              (2): ReLU6(inplace=True)\n",
              "            )\n",
              "            (1): ConvBNReLU(\n",
              "              (0): Conv2d(192, 192, kernel_size=(3, 3), stride=(1, 1), padding=(1, 1), groups=192, bias=False)\n",
              "              (1): BatchNorm2d(192, eps=1e-05, momentum=0.1, affine=True, track_running_stats=True)\n",
              "              (2): ReLU6(inplace=True)\n",
              "            )\n",
              "            (2): Conv2d(192, 32, kernel_size=(1, 1), stride=(1, 1), bias=False)\n",
              "            (3): BatchNorm2d(32, eps=1e-05, momentum=0.1, affine=True, track_running_stats=True)\n",
              "          )\n",
              "        )\n",
              "        (6): InvertedResidual(\n",
              "          (conv): Sequential(\n",
              "            (0): ConvBNReLU(\n",
              "              (0): Conv2d(32, 192, kernel_size=(1, 1), stride=(1, 1), bias=False)\n",
              "              (1): BatchNorm2d(192, eps=1e-05, momentum=0.1, affine=True, track_running_stats=True)\n",
              "              (2): ReLU6(inplace=True)\n",
              "            )\n",
              "            (1): ConvBNReLU(\n",
              "              (0): Conv2d(192, 192, kernel_size=(3, 3), stride=(1, 1), padding=(1, 1), groups=192, bias=False)\n",
              "              (1): BatchNorm2d(192, eps=1e-05, momentum=0.1, affine=True, track_running_stats=True)\n",
              "              (2): ReLU6(inplace=True)\n",
              "            )\n",
              "            (2): Conv2d(192, 32, kernel_size=(1, 1), stride=(1, 1), bias=False)\n",
              "            (3): BatchNorm2d(32, eps=1e-05, momentum=0.1, affine=True, track_running_stats=True)\n",
              "          )\n",
              "        )\n",
              "        (7): InvertedResidual(\n",
              "          (conv): Sequential(\n",
              "            (0): ConvBNReLU(\n",
              "              (0): Conv2d(32, 192, kernel_size=(1, 1), stride=(1, 1), bias=False)\n",
              "              (1): BatchNorm2d(192, eps=1e-05, momentum=0.1, affine=True, track_running_stats=True)\n",
              "              (2): ReLU6(inplace=True)\n",
              "            )\n",
              "            (1): ConvBNReLU(\n",
              "              (0): Conv2d(192, 192, kernel_size=(3, 3), stride=(2, 2), padding=(1, 1), groups=192, bias=False)\n",
              "              (1): BatchNorm2d(192, eps=1e-05, momentum=0.1, affine=True, track_running_stats=True)\n",
              "              (2): ReLU6(inplace=True)\n",
              "            )\n",
              "            (2): Conv2d(192, 64, kernel_size=(1, 1), stride=(1, 1), bias=False)\n",
              "            (3): BatchNorm2d(64, eps=1e-05, momentum=0.1, affine=True, track_running_stats=True)\n",
              "          )\n",
              "        )\n",
              "        (8): InvertedResidual(\n",
              "          (conv): Sequential(\n",
              "            (0): ConvBNReLU(\n",
              "              (0): Conv2d(64, 384, kernel_size=(1, 1), stride=(1, 1), bias=False)\n",
              "              (1): BatchNorm2d(384, eps=1e-05, momentum=0.1, affine=True, track_running_stats=True)\n",
              "              (2): ReLU6(inplace=True)\n",
              "            )\n",
              "            (1): ConvBNReLU(\n",
              "              (0): Conv2d(384, 384, kernel_size=(3, 3), stride=(1, 1), padding=(1, 1), groups=384, bias=False)\n",
              "              (1): BatchNorm2d(384, eps=1e-05, momentum=0.1, affine=True, track_running_stats=True)\n",
              "              (2): ReLU6(inplace=True)\n",
              "            )\n",
              "            (2): Conv2d(384, 64, kernel_size=(1, 1), stride=(1, 1), bias=False)\n",
              "            (3): BatchNorm2d(64, eps=1e-05, momentum=0.1, affine=True, track_running_stats=True)\n",
              "          )\n",
              "        )\n",
              "        (9): InvertedResidual(\n",
              "          (conv): Sequential(\n",
              "            (0): ConvBNReLU(\n",
              "              (0): Conv2d(64, 384, kernel_size=(1, 1), stride=(1, 1), bias=False)\n",
              "              (1): BatchNorm2d(384, eps=1e-05, momentum=0.1, affine=True, track_running_stats=True)\n",
              "              (2): ReLU6(inplace=True)\n",
              "            )\n",
              "            (1): ConvBNReLU(\n",
              "              (0): Conv2d(384, 384, kernel_size=(3, 3), stride=(1, 1), padding=(1, 1), groups=384, bias=False)\n",
              "              (1): BatchNorm2d(384, eps=1e-05, momentum=0.1, affine=True, track_running_stats=True)\n",
              "              (2): ReLU6(inplace=True)\n",
              "            )\n",
              "            (2): Conv2d(384, 64, kernel_size=(1, 1), stride=(1, 1), bias=False)\n",
              "            (3): BatchNorm2d(64, eps=1e-05, momentum=0.1, affine=True, track_running_stats=True)\n",
              "          )\n",
              "        )\n",
              "        (10): InvertedResidual(\n",
              "          (conv): Sequential(\n",
              "            (0): ConvBNReLU(\n",
              "              (0): Conv2d(64, 384, kernel_size=(1, 1), stride=(1, 1), bias=False)\n",
              "              (1): BatchNorm2d(384, eps=1e-05, momentum=0.1, affine=True, track_running_stats=True)\n",
              "              (2): ReLU6(inplace=True)\n",
              "            )\n",
              "            (1): ConvBNReLU(\n",
              "              (0): Conv2d(384, 384, kernel_size=(3, 3), stride=(1, 1), padding=(1, 1), groups=384, bias=False)\n",
              "              (1): BatchNorm2d(384, eps=1e-05, momentum=0.1, affine=True, track_running_stats=True)\n",
              "              (2): ReLU6(inplace=True)\n",
              "            )\n",
              "            (2): Conv2d(384, 64, kernel_size=(1, 1), stride=(1, 1), bias=False)\n",
              "            (3): BatchNorm2d(64, eps=1e-05, momentum=0.1, affine=True, track_running_stats=True)\n",
              "          )\n",
              "        )\n",
              "        (11): InvertedResidual(\n",
              "          (conv): Sequential(\n",
              "            (0): ConvBNReLU(\n",
              "              (0): Conv2d(64, 384, kernel_size=(1, 1), stride=(1, 1), bias=False)\n",
              "              (1): BatchNorm2d(384, eps=1e-05, momentum=0.1, affine=True, track_running_stats=True)\n",
              "              (2): ReLU6(inplace=True)\n",
              "            )\n",
              "            (1): ConvBNReLU(\n",
              "              (0): Conv2d(384, 384, kernel_size=(3, 3), stride=(1, 1), padding=(1, 1), groups=384, bias=False)\n",
              "              (1): BatchNorm2d(384, eps=1e-05, momentum=0.1, affine=True, track_running_stats=True)\n",
              "              (2): ReLU6(inplace=True)\n",
              "            )\n",
              "            (2): Conv2d(384, 96, kernel_size=(1, 1), stride=(1, 1), bias=False)\n",
              "            (3): BatchNorm2d(96, eps=1e-05, momentum=0.1, affine=True, track_running_stats=True)\n",
              "          )\n",
              "        )\n",
              "        (12): InvertedResidual(\n",
              "          (conv): Sequential(\n",
              "            (0): ConvBNReLU(\n",
              "              (0): Conv2d(96, 576, kernel_size=(1, 1), stride=(1, 1), bias=False)\n",
              "              (1): BatchNorm2d(576, eps=1e-05, momentum=0.1, affine=True, track_running_stats=True)\n",
              "              (2): ReLU6(inplace=True)\n",
              "            )\n",
              "            (1): ConvBNReLU(\n",
              "              (0): Conv2d(576, 576, kernel_size=(3, 3), stride=(1, 1), padding=(1, 1), groups=576, bias=False)\n",
              "              (1): BatchNorm2d(576, eps=1e-05, momentum=0.1, affine=True, track_running_stats=True)\n",
              "              (2): ReLU6(inplace=True)\n",
              "            )\n",
              "            (2): Conv2d(576, 96, kernel_size=(1, 1), stride=(1, 1), bias=False)\n",
              "            (3): BatchNorm2d(96, eps=1e-05, momentum=0.1, affine=True, track_running_stats=True)\n",
              "          )\n",
              "        )\n",
              "        (13): InvertedResidual(\n",
              "          (conv): Sequential(\n",
              "            (0): ConvBNReLU(\n",
              "              (0): Conv2d(96, 576, kernel_size=(1, 1), stride=(1, 1), bias=False)\n",
              "              (1): BatchNorm2d(576, eps=1e-05, momentum=0.1, affine=True, track_running_stats=True)\n",
              "              (2): ReLU6(inplace=True)\n",
              "            )\n",
              "            (1): ConvBNReLU(\n",
              "              (0): Conv2d(576, 576, kernel_size=(3, 3), stride=(1, 1), padding=(1, 1), groups=576, bias=False)\n",
              "              (1): BatchNorm2d(576, eps=1e-05, momentum=0.1, affine=True, track_running_stats=True)\n",
              "              (2): ReLU6(inplace=True)\n",
              "            )\n",
              "            (2): Conv2d(576, 96, kernel_size=(1, 1), stride=(1, 1), bias=False)\n",
              "            (3): BatchNorm2d(96, eps=1e-05, momentum=0.1, affine=True, track_running_stats=True)\n",
              "          )\n",
              "        )\n",
              "        (14): InvertedResidual(\n",
              "          (conv): Sequential(\n",
              "            (0): ConvBNReLU(\n",
              "              (0): Conv2d(96, 576, kernel_size=(1, 1), stride=(1, 1), bias=False)\n",
              "              (1): BatchNorm2d(576, eps=1e-05, momentum=0.1, affine=True, track_running_stats=True)\n",
              "              (2): ReLU6(inplace=True)\n",
              "            )\n",
              "            (1): ConvBNReLU(\n",
              "              (0): Conv2d(576, 576, kernel_size=(3, 3), stride=(2, 2), padding=(1, 1), groups=576, bias=False)\n",
              "              (1): BatchNorm2d(576, eps=1e-05, momentum=0.1, affine=True, track_running_stats=True)\n",
              "              (2): ReLU6(inplace=True)\n",
              "            )\n",
              "            (2): Conv2d(576, 160, kernel_size=(1, 1), stride=(1, 1), bias=False)\n",
              "            (3): BatchNorm2d(160, eps=1e-05, momentum=0.1, affine=True, track_running_stats=True)\n",
              "          )\n",
              "        )\n",
              "        (15): InvertedResidual(\n",
              "          (conv): Sequential(\n",
              "            (0): ConvBNReLU(\n",
              "              (0): Conv2d(160, 960, kernel_size=(1, 1), stride=(1, 1), bias=False)\n",
              "              (1): BatchNorm2d(960, eps=1e-05, momentum=0.1, affine=True, track_running_stats=True)\n",
              "              (2): ReLU6(inplace=True)\n",
              "            )\n",
              "            (1): ConvBNReLU(\n",
              "              (0): Conv2d(960, 960, kernel_size=(3, 3), stride=(1, 1), padding=(1, 1), groups=960, bias=False)\n",
              "              (1): BatchNorm2d(960, eps=1e-05, momentum=0.1, affine=True, track_running_stats=True)\n",
              "              (2): ReLU6(inplace=True)\n",
              "            )\n",
              "            (2): Conv2d(960, 160, kernel_size=(1, 1), stride=(1, 1), bias=False)\n",
              "            (3): BatchNorm2d(160, eps=1e-05, momentum=0.1, affine=True, track_running_stats=True)\n",
              "          )\n",
              "        )\n",
              "        (16): InvertedResidual(\n",
              "          (conv): Sequential(\n",
              "            (0): ConvBNReLU(\n",
              "              (0): Conv2d(160, 960, kernel_size=(1, 1), stride=(1, 1), bias=False)\n",
              "              (1): BatchNorm2d(960, eps=1e-05, momentum=0.1, affine=True, track_running_stats=True)\n",
              "              (2): ReLU6(inplace=True)\n",
              "            )\n",
              "            (1): ConvBNReLU(\n",
              "              (0): Conv2d(960, 960, kernel_size=(3, 3), stride=(1, 1), padding=(1, 1), groups=960, bias=False)\n",
              "              (1): BatchNorm2d(960, eps=1e-05, momentum=0.1, affine=True, track_running_stats=True)\n",
              "              (2): ReLU6(inplace=True)\n",
              "            )\n",
              "            (2): Conv2d(960, 160, kernel_size=(1, 1), stride=(1, 1), bias=False)\n",
              "            (3): BatchNorm2d(160, eps=1e-05, momentum=0.1, affine=True, track_running_stats=True)\n",
              "          )\n",
              "        )\n",
              "        (17): InvertedResidual(\n",
              "          (conv): Sequential(\n",
              "            (0): ConvBNReLU(\n",
              "              (0): Conv2d(160, 960, kernel_size=(1, 1), stride=(1, 1), bias=False)\n",
              "              (1): BatchNorm2d(960, eps=1e-05, momentum=0.1, affine=True, track_running_stats=True)\n",
              "              (2): ReLU6(inplace=True)\n",
              "            )\n",
              "            (1): ConvBNReLU(\n",
              "              (0): Conv2d(960, 960, kernel_size=(3, 3), stride=(1, 1), padding=(1, 1), groups=960, bias=False)\n",
              "              (1): BatchNorm2d(960, eps=1e-05, momentum=0.1, affine=True, track_running_stats=True)\n",
              "              (2): ReLU6(inplace=True)\n",
              "            )\n",
              "            (2): Conv2d(960, 320, kernel_size=(1, 1), stride=(1, 1), bias=False)\n",
              "            (3): BatchNorm2d(320, eps=1e-05, momentum=0.1, affine=True, track_running_stats=True)\n",
              "          )\n",
              "        )\n",
              "        (18): ConvBNReLU(\n",
              "          (0): Conv2d(320, 1280, kernel_size=(1, 1), stride=(1, 1), bias=False)\n",
              "          (1): BatchNorm2d(1280, eps=1e-05, momentum=0.1, affine=True, track_running_stats=True)\n",
              "          (2): ReLU6(inplace=True)\n",
              "        )\n",
              "      )\n",
              "      (classifier): Sequential(\n",
              "        (0): Dropout(p=0.2, inplace=False)\n",
              "        (1): Linear(in_features=1280, out_features=1000, bias=True)\n",
              "      )\n",
              "    )\n",
              "    (linear): Linear(in_features=1000, out_features=256, bias=True)\n",
              "  )\n",
              "  (decoder): Decoder(\n",
              "    (decoder): Sequential(\n",
              "      (0): ConvTranspose2d(100, 512, kernel_size=(4, 4), stride=(1, 1), bias=False)\n",
              "      (1): BatchNorm2d(512, eps=1e-05, momentum=0.1, affine=True, track_running_stats=True)\n",
              "      (2): ReLU(inplace=True)\n",
              "      (3): ConvTranspose2d(512, 256, kernel_size=(4, 4), stride=(2, 2), padding=(1, 1), bias=False)\n",
              "      (4): BatchNorm2d(256, eps=1e-05, momentum=0.1, affine=True, track_running_stats=True)\n",
              "      (5): ReLU(inplace=True)\n",
              "      (6): ConvTranspose2d(256, 128, kernel_size=(4, 4), stride=(2, 2), padding=(1, 1), bias=False)\n",
              "      (7): BatchNorm2d(128, eps=1e-05, momentum=0.1, affine=True, track_running_stats=True)\n",
              "      (8): ReLU(inplace=True)\n",
              "      (9): ConvTranspose2d(128, 64, kernel_size=(4, 4), stride=(2, 2), padding=(1, 1), bias=False)\n",
              "      (10): BatchNorm2d(64, eps=1e-05, momentum=0.1, affine=True, track_running_stats=True)\n",
              "      (11): ReLU(inplace=True)\n",
              "      (12): ConvTranspose2d(64, 3, kernel_size=(4, 4), stride=(2, 2), padding=(1, 1), bias=False)\n",
              "      (13): Sigmoid()\n",
              "    )\n",
              "  )\n",
              "  (_enc_mu): Linear(in_features=256, out_features=100, bias=True)\n",
              "  (_enc_log_sigma): Linear(in_features=256, out_features=100, bias=True)\n",
              ")"
            ]
          },
          "metadata": {
            "tags": []
          },
          "execution_count": 135
        }
      ]
    },
    {
      "cell_type": "code",
      "metadata": {
        "id": "eEO6UWwy1V4v",
        "colab_type": "code",
        "colab": {}
      },
      "source": [
        "criterion = nn.MSELoss()"
      ],
      "execution_count": 0,
      "outputs": []
    },
    {
      "cell_type": "code",
      "metadata": {
        "id": "MyDv87-t1V4x",
        "colab_type": "code",
        "colab": {}
      },
      "source": [
        "optimizer = optim.Adam(vae.parameters(), lr=0.0001)"
      ],
      "execution_count": 0,
      "outputs": []
    },
    {
      "cell_type": "code",
      "metadata": {
        "id": "6bM17qR41V4z",
        "colab_type": "code",
        "colab": {}
      },
      "source": [
        "from tqdm import tqdm"
      ],
      "execution_count": 0,
      "outputs": []
    },
    {
      "cell_type": "code",
      "metadata": {
        "id": "oY1hgNbz1V41",
        "colab_type": "code",
        "colab": {}
      },
      "source": [
        "EPOCHS=5"
      ],
      "execution_count": 0,
      "outputs": []
    },
    {
      "cell_type": "code",
      "metadata": {
        "id": "d5YIsryDqWsS",
        "colab_type": "code",
        "colab": {}
      },
      "source": [
        "#inp = torch.randn(16, 100)"
      ],
      "execution_count": 0,
      "outputs": []
    },
    {
      "cell_type": "code",
      "metadata": {
        "id": "z8Qw1hmuqd6i",
        "colab_type": "code",
        "colab": {
          "base_uri": "https://localhost:8080/",
          "height": 34
        },
        "outputId": "38ad2498-9507-4a81-cefa-80c73349f1d5"
      },
      "source": [
        "#inp.size()"
      ],
      "execution_count": 129,
      "outputs": [
        {
          "output_type": "execute_result",
          "data": {
            "text/plain": [
              "torch.Size([16, 100])"
            ]
          },
          "metadata": {
            "tags": []
          },
          "execution_count": 129
        }
      ]
    },
    {
      "cell_type": "code",
      "metadata": {
        "id": "6eSdGhwjqg6O",
        "colab_type": "code",
        "colab": {}
      },
      "source": [
        "#o = vae.decoder(inp.to(device))"
      ],
      "execution_count": 0,
      "outputs": []
    },
    {
      "cell_type": "code",
      "metadata": {
        "id": "jFyDC6BcqlxV",
        "colab_type": "code",
        "colab": {
          "base_uri": "https://localhost:8080/",
          "height": 34
        },
        "outputId": "c6a6e29d-e0e2-4633-c10b-fb4b0d7cd944"
      },
      "source": [
        "#o.shape"
      ],
      "execution_count": 137,
      "outputs": [
        {
          "output_type": "execute_result",
          "data": {
            "text/plain": [
              "torch.Size([16, 3, 64, 64])"
            ]
          },
          "metadata": {
            "tags": []
          },
          "execution_count": 137
        }
      ]
    },
    {
      "cell_type": "code",
      "metadata": {
        "id": "uQjXS2m_Oqav",
        "colab_type": "code",
        "colab": {}
      },
      "source": [
        "#o = vae(x.to(device))"
      ],
      "execution_count": 0,
      "outputs": []
    },
    {
      "cell_type": "code",
      "metadata": {
        "id": "QRjDKRnUxm0w",
        "colab_type": "code",
        "colab": {
          "base_uri": "https://localhost:8080/",
          "height": 34
        },
        "outputId": "90c76e37-ee3f-4fd6-b66a-d4de12e9af6f"
      },
      "source": [
        "#o.size()"
      ],
      "execution_count": 139,
      "outputs": [
        {
          "output_type": "execute_result",
          "data": {
            "text/plain": [
              "torch.Size([16, 3, 64, 64])"
            ]
          },
          "metadata": {
            "tags": []
          },
          "execution_count": 139
        }
      ]
    },
    {
      "cell_type": "code",
      "metadata": {
        "id": "fTNy_TMLxn4d",
        "colab_type": "code",
        "colab": {
          "base_uri": "https://localhost:8080/",
          "height": 425
        },
        "outputId": "b0aecd05-76c7-4d19-e17f-277e67453bfd"
      },
      "source": [
        "#o[0]"
      ],
      "execution_count": 140,
      "outputs": [
        {
          "output_type": "execute_result",
          "data": {
            "text/plain": [
              "tensor([[[0.5266, 0.5220, 0.6008,  ..., 0.5171, 0.5086, 0.4637],\n",
              "         [0.5573, 0.6803, 0.5043,  ..., 0.6863, 0.5252, 0.5737],\n",
              "         [0.5496, 0.6474, 0.4794,  ..., 0.4919, 0.5123, 0.5175],\n",
              "         ...,\n",
              "         [0.5331, 0.6642, 0.5593,  ..., 0.6039, 0.5379, 0.5945],\n",
              "         [0.4964, 0.3791, 0.4420,  ..., 0.5178, 0.6905, 0.4827],\n",
              "         [0.5204, 0.5334, 0.4680,  ..., 0.4375, 0.5385, 0.5267]],\n",
              "\n",
              "        [[0.4876, 0.4975, 0.4309,  ..., 0.5202, 0.4451, 0.4961],\n",
              "         [0.4424, 0.6119, 0.4166,  ..., 0.5668, 0.4640, 0.5275],\n",
              "         [0.4659, 0.3007, 0.4909,  ..., 0.3930, 0.5285, 0.5037],\n",
              "         ...,\n",
              "         [0.4232, 0.4815, 0.2611,  ..., 0.4371, 0.3556, 0.4007],\n",
              "         [0.5517, 0.4705, 0.4664,  ..., 0.6621, 0.5661, 0.3691],\n",
              "         [0.5058, 0.4640, 0.4795,  ..., 0.5023, 0.4985, 0.4792]],\n",
              "\n",
              "        [[0.4649, 0.6225, 0.3246,  ..., 0.5027, 0.3651, 0.4967],\n",
              "         [0.4314, 0.4224, 0.4342,  ..., 0.4704, 0.5765, 0.4989],\n",
              "         [0.4641, 0.4870, 0.3120,  ..., 0.3975, 0.2263, 0.3730],\n",
              "         ...,\n",
              "         [0.4796, 0.5022, 0.4711,  ..., 0.4895, 0.4420, 0.4797],\n",
              "         [0.3606, 0.5411, 0.3750,  ..., 0.4705, 0.3939, 0.4398],\n",
              "         [0.5255, 0.4277, 0.4515,  ..., 0.4543, 0.5544, 0.4885]]],\n",
              "       device='cuda:0', grad_fn=<SelectBackward>)"
            ]
          },
          "metadata": {
            "tags": []
          },
          "execution_count": 140
        }
      ]
    },
    {
      "cell_type": "code",
      "metadata": {
        "id": "10Z3-46gPDRS",
        "colab_type": "code",
        "colab": {
          "base_uri": "https://localhost:8080/",
          "height": 285
        },
        "outputId": "d30b8bb9-32fb-40ae-8496-3368045d757c"
      },
      "source": [
        "#plt.imshow(o[0].cpu().permute(1,2,0).detach().numpy())"
      ],
      "execution_count": 144,
      "outputs": [
        {
          "output_type": "execute_result",
          "data": {
            "text/plain": [
              "<matplotlib.image.AxesImage at 0x7ff82a095470>"
            ]
          },
          "metadata": {
            "tags": []
          },
          "execution_count": 144
        },
        {
          "output_type": "display_data",
          "data": {
            "image/png": "[encoded data removed]",
            "text/plain": [
              "<Figure size 432x288 with 1 Axes>"
            ]
          },
          "metadata": {
            "tags": [],
            "needs_background": "light"
          }
        }
      ]
    },
    {
      "cell_type": "code",
      "metadata": {
        "id": "qBXfh_X71V43",
        "colab_type": "code",
        "outputId": "3355c0bf-a4f2-46cd-9c24-d30e2a4fb7ea",
        "colab": {
          "base_uri": "https://localhost:8080/",
          "height": 232
        }
      },
      "source": [
        "l = []\n",
        "best_loss = None\n",
        "for epoch in tqdm(range(EPOCHS)):\n",
        "    e_loss = 0\n",
        "    for data in dataloader:\n",
        "        X, y = data\n",
        "        #inputs  = X.view(-1, INPUT_DIM)\n",
        "        #inputs = Variable(inputs.resize_(batch_size, input_dim))\n",
        "        optimizer.zero_grad()\n",
        "        dec = vae(X.to(device))\n",
        "        ll = latent_loss(vae.z_mean, vae.z_sigma)\n",
        "        loss = criterion(dec.view(-1, 3, 64, 64), X.to(device)) + ll\n",
        "        loss.backward()\n",
        "        optimizer.step()\n",
        "        e_loss += loss.item()\n",
        "    print(\"Epoch {}: loss={}\".format((epoch+1), e_loss))\n",
        "    l.append(e_loss)\n",
        "plt.plot(l)"
      ],
      "execution_count": 1,
      "outputs": [
        {
          "output_type": "error",
          "ename": "NameError",
          "evalue": "ignored",
          "traceback": [
            "\u001b[0;31m---------------------------------------------------------------------------\u001b[0m",
            "\u001b[0;31mNameError\u001b[0m                                 Traceback (most recent call last)",
            "\u001b[0;32m<ipython-input-1-253955d07928>\u001b[0m in \u001b[0;36m<module>\u001b[0;34m()\u001b[0m\n\u001b[1;32m      1\u001b[0m \u001b[0ml\u001b[0m \u001b[0;34m=\u001b[0m \u001b[0;34m[\u001b[0m\u001b[0;34m]\u001b[0m\u001b[0;34m\u001b[0m\u001b[0;34m\u001b[0m\u001b[0m\n\u001b[1;32m      2\u001b[0m \u001b[0mbest_loss\u001b[0m \u001b[0;34m=\u001b[0m \u001b[0;32mNone\u001b[0m\u001b[0;34m\u001b[0m\u001b[0;34m\u001b[0m\u001b[0m\n\u001b[0;32m----> 3\u001b[0;31m \u001b[0;32mfor\u001b[0m \u001b[0mepoch\u001b[0m \u001b[0;32min\u001b[0m \u001b[0mtqdm\u001b[0m\u001b[0;34m(\u001b[0m\u001b[0mrange\u001b[0m\u001b[0;34m(\u001b[0m\u001b[0mEPOCHS\u001b[0m\u001b[0;34m)\u001b[0m\u001b[0;34m)\u001b[0m\u001b[0;34m:\u001b[0m\u001b[0;34m\u001b[0m\u001b[0;34m\u001b[0m\u001b[0m\n\u001b[0m\u001b[1;32m      4\u001b[0m     \u001b[0me_loss\u001b[0m \u001b[0;34m=\u001b[0m \u001b[0;36m0\u001b[0m\u001b[0;34m\u001b[0m\u001b[0;34m\u001b[0m\u001b[0m\n\u001b[1;32m      5\u001b[0m     \u001b[0;32mfor\u001b[0m \u001b[0mdata\u001b[0m \u001b[0;32min\u001b[0m \u001b[0mdataloader\u001b[0m\u001b[0;34m:\u001b[0m\u001b[0;34m\u001b[0m\u001b[0;34m\u001b[0m\u001b[0m\n",
            "\u001b[0;31mNameError\u001b[0m: name 'tqdm' is not defined"
          ]
        }
      ]
    },
    {
      "cell_type": "code",
      "metadata": {
        "id": "qlZRPZZB1V46",
        "colab_type": "code",
        "colab": {}
      },
      "source": [
        "z = torch.randn(1, LATENT_DIM)"
      ],
      "execution_count": 0,
      "outputs": []
    },
    {
      "cell_type": "code",
      "metadata": {
        "id": "oCJoRpDz1V48",
        "colab_type": "code",
        "outputId": "fd53b755-8d08-4d3a-c049-e2036de17b9a",
        "colab": {
          "base_uri": "https://localhost:8080/",
          "height": 238
        }
      },
      "source": [
        "z"
      ],
      "execution_count": 40,
      "outputs": [
        {
          "output_type": "execute_result",
          "data": {
            "text/plain": [
              "tensor([[ 1.2485,  1.2613,  0.1082, -1.0682, -0.8273, -0.5560,  0.7324, -0.0368,\n",
              "         -0.6798,  0.9109, -2.1242, -0.4738,  0.9141,  0.8428,  1.8409, -1.1791,\n",
              "         -0.7983,  2.5173,  0.2267, -0.1835,  0.9431, -0.4914,  0.7744,  1.2204,\n",
              "         -0.1453, -0.2739, -0.0704,  0.9547,  0.6944,  0.1075, -0.7883, -1.0663,\n",
              "         -1.4159, -1.6122,  0.6292,  1.1373,  1.2469, -1.6067,  0.5278,  0.3275,\n",
              "         -1.7010, -1.6406,  0.2626,  0.3661,  0.4169, -0.6242,  0.4959,  0.6491,\n",
              "         -0.0964,  1.2023,  0.8351,  0.4376, -1.2060,  2.1132, -0.5800,  0.3064,\n",
              "         -0.0789, -0.6830,  0.0821,  1.1480, -0.4766, -0.6619,  0.0829,  0.3300,\n",
              "         -0.9195,  1.7008,  0.6960,  0.4471,  0.8182,  0.5834,  0.2224,  2.4245,\n",
              "          0.9882, -0.3089, -0.9415, -1.5697,  3.4972, -0.3444,  1.5366, -0.5316,\n",
              "         -0.5306,  0.1791,  1.2953,  0.3307, -0.7265, -0.8152,  0.8672, -0.3107,\n",
              "         -0.4713,  0.8954,  0.0528, -1.9482,  0.7782,  0.0495, -1.2675, -0.8366,\n",
              "          0.6167,  0.5343, -0.3196,  0.0660]])"
            ]
          },
          "metadata": {
            "tags": []
          },
          "execution_count": 40
        }
      ]
    },
    {
      "cell_type": "code",
      "metadata": {
        "id": "WqZDhYSy1V4_",
        "colab_type": "code",
        "outputId": "dd182998-912b-4d83-e760-9dd766a98079",
        "colab": {
          "base_uri": "https://localhost:8080/",
          "height": 34
        }
      },
      "source": [
        "z.shape"
      ],
      "execution_count": 41,
      "outputs": [
        {
          "output_type": "execute_result",
          "data": {
            "text/plain": [
              "torch.Size([1, 100])"
            ]
          },
          "metadata": {
            "tags": []
          },
          "execution_count": 41
        }
      ]
    },
    {
      "cell_type": "code",
      "metadata": {
        "id": "sg3S27GW1V5B",
        "colab_type": "code",
        "colab": {}
      },
      "source": [
        "out = vae.decoder(z.to(device))"
      ],
      "execution_count": 0,
      "outputs": []
    },
    {
      "cell_type": "code",
      "metadata": {
        "id": "Iu2L54np1V5E",
        "colab_type": "code",
        "outputId": "313c1ce7-d527-48b1-8a3a-f9c12ce2ed6e",
        "colab": {
          "base_uri": "https://localhost:8080/",
          "height": 34
        }
      },
      "source": [
        "out.shape"
      ],
      "execution_count": 43,
      "outputs": [
        {
          "output_type": "execute_result",
          "data": {
            "text/plain": [
              "torch.Size([1, 12288])"
            ]
          },
          "metadata": {
            "tags": []
          },
          "execution_count": 43
        }
      ]
    },
    {
      "cell_type": "code",
      "metadata": {
        "id": "2aMkKmGy1V5G",
        "colab_type": "code",
        "colab": {}
      },
      "source": [
        "img = out.cpu().view(3,64,64).permute(1,2,0).detach().numpy()"
      ],
      "execution_count": 0,
      "outputs": []
    },
    {
      "cell_type": "code",
      "metadata": {
        "id": "JHTWelVmjcD5",
        "colab_type": "code",
        "colab": {
          "base_uri": "https://localhost:8080/",
          "height": 850
        },
        "outputId": "267219e5-20c5-499b-bf29-f950f1f58c4f"
      },
      "source": [
        "img"
      ],
      "execution_count": 67,
      "outputs": [
        {
          "output_type": "execute_result",
          "data": {
            "text/plain": [
              "array([[[0.        , 0.        , 0.        ],\n",
              "        [0.        , 0.        , 0.        ],\n",
              "        [0.        , 0.        , 0.        ],\n",
              "        ...,\n",
              "        [0.        , 0.        , 0.        ],\n",
              "        [0.        , 0.        , 0.        ],\n",
              "        [0.        , 0.        , 0.        ]],\n",
              "\n",
              "       [[0.        , 0.        , 0.        ],\n",
              "        [0.        , 0.        , 0.        ],\n",
              "        [0.        , 0.        , 0.        ],\n",
              "        ...,\n",
              "        [0.        , 0.        , 0.        ],\n",
              "        [0.        , 0.        , 0.        ],\n",
              "        [0.        , 0.        , 0.        ]],\n",
              "\n",
              "       [[0.        , 0.        , 0.        ],\n",
              "        [0.        , 0.        , 0.        ],\n",
              "        [0.        , 0.        , 0.        ],\n",
              "        ...,\n",
              "        [0.        , 0.        , 0.        ],\n",
              "        [0.        , 0.        , 0.        ],\n",
              "        [0.        , 0.        , 0.        ]],\n",
              "\n",
              "       ...,\n",
              "\n",
              "       [[0.        , 0.        , 0.        ],\n",
              "        [0.        , 0.        , 0.        ],\n",
              "        [0.04878965, 0.        , 0.        ],\n",
              "        ...,\n",
              "        [0.05814322, 0.        , 0.        ],\n",
              "        [0.        , 0.        , 0.        ],\n",
              "        [0.        , 0.        , 0.        ]],\n",
              "\n",
              "       [[0.        , 0.        , 0.        ],\n",
              "        [0.        , 0.        , 0.        ],\n",
              "        [0.        , 0.        , 0.        ],\n",
              "        ...,\n",
              "        [0.05822051, 0.        , 0.        ],\n",
              "        [0.        , 0.        , 0.        ],\n",
              "        [0.        , 0.        , 0.        ]],\n",
              "\n",
              "       [[0.        , 0.        , 0.        ],\n",
              "        [0.        , 0.        , 0.        ],\n",
              "        [0.        , 0.        , 0.        ],\n",
              "        ...,\n",
              "        [0.        , 0.        , 0.        ],\n",
              "        [0.05324757, 0.        , 0.        ],\n",
              "        [0.        , 0.        , 0.        ]]], dtype=float32)"
            ]
          },
          "metadata": {
            "tags": []
          },
          "execution_count": 67
        }
      ]
    },
    {
      "cell_type": "code",
      "metadata": {
        "id": "67cL3c5ki-MW",
        "colab_type": "code",
        "colab": {}
      },
      "source": [
        "img *= 255"
      ],
      "execution_count": 0,
      "outputs": []
    },
    {
      "cell_type": "code",
      "metadata": {
        "id": "26_H_Qqv1V5I",
        "colab_type": "code",
        "outputId": "865062ef-08a2-4c9a-f010-fe39b3eca721",
        "colab": {
          "base_uri": "https://localhost:8080/",
          "height": 302
        }
      },
      "source": [
        "plt.imshow(img)"
      ],
      "execution_count": 71,
      "outputs": [
        {
          "output_type": "stream",
          "text": [
            "Clipping input data to the valid range for imshow with RGB data ([0..1] for floats or [0..255] for integers).\n"
          ],
          "name": "stderr"
        },
        {
          "output_type": "execute_result",
          "data": {
            "text/plain": [
              "<matplotlib.image.AxesImage at 0x7f5333974f28>"
            ]
          },
          "metadata": {
            "tags": []
          },
          "execution_count": 71
        },
        {
          "output_type": "display_data",
          "data": {
            "image/png": "[encoded data removed]",
            "text/plain": [
              "<Figure size 432x288 with 1 Axes>"
            ]
          },
          "metadata": {
            "tags": [],
            "needs_background": "light"
          }
        }
      ]
    },
    {
      "cell_type": "code",
      "metadata": {
        "id": "8pscIJIY1V5O",
        "colab_type": "code",
        "colab": {}
      },
      "source": [
        ""
      ],
      "execution_count": 0,
      "outputs": []
    }
  ]
}