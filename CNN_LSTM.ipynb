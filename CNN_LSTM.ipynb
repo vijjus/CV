{
  "nbformat": 4,
  "nbformat_minor": 0,
  "metadata": {
    "colab": {
      "name": "CNN/LSTM",
      "provenance": [],
      "machine_shape": "hm",
      "include_colab_link": true
    },
    "kernelspec": {
      "name": "python3",
      "display_name": "Python 3"
    },
    "accelerator": "GPU"
  },
  "cells": [
    {
      "cell_type": "markdown",
      "metadata": {
        "id": "view-in-github",
        "colab_type": "text"
      },
      "source": [
        "<a href=\"https://colab.research.google.com/github/vijjus/CV/blob/master/CNN_LSTM.ipynb\" target=\"_parent\"><img src=\"https://colab.research.google.com/assets/colab-badge.svg\" alt=\"Open In Colab\"/></a>"
      ]
    },
    {
      "cell_type": "code",
      "metadata": {
        "id": "uWEn2L_4t8hN",
        "colab_type": "code",
        "outputId": "d8b90ac4-394f-4f97-d001-65b71e98beb3",
        "colab": {
          "base_uri": "https://localhost:8080/",
          "height": 357
        }
      },
      "source": [
        "gpu_info = !nvidia-smi\n",
        "gpu_info = '\\n'.join(gpu_info)\n",
        "if gpu_info.find('failed') >= 0:\n",
        "  print('Select the Runtime > \"Change runtime type\" menu to enable a GPU accelerator, ')\n",
        "  print('and then re-execute this cell.')\n",
        "else:\n",
        "  print(gpu_info)"
      ],
      "execution_count": 2,
      "outputs": [
        {
          "output_type": "stream",
          "text": [
            "Sat Jun 13 18:10:33 2020       \n",
            "+-----------------------------------------------------------------------------+\n",
            "| NVIDIA-SMI 450.36.06    Driver Version: 418.67       CUDA Version: 10.1     |\n",
            "|-------------------------------+----------------------+----------------------+\n",
            "| GPU  Name        Persistence-M| Bus-Id        Disp.A | Volatile Uncorr. ECC |\n",
            "| Fan  Temp  Perf  Pwr:Usage/Cap|         Memory-Usage | GPU-Util  Compute M. |\n",
            "|                               |                      |               MIG M. |\n",
            "|===============================+======================+======================|\n",
            "|   0  Tesla P100-PCIE...  Off  | 00000000:00:04.0 Off |                    0 |\n",
            "| N/A   43C    P0    29W / 250W |      0MiB / 16280MiB |      0%      Default |\n",
            "|                               |                      |                 ERR! |\n",
            "+-------------------------------+----------------------+----------------------+\n",
            "                                                                               \n",
            "+-----------------------------------------------------------------------------+\n",
            "| Processes:                                                                  |\n",
            "|  GPU   GI   CI        PID   Type   Process name                  GPU Memory |\n",
            "|        ID   ID                                                   Usage      |\n",
            "|=============================================================================|\n",
            "|  No running processes found                                                 |\n",
            "+-----------------------------------------------------------------------------+\n"
          ],
          "name": "stdout"
        }
      ]
    },
    {
      "cell_type": "code",
      "metadata": {
        "id": "s09_HgVtuF9O",
        "colab_type": "code",
        "outputId": "7456bd4d-a1f7-4d79-95a1-d2b6969aa554",
        "colab": {
          "base_uri": "https://localhost:8080/",
          "height": 306
        }
      },
      "source": [
        "!echo '3FDsALdx4sLyMedGxO5h:RsdZX1E2jRryINc6Vb5HGpL1FY84lNBXbTNSU8Ln' > ~/.passwd-s3fs\n",
        "!cat ~/.passwd-s3fs\n",
        "!chmod 600 ~/.passwd-s3fs\n",
        "!mkdir /s3\n",
        "!apt install s3fs\n",
        "!s3fs w251-final-project /s3 -o passwd_file=~/.passwd-s3fs,url=https://s3.us.cloud-object-storage.appdomain.cloud\n",
        "!pip3 install timm"
      ],
      "execution_count": 3,
      "outputs": [
        {
          "output_type": "stream",
          "text": [
            "3FDsALdx4sLyMedGxO5h:RsdZX1E2jRryINc6Vb5HGpL1FY84lNBXbTNSU8Ln\n",
            "mkdir: cannot create directory ‘/s3’: File exists\n",
            "Reading package lists... Done\n",
            "Building dependency tree       \n",
            "Reading state information... Done\n",
            "s3fs is already the newest version (1.82-1).\n",
            "The following package was automatically installed and is no longer required:\n",
            "  libnvidia-common-440\n",
            "Use 'apt autoremove' to remove it.\n",
            "0 upgraded, 0 newly installed, 0 to remove and 43 not upgraded.\n",
            "s3fs: MOUNTPOINT directory /s3 is not empty. if you are sure this is safe, can use the 'nonempty' mount option.\n",
            "Requirement already satisfied: timm in /usr/local/lib/python3.6/dist-packages (0.1.28)\n",
            "Requirement already satisfied: torch>=1.0 in /usr/local/lib/python3.6/dist-packages (from timm) (1.5.0+cu101)\n",
            "Requirement already satisfied: torchvision in /usr/local/lib/python3.6/dist-packages (from timm) (0.6.0+cu101)\n",
            "Requirement already satisfied: future in /usr/local/lib/python3.6/dist-packages (from torch>=1.0->timm) (0.16.0)\n",
            "Requirement already satisfied: numpy in /usr/local/lib/python3.6/dist-packages (from torch>=1.0->timm) (1.18.5)\n",
            "Requirement already satisfied: pillow>=4.1.1 in /usr/local/lib/python3.6/dist-packages (from torchvision->timm) (7.0.0)\n"
          ],
          "name": "stdout"
        }
      ]
    },
    {
      "cell_type": "code",
      "metadata": {
        "id": "4-VfFZx0u59D",
        "colab_type": "code",
        "outputId": "0ca1d22e-4780-4249-916b-c00db414ef0e",
        "colab": {
          "base_uri": "https://localhost:8080/",
          "height": 34
        }
      },
      "source": [
        "import torch\n",
        "from torch.autograd import Variable\n",
        "import numpy as np\n",
        "import torch.nn.functional as F\n",
        "import torchvision\n",
        "from torchvision import transforms, datasets\n",
        "from torch.utils.data import Dataset, DataLoader\n",
        "import torch.optim as optim\n",
        "from torch import nn\n",
        "import matplotlib.pyplot as plt\n",
        "import matplotlib.image as mpimg\n",
        "import urllib\n",
        "import urllib.request\n",
        "import cv2\n",
        "from google.colab.patches import cv2_imshow\n",
        "import re\n",
        "import os\n",
        "import random\n",
        "from PIL import Image\n",
        "import timm\n",
        "from tensorflow import summary\n",
        "import datetime\n",
        "%load_ext tensorboard\n",
        "device = torch.device('cuda' if torch.cuda.is_available() else 'cpu')\n",
        "device"
      ],
      "execution_count": 4,
      "outputs": [
        {
          "output_type": "execute_result",
          "data": {
            "text/plain": [
              "device(type='cuda')"
            ]
          },
          "metadata": {
            "tags": []
          },
          "execution_count": 4
        }
      ]
    },
    {
      "cell_type": "code",
      "metadata": {
        "id": "9SkzoU-SzPqG",
        "colab_type": "code",
        "colab": {}
      },
      "source": [
        "# Retinaface function to extract picture from url\n",
        "\n",
        "def url_to_image(url):\n",
        "    resp = urllib.request.urlopen(url)\n",
        "    image = np.asarray(bytearray(resp.read()), dtype=\"uint8\")\n",
        "    image = cv2.imdecode(image, cv2.IMREAD_COLOR)\n",
        "    return image\n",
        "\n",
        "# function calls\n",
        "\n",
        "#url = 'https://github.com/deepinsight/insightface/blob/master/sample-images/t1.jpg?raw=true'\n",
        "#img = url_to_image(url)\n",
        "#x = retinaface(img)\n",
        "\n",
        "# returns the list of information\n",
        "def retinaface(img):\n",
        "  model = insightface.app.FaceAnalysis()\n",
        "  model.prepare(ctx_id = -1, nms = 0.4)\n",
        "  faces = model.get(img)\n",
        "  return faces\n",
        "  \"\"\"\n",
        "  for idx, face in enumerate(x):\n",
        "    print(\"Face [%d]:\"%idx)\n",
        "    print(\"\\tage:%d\"%(face.age))\n",
        "    gender = 'Male'\n",
        "    if face.gender==0:\n",
        "      gender = 'Female'\n",
        "    print(\"\\tgender:%s\"%(gender))\n",
        "    print(\"\\tembedding shape:%s\"%face.embedding.shape)\n",
        "    print(\"\\tbbox:%s\"%(face.bbox.astype(np.int).flatten()))\n",
        "    print(\"\\tlandmark:%s\"%(face.landmark.astype(np.int).flatten()))\n",
        "    print(\"\")\n",
        "  \"\"\"\n",
        "\n",
        "current_time = str(datetime.datetime.now().timestamp())\n",
        "train_log_dir = 'logs/tensorboard/train/' + current_time\n",
        "test_log_dir = 'logs/tensorboard/test/' + current_time\n",
        "train_summary_writer = summary.create_file_writer(train_log_dir)\n",
        "test_summary_writer = summary.create_file_writer(test_log_dir)\n"
      ],
      "execution_count": 0,
      "outputs": []
    },
    {
      "cell_type": "code",
      "metadata": {
        "id": "8VGJKbAtaL-n",
        "colab_type": "code",
        "colab": {}
      },
      "source": [
        "phases = ['train', 'val']"
      ],
      "execution_count": 0,
      "outputs": []
    },
    {
      "cell_type": "code",
      "metadata": {
        "id": "zmoIfHaWu1fG",
        "colab_type": "code",
        "colab": {}
      },
      "source": [
        "#transforms\n",
        "data_transforms = {\n",
        "    'train': transforms.Compose([\n",
        "        transforms.RandomResizedCrop(224),\n",
        "        transforms.RandomHorizontalFlip(),\n",
        "        transforms.ToTensor(),\n",
        "        transforms.Normalize([0.485, 0.456, 0.406], [0.229, 0.224, 0.225])\n",
        "    ]),\n",
        "    'val': transforms.Compose([\n",
        "        transforms.Resize(256),\n",
        "        transforms.CenterCrop(224),\n",
        "        transforms.ToTensor(),\n",
        "        transforms.Normalize([0.485, 0.456, 0.406], [0.229, 0.224, 0.225])\n",
        "    ]),\n",
        "}"
      ],
      "execution_count": 0,
      "outputs": []
    },
    {
      "cell_type": "code",
      "metadata": {
        "id": "f6QwGvNG2EgJ",
        "colab_type": "code",
        "colab": {}
      },
      "source": [
        "class DFDC(Dataset):  \n",
        "  def __init__(self, path, fpv, transform = None):\n",
        "    self.path = path # relative path to directory of FAKE/REAL videos\n",
        "    self.index = {} # stores the mapping of indices to video names\n",
        "    self.mapping = {} # stores the mapping of videos to the number of frames found in the directory for video\n",
        "    self.boundary = 0 # the index for the boundary between fake and real videos\n",
        "    self.transform = transform # transform object passed in that is used on the PIL image frames\n",
        "    i = 0\n",
        "    regex = \"([a-z]+)(\\d+)\"\n",
        "    for subdirectory in [\"/FAKE\", \"/REAL\"]:\n",
        "      for x in os.listdir(self.path + subdirectory):\n",
        "        match = re.search(regex, x)\n",
        "        if match:\n",
        "            video = match.group(1)\n",
        "            number = int(match.group(2))\n",
        "            if self.mapping.get(video, -1) == -1:\n",
        "                self.index[i] = video\n",
        "                i += 1\n",
        "            self.mapping[video] = max(number, self.mapping.get(video, 0))\n",
        "      self.boundary = i if self.boundary == 0 else self.boundary\n",
        "    self.fpv = fpv\n",
        "\n",
        "  def __getitem__(self, i):\n",
        "    video = self.index[i]\n",
        "    num = self.mapping[video]\n",
        "    x = random.randrange(0, num - self.fpv + 2)\n",
        "    frames = []\n",
        "    for k in range(self.fpv):\n",
        "      subdirectory = \"/FAKE\" if i < self.boundary else \"/REAL\"\n",
        "      frame = Image.open(self.path + subdirectory + \"/\" + video + str(x)+ \".png\")\n",
        "      frame = frame.convert(\"RGB\")\n",
        "      if self.transform:\n",
        "        frame = self.transform(frame)\n",
        "      frames.append(frame)\n",
        "      x += 1\n",
        "    label = 0 if i < self.boundary else 1\n",
        "    return torch.stack(frames, dim=0), torch.tensor(label, dtype=torch.float32)\n",
        "\n",
        "  def __len__(self):\n",
        "    return len(self.index)"
      ],
      "execution_count": 0,
      "outputs": []
    },
    {
      "cell_type": "code",
      "metadata": {
        "id": "W78Czd55Vr-X",
        "colab_type": "code",
        "colab": {}
      },
      "source": [
        "input_size = 512\n",
        "output_size = 1\n",
        "hidden_dim = 512\n",
        "n_layers = 2\n",
        "batchsize = 8\n",
        "fpv = 2"
      ],
      "execution_count": 0,
      "outputs": []
    },
    {
      "cell_type": "code",
      "metadata": {
        "id": "JqxllO1_aZua",
        "colab_type": "code",
        "colab": {}
      },
      "source": [
        "base_dir = \"/s3/DFDC/dataloader/\""
      ],
      "execution_count": 0,
      "outputs": []
    },
    {
      "cell_type": "code",
      "metadata": {
        "id": "kdF0XDGZbjTr",
        "colab_type": "code",
        "colab": {}
      },
      "source": [
        "def make_dataset(phase):\n",
        "  d = base_dir + phase\n",
        "  print(d)\n",
        "  transform = data_transforms[phase]\n",
        "  print(transform)\n",
        "  return DFDC(d, fpv, transform)"
      ],
      "execution_count": 0,
      "outputs": []
    },
    {
      "cell_type": "code",
      "metadata": {
        "id": "bLozU5dlgIeL",
        "colab_type": "code",
        "colab": {
          "base_uri": "https://localhost:8080/",
          "height": 255
        },
        "outputId": "b2784862-7a8e-4972-9349-055b088a28a0"
      },
      "source": [
        "dataset = [make_dataset(x) for x in phases]"
      ],
      "execution_count": 89,
      "outputs": [
        {
          "output_type": "stream",
          "text": [
            "/s3/DFDC/dataloader/train\n",
            "Compose(\n",
            "    RandomResizedCrop(size=(224, 224), scale=(0.08, 1.0), ratio=(0.75, 1.3333), interpolation=PIL.Image.BILINEAR)\n",
            "    RandomHorizontalFlip(p=0.5)\n",
            "    ToTensor()\n",
            "    Normalize(mean=[0.485, 0.456, 0.406], std=[0.229, 0.224, 0.225])\n",
            ")\n",
            "/s3/DFDC/dataloader/val\n",
            "Compose(\n",
            "    Resize(size=256, interpolation=PIL.Image.BILINEAR)\n",
            "    CenterCrop(size=(224, 224))\n",
            "    ToTensor()\n",
            "    Normalize(mean=[0.485, 0.456, 0.406], std=[0.229, 0.224, 0.225])\n",
            ")\n"
          ],
          "name": "stdout"
        }
      ]
    },
    {
      "cell_type": "code",
      "metadata": {
        "id": "X4oYxfC2i_oH",
        "colab_type": "code",
        "colab": {
          "base_uri": "https://localhost:8080/",
          "height": 34
        },
        "outputId": "188bf8a8-3046-478c-f1fc-fbe4b8f079ce"
      },
      "source": [
        "len(dataset[0]), len(dataset[1])"
      ],
      "execution_count": 90,
      "outputs": [
        {
          "output_type": "execute_result",
          "data": {
            "text/plain": [
              "(969, 548)"
            ]
          },
          "metadata": {
            "tags": []
          },
          "execution_count": 90
        }
      ]
    },
    {
      "cell_type": "code",
      "metadata": {
        "id": "c6UZelNFVLvh",
        "colab_type": "code",
        "colab": {}
      },
      "source": [
        "dataloader = [DataLoader(d, batch_size = batchsize, shuffle = True, num_workers = 2) for d in dataset]"
      ],
      "execution_count": 0,
      "outputs": []
    },
    {
      "cell_type": "code",
      "metadata": {
        "id": "QWDAzimAdYc1",
        "colab_type": "code",
        "colab": {
          "base_uri": "https://localhost:8080/",
          "height": 51
        },
        "outputId": "221031a8-e081-44a3-bba6-ad0889338104"
      },
      "source": [
        "dataloader"
      ],
      "execution_count": 92,
      "outputs": [
        {
          "output_type": "execute_result",
          "data": {
            "text/plain": [
              "[<torch.utils.data.dataloader.DataLoader at 0x7f3ace428a58>,\n",
              " <torch.utils.data.dataloader.DataLoader at 0x7f3ace4281d0>]"
            ]
          },
          "metadata": {
            "tags": []
          },
          "execution_count": 92
        }
      ]
    },
    {
      "cell_type": "code",
      "metadata": {
        "id": "poYDIbXw8erC",
        "colab_type": "code",
        "colab": {}
      },
      "source": [
        "class Identity(nn.Module):\n",
        "    def __init__(self):\n",
        "        super(Identity, self).__init__()\n",
        "        \n",
        "    def forward(self, x):\n",
        "        return x"
      ],
      "execution_count": 0,
      "outputs": []
    },
    {
      "cell_type": "code",
      "metadata": {
        "id": "Va1vn3ykTpvg",
        "colab_type": "code",
        "colab": {}
      },
      "source": [
        "class DFDCNet(nn.Module):\n",
        "    def __init__(self, input_size, output_size, hidden_dim, n_layers, drop_prob=0.5):\n",
        "        super(DFDCNet, self).__init__()\n",
        "        self.output_size = output_size\n",
        "        self.n_layers = n_layers\n",
        "        self.hidden_dim = hidden_dim\n",
        "        # use mixnet_s, remove the final Linear layer (1536 -> 1000)\n",
        "        self.mixnet = timm.create_model(\"mixnet_s\", pretrained=True)\n",
        "        self.mixnet.classifier = Identity()\n",
        "\n",
        "        self.lstm = nn.LSTM(1536, hidden_dim, n_layers, dropout=drop_prob, batch_first=True)\n",
        "        self.dropout = nn.Dropout(0.5)\n",
        "        self.batchnorm = nn.BatchNorm1d(hidden_dim)\n",
        "        self.elu = nn.ELU()\n",
        "        self.fc1 = nn.Linear(hidden_dim, 32)\n",
        "        self.fc4 = nn.Linear(32, output_size)\n",
        "        self.sigmoid = nn.Sigmoid()\n",
        "        \n",
        "    def forward(self, x, hidden):\n",
        "        batch_size, seqlen, c, h, w = x.size()\n",
        "        x = x.reshape(batch_size*seqlen, c, h, w).float()\n",
        "        x = self.mixnet(x)\n",
        "        x = x.reshape(batch_size, seqlen, x.shape[1])\n",
        "        lstm_out, hidden = self.lstm(x, hidden)\n",
        "        lstm_out = lstm_out.contiguous().view(-1, self.hidden_dim)\n",
        "        \n",
        "        out = self.dropout(lstm_out)\n",
        "        out = self.fc1(out)\n",
        "        out = self.elu(out)\n",
        "        out = self.fc4(out)\n",
        "        out = self.sigmoid(out)\n",
        "        \n",
        "        out = out.view(batch_size, -1)\n",
        "        out = out[:,-1]\n",
        "        return out, hidden\n",
        "    \n",
        "    def init_hidden(self, batch_size):\n",
        "        weight = next(self.parameters()).data\n",
        "        hidden = (weight.new(self.n_layers, batch_size, self.hidden_dim).zero_().to(device),\n",
        "                      weight.new(self.n_layers, batch_size, self.hidden_dim).zero_().to(device))\n",
        "        return hidden"
      ],
      "execution_count": 0,
      "outputs": []
    },
    {
      "cell_type": "code",
      "metadata": {
        "id": "Za2M-s7dn2NC",
        "colab_type": "code",
        "colab": {}
      },
      "source": [
        "net = DFDCNet(input_size, output_size, hidden_dim, n_layers)"
      ],
      "execution_count": 0,
      "outputs": []
    },
    {
      "cell_type": "code",
      "metadata": {
        "id": "avWnTAYV3RWI",
        "colab_type": "code",
        "colab": {}
      },
      "source": [
        "net = net.to(device)"
      ],
      "execution_count": 0,
      "outputs": []
    },
    {
      "cell_type": "code",
      "metadata": {
        "id": "88Km5Azo3Tho",
        "colab_type": "code",
        "colab": {
          "base_uri": "https://localhost:8080/",
          "height": 1000
        },
        "outputId": "9174507a-9d8c-4ecc-c8ec-5658631c4ed7"
      },
      "source": [
        "net.train()"
      ],
      "execution_count": 65,
      "outputs": [
        {
          "output_type": "execute_result",
          "data": {
            "text/plain": [
              "DFDCNet(\n",
              "  (mixnet): EfficientNet(\n",
              "    (conv_stem): Conv2d(3, 16, kernel_size=(3, 3), stride=(2, 2), padding=(1, 1), bias=False)\n",
              "    (bn1): BatchNorm2d(16, eps=1e-05, momentum=0.1, affine=True, track_running_stats=True)\n",
              "    (act1): ReLU(inplace=True)\n",
              "    (blocks): Sequential(\n",
              "      (0): Sequential(\n",
              "        (0): DepthwiseSeparableConv(\n",
              "          (conv_dw): Conv2d(16, 16, kernel_size=(3, 3), stride=(1, 1), padding=(1, 1), groups=16, bias=False)\n",
              "          (bn1): BatchNorm2d(16, eps=1e-05, momentum=0.1, affine=True, track_running_stats=True)\n",
              "          (act1): ReLU(inplace=True)\n",
              "          (conv_pw): Conv2d(16, 16, kernel_size=(1, 1), stride=(1, 1), bias=False)\n",
              "          (bn2): BatchNorm2d(16, eps=1e-05, momentum=0.1, affine=True, track_running_stats=True)\n",
              "          (act2): Identity()\n",
              "        )\n",
              "      )\n",
              "      (1): Sequential(\n",
              "        (0): InvertedResidual(\n",
              "          (conv_pw): MixedConv2d(\n",
              "            (0): Conv2d(8, 48, kernel_size=(1, 1), stride=(1, 1), bias=False)\n",
              "            (1): Conv2d(8, 48, kernel_size=(1, 1), stride=(1, 1), bias=False)\n",
              "          )\n",
              "          (bn1): BatchNorm2d(96, eps=1e-05, momentum=0.1, affine=True, track_running_stats=True)\n",
              "          (act1): ReLU(inplace=True)\n",
              "          (conv_dw): Conv2d(96, 96, kernel_size=(3, 3), stride=(2, 2), padding=(1, 1), groups=96, bias=False)\n",
              "          (bn2): BatchNorm2d(96, eps=1e-05, momentum=0.1, affine=True, track_running_stats=True)\n",
              "          (act2): ReLU(inplace=True)\n",
              "          (conv_pwl): MixedConv2d(\n",
              "            (0): Conv2d(48, 12, kernel_size=(1, 1), stride=(1, 1), bias=False)\n",
              "            (1): Conv2d(48, 12, kernel_size=(1, 1), stride=(1, 1), bias=False)\n",
              "          )\n",
              "          (bn3): BatchNorm2d(24, eps=1e-05, momentum=0.1, affine=True, track_running_stats=True)\n",
              "        )\n",
              "        (1): InvertedResidual(\n",
              "          (conv_pw): MixedConv2d(\n",
              "            (0): Conv2d(12, 36, kernel_size=(1, 1), stride=(1, 1), bias=False)\n",
              "            (1): Conv2d(12, 36, kernel_size=(1, 1), stride=(1, 1), bias=False)\n",
              "          )\n",
              "          (bn1): BatchNorm2d(72, eps=1e-05, momentum=0.1, affine=True, track_running_stats=True)\n",
              "          (act1): ReLU(inplace=True)\n",
              "          (conv_dw): Conv2d(72, 72, kernel_size=(3, 3), stride=(1, 1), padding=(1, 1), groups=72, bias=False)\n",
              "          (bn2): BatchNorm2d(72, eps=1e-05, momentum=0.1, affine=True, track_running_stats=True)\n",
              "          (act2): ReLU(inplace=True)\n",
              "          (conv_pwl): MixedConv2d(\n",
              "            (0): Conv2d(36, 12, kernel_size=(1, 1), stride=(1, 1), bias=False)\n",
              "            (1): Conv2d(36, 12, kernel_size=(1, 1), stride=(1, 1), bias=False)\n",
              "          )\n",
              "          (bn3): BatchNorm2d(24, eps=1e-05, momentum=0.1, affine=True, track_running_stats=True)\n",
              "        )\n",
              "      )\n",
              "      (2): Sequential(\n",
              "        (0): InvertedResidual(\n",
              "          (conv_pw): Conv2d(24, 144, kernel_size=(1, 1), stride=(1, 1), bias=False)\n",
              "          (bn1): BatchNorm2d(144, eps=1e-05, momentum=0.1, affine=True, track_running_stats=True)\n",
              "          (act1): SwishMe()\n",
              "          (conv_dw): MixedConv2d(\n",
              "            (0): Conv2d(48, 48, kernel_size=(3, 3), stride=(2, 2), padding=(1, 1), groups=48, bias=False)\n",
              "            (1): Conv2d(48, 48, kernel_size=(5, 5), stride=(2, 2), padding=(2, 2), groups=48, bias=False)\n",
              "            (2): Conv2d(48, 48, kernel_size=(7, 7), stride=(2, 2), padding=(3, 3), groups=48, bias=False)\n",
              "          )\n",
              "          (bn2): BatchNorm2d(144, eps=1e-05, momentum=0.1, affine=True, track_running_stats=True)\n",
              "          (act2): SwishMe()\n",
              "          (se): SqueezeExcite(\n",
              "            (avg_pool): AdaptiveAvgPool2d(output_size=1)\n",
              "            (conv_reduce): Conv2d(144, 12, kernel_size=(1, 1), stride=(1, 1))\n",
              "            (act1): SwishMe()\n",
              "            (conv_expand): Conv2d(12, 144, kernel_size=(1, 1), stride=(1, 1))\n",
              "          )\n",
              "          (conv_pwl): Conv2d(144, 40, kernel_size=(1, 1), stride=(1, 1), bias=False)\n",
              "          (bn3): BatchNorm2d(40, eps=1e-05, momentum=0.1, affine=True, track_running_stats=True)\n",
              "        )\n",
              "        (1): InvertedResidual(\n",
              "          (conv_pw): MixedConv2d(\n",
              "            (0): Conv2d(20, 120, kernel_size=(1, 1), stride=(1, 1), bias=False)\n",
              "            (1): Conv2d(20, 120, kernel_size=(1, 1), stride=(1, 1), bias=False)\n",
              "          )\n",
              "          (bn1): BatchNorm2d(240, eps=1e-05, momentum=0.1, affine=True, track_running_stats=True)\n",
              "          (act1): SwishMe()\n",
              "          (conv_dw): MixedConv2d(\n",
              "            (0): Conv2d(120, 120, kernel_size=(3, 3), stride=(1, 1), padding=(1, 1), groups=120, bias=False)\n",
              "            (1): Conv2d(120, 120, kernel_size=(5, 5), stride=(1, 1), padding=(2, 2), groups=120, bias=False)\n",
              "          )\n",
              "          (bn2): BatchNorm2d(240, eps=1e-05, momentum=0.1, affine=True, track_running_stats=True)\n",
              "          (act2): SwishMe()\n",
              "          (se): SqueezeExcite(\n",
              "            (avg_pool): AdaptiveAvgPool2d(output_size=1)\n",
              "            (conv_reduce): Conv2d(240, 20, kernel_size=(1, 1), stride=(1, 1))\n",
              "            (act1): SwishMe()\n",
              "            (conv_expand): Conv2d(20, 240, kernel_size=(1, 1), stride=(1, 1))\n",
              "          )\n",
              "          (conv_pwl): MixedConv2d(\n",
              "            (0): Conv2d(120, 20, kernel_size=(1, 1), stride=(1, 1), bias=False)\n",
              "            (1): Conv2d(120, 20, kernel_size=(1, 1), stride=(1, 1), bias=False)\n",
              "          )\n",
              "          (bn3): BatchNorm2d(40, eps=1e-05, momentum=0.1, affine=True, track_running_stats=True)\n",
              "        )\n",
              "        (2): InvertedResidual(\n",
              "          (conv_pw): MixedConv2d(\n",
              "            (0): Conv2d(20, 120, kernel_size=(1, 1), stride=(1, 1), bias=False)\n",
              "            (1): Conv2d(20, 120, kernel_size=(1, 1), stride=(1, 1), bias=False)\n",
              "          )\n",
              "          (bn1): BatchNorm2d(240, eps=1e-05, momentum=0.1, affine=True, track_running_stats=True)\n",
              "          (act1): SwishMe()\n",
              "          (conv_dw): MixedConv2d(\n",
              "            (0): Conv2d(120, 120, kernel_size=(3, 3), stride=(1, 1), padding=(1, 1), groups=120, bias=False)\n",
              "            (1): Conv2d(120, 120, kernel_size=(5, 5), stride=(1, 1), padding=(2, 2), groups=120, bias=False)\n",
              "          )\n",
              "          (bn2): BatchNorm2d(240, eps=1e-05, momentum=0.1, affine=True, track_running_stats=True)\n",
              "          (act2): SwishMe()\n",
              "          (se): SqueezeExcite(\n",
              "            (avg_pool): AdaptiveAvgPool2d(output_size=1)\n",
              "            (conv_reduce): Conv2d(240, 20, kernel_size=(1, 1), stride=(1, 1))\n",
              "            (act1): SwishMe()\n",
              "            (conv_expand): Conv2d(20, 240, kernel_size=(1, 1), stride=(1, 1))\n",
              "          )\n",
              "          (conv_pwl): MixedConv2d(\n",
              "            (0): Conv2d(120, 20, kernel_size=(1, 1), stride=(1, 1), bias=False)\n",
              "            (1): Conv2d(120, 20, kernel_size=(1, 1), stride=(1, 1), bias=False)\n",
              "          )\n",
              "          (bn3): BatchNorm2d(40, eps=1e-05, momentum=0.1, affine=True, track_running_stats=True)\n",
              "        )\n",
              "        (3): InvertedResidual(\n",
              "          (conv_pw): MixedConv2d(\n",
              "            (0): Conv2d(20, 120, kernel_size=(1, 1), stride=(1, 1), bias=False)\n",
              "            (1): Conv2d(20, 120, kernel_size=(1, 1), stride=(1, 1), bias=False)\n",
              "          )\n",
              "          (bn1): BatchNorm2d(240, eps=1e-05, momentum=0.1, affine=True, track_running_stats=True)\n",
              "          (act1): SwishMe()\n",
              "          (conv_dw): MixedConv2d(\n",
              "            (0): Conv2d(120, 120, kernel_size=(3, 3), stride=(1, 1), padding=(1, 1), groups=120, bias=False)\n",
              "            (1): Conv2d(120, 120, kernel_size=(5, 5), stride=(1, 1), padding=(2, 2), groups=120, bias=False)\n",
              "          )\n",
              "          (bn2): BatchNorm2d(240, eps=1e-05, momentum=0.1, affine=True, track_running_stats=True)\n",
              "          (act2): SwishMe()\n",
              "          (se): SqueezeExcite(\n",
              "            (avg_pool): AdaptiveAvgPool2d(output_size=1)\n",
              "            (conv_reduce): Conv2d(240, 20, kernel_size=(1, 1), stride=(1, 1))\n",
              "            (act1): SwishMe()\n",
              "            (conv_expand): Conv2d(20, 240, kernel_size=(1, 1), stride=(1, 1))\n",
              "          )\n",
              "          (conv_pwl): MixedConv2d(\n",
              "            (0): Conv2d(120, 20, kernel_size=(1, 1), stride=(1, 1), bias=False)\n",
              "            (1): Conv2d(120, 20, kernel_size=(1, 1), stride=(1, 1), bias=False)\n",
              "          )\n",
              "          (bn3): BatchNorm2d(40, eps=1e-05, momentum=0.1, affine=True, track_running_stats=True)\n",
              "        )\n",
              "      )\n",
              "      (3): Sequential(\n",
              "        (0): InvertedResidual(\n",
              "          (conv_pw): Conv2d(40, 240, kernel_size=(1, 1), stride=(1, 1), bias=False)\n",
              "          (bn1): BatchNorm2d(240, eps=1e-05, momentum=0.1, affine=True, track_running_stats=True)\n",
              "          (act1): SwishMe()\n",
              "          (conv_dw): MixedConv2d(\n",
              "            (0): Conv2d(80, 80, kernel_size=(3, 3), stride=(2, 2), padding=(1, 1), groups=80, bias=False)\n",
              "            (1): Conv2d(80, 80, kernel_size=(5, 5), stride=(2, 2), padding=(2, 2), groups=80, bias=False)\n",
              "            (2): Conv2d(80, 80, kernel_size=(7, 7), stride=(2, 2), padding=(3, 3), groups=80, bias=False)\n",
              "          )\n",
              "          (bn2): BatchNorm2d(240, eps=1e-05, momentum=0.1, affine=True, track_running_stats=True)\n",
              "          (act2): SwishMe()\n",
              "          (se): SqueezeExcite(\n",
              "            (avg_pool): AdaptiveAvgPool2d(output_size=1)\n",
              "            (conv_reduce): Conv2d(240, 10, kernel_size=(1, 1), stride=(1, 1))\n",
              "            (act1): SwishMe()\n",
              "            (conv_expand): Conv2d(10, 240, kernel_size=(1, 1), stride=(1, 1))\n",
              "          )\n",
              "          (conv_pwl): MixedConv2d(\n",
              "            (0): Conv2d(120, 40, kernel_size=(1, 1), stride=(1, 1), bias=False)\n",
              "            (1): Conv2d(120, 40, kernel_size=(1, 1), stride=(1, 1), bias=False)\n",
              "          )\n",
              "          (bn3): BatchNorm2d(80, eps=1e-05, momentum=0.1, affine=True, track_running_stats=True)\n",
              "        )\n",
              "        (1): InvertedResidual(\n",
              "          (conv_pw): Conv2d(80, 480, kernel_size=(1, 1), stride=(1, 1), bias=False)\n",
              "          (bn1): BatchNorm2d(480, eps=1e-05, momentum=0.1, affine=True, track_running_stats=True)\n",
              "          (act1): SwishMe()\n",
              "          (conv_dw): MixedConv2d(\n",
              "            (0): Conv2d(240, 240, kernel_size=(3, 3), stride=(1, 1), padding=(1, 1), groups=240, bias=False)\n",
              "            (1): Conv2d(240, 240, kernel_size=(5, 5), stride=(1, 1), padding=(2, 2), groups=240, bias=False)\n",
              "          )\n",
              "          (bn2): BatchNorm2d(480, eps=1e-05, momentum=0.1, affine=True, track_running_stats=True)\n",
              "          (act2): SwishMe()\n",
              "          (se): SqueezeExcite(\n",
              "            (avg_pool): AdaptiveAvgPool2d(output_size=1)\n",
              "            (conv_reduce): Conv2d(480, 20, kernel_size=(1, 1), stride=(1, 1))\n",
              "            (act1): SwishMe()\n",
              "            (conv_expand): Conv2d(20, 480, kernel_size=(1, 1), stride=(1, 1))\n",
              "          )\n",
              "          (conv_pwl): MixedConv2d(\n",
              "            (0): Conv2d(240, 40, kernel_size=(1, 1), stride=(1, 1), bias=False)\n",
              "            (1): Conv2d(240, 40, kernel_size=(1, 1), stride=(1, 1), bias=False)\n",
              "          )\n",
              "          (bn3): BatchNorm2d(80, eps=1e-05, momentum=0.1, affine=True, track_running_stats=True)\n",
              "        )\n",
              "        (2): InvertedResidual(\n",
              "          (conv_pw): Conv2d(80, 480, kernel_size=(1, 1), stride=(1, 1), bias=False)\n",
              "          (bn1): BatchNorm2d(480, eps=1e-05, momentum=0.1, affine=True, track_running_stats=True)\n",
              "          (act1): SwishMe()\n",
              "          (conv_dw): MixedConv2d(\n",
              "            (0): Conv2d(240, 240, kernel_size=(3, 3), stride=(1, 1), padding=(1, 1), groups=240, bias=False)\n",
              "            (1): Conv2d(240, 240, kernel_size=(5, 5), stride=(1, 1), padding=(2, 2), groups=240, bias=False)\n",
              "          )\n",
              "          (bn2): BatchNorm2d(480, eps=1e-05, momentum=0.1, affine=True, track_running_stats=True)\n",
              "          (act2): SwishMe()\n",
              "          (se): SqueezeExcite(\n",
              "            (avg_pool): AdaptiveAvgPool2d(output_size=1)\n",
              "            (conv_reduce): Conv2d(480, 20, kernel_size=(1, 1), stride=(1, 1))\n",
              "            (act1): SwishMe()\n",
              "            (conv_expand): Conv2d(20, 480, kernel_size=(1, 1), stride=(1, 1))\n",
              "          )\n",
              "          (conv_pwl): MixedConv2d(\n",
              "            (0): Conv2d(240, 40, kernel_size=(1, 1), stride=(1, 1), bias=False)\n",
              "            (1): Conv2d(240, 40, kernel_size=(1, 1), stride=(1, 1), bias=False)\n",
              "          )\n",
              "          (bn3): BatchNorm2d(80, eps=1e-05, momentum=0.1, affine=True, track_running_stats=True)\n",
              "        )\n",
              "      )\n",
              "      (4): Sequential(\n",
              "        (0): InvertedResidual(\n",
              "          (conv_pw): MixedConv2d(\n",
              "            (0): Conv2d(40, 240, kernel_size=(1, 1), stride=(1, 1), bias=False)\n",
              "            (1): Conv2d(40, 240, kernel_size=(1, 1), stride=(1, 1), bias=False)\n",
              "          )\n",
              "          (bn1): BatchNorm2d(480, eps=1e-05, momentum=0.1, affine=True, track_running_stats=True)\n",
              "          (act1): SwishMe()\n",
              "          (conv_dw): MixedConv2d(\n",
              "            (0): Conv2d(160, 160, kernel_size=(3, 3), stride=(1, 1), padding=(1, 1), groups=160, bias=False)\n",
              "            (1): Conv2d(160, 160, kernel_size=(5, 5), stride=(1, 1), padding=(2, 2), groups=160, bias=False)\n",
              "            (2): Conv2d(160, 160, kernel_size=(7, 7), stride=(1, 1), padding=(3, 3), groups=160, bias=False)\n",
              "          )\n",
              "          (bn2): BatchNorm2d(480, eps=1e-05, momentum=0.1, affine=True, track_running_stats=True)\n",
              "          (act2): SwishMe()\n",
              "          (se): SqueezeExcite(\n",
              "            (avg_pool): AdaptiveAvgPool2d(output_size=1)\n",
              "            (conv_reduce): Conv2d(480, 40, kernel_size=(1, 1), stride=(1, 1))\n",
              "            (act1): SwishMe()\n",
              "            (conv_expand): Conv2d(40, 480, kernel_size=(1, 1), stride=(1, 1))\n",
              "          )\n",
              "          (conv_pwl): MixedConv2d(\n",
              "            (0): Conv2d(240, 60, kernel_size=(1, 1), stride=(1, 1), bias=False)\n",
              "            (1): Conv2d(240, 60, kernel_size=(1, 1), stride=(1, 1), bias=False)\n",
              "          )\n",
              "          (bn3): BatchNorm2d(120, eps=1e-05, momentum=0.1, affine=True, track_running_stats=True)\n",
              "        )\n",
              "        (1): InvertedResidual(\n",
              "          (conv_pw): MixedConv2d(\n",
              "            (0): Conv2d(60, 180, kernel_size=(1, 1), stride=(1, 1), bias=False)\n",
              "            (1): Conv2d(60, 180, kernel_size=(1, 1), stride=(1, 1), bias=False)\n",
              "          )\n",
              "          (bn1): BatchNorm2d(360, eps=1e-05, momentum=0.1, affine=True, track_running_stats=True)\n",
              "          (act1): SwishMe()\n",
              "          (conv_dw): MixedConv2d(\n",
              "            (0): Conv2d(90, 90, kernel_size=(3, 3), stride=(1, 1), padding=(1, 1), groups=90, bias=False)\n",
              "            (1): Conv2d(90, 90, kernel_size=(5, 5), stride=(1, 1), padding=(2, 2), groups=90, bias=False)\n",
              "            (2): Conv2d(90, 90, kernel_size=(7, 7), stride=(1, 1), padding=(3, 3), groups=90, bias=False)\n",
              "            (3): Conv2d(90, 90, kernel_size=(9, 9), stride=(1, 1), padding=(4, 4), groups=90, bias=False)\n",
              "          )\n",
              "          (bn2): BatchNorm2d(360, eps=1e-05, momentum=0.1, affine=True, track_running_stats=True)\n",
              "          (act2): SwishMe()\n",
              "          (se): SqueezeExcite(\n",
              "            (avg_pool): AdaptiveAvgPool2d(output_size=1)\n",
              "            (conv_reduce): Conv2d(360, 60, kernel_size=(1, 1), stride=(1, 1))\n",
              "            (act1): SwishMe()\n",
              "            (conv_expand): Conv2d(60, 360, kernel_size=(1, 1), stride=(1, 1))\n",
              "          )\n",
              "          (conv_pwl): MixedConv2d(\n",
              "            (0): Conv2d(180, 60, kernel_size=(1, 1), stride=(1, 1), bias=False)\n",
              "            (1): Conv2d(180, 60, kernel_size=(1, 1), stride=(1, 1), bias=False)\n",
              "          )\n",
              "          (bn3): BatchNorm2d(120, eps=1e-05, momentum=0.1, affine=True, track_running_stats=True)\n",
              "        )\n",
              "        (2): InvertedResidual(\n",
              "          (conv_pw): MixedConv2d(\n",
              "            (0): Conv2d(60, 180, kernel_size=(1, 1), stride=(1, 1), bias=False)\n",
              "            (1): Conv2d(60, 180, kernel_size=(1, 1), stride=(1, 1), bias=False)\n",
              "          )\n",
              "          (bn1): BatchNorm2d(360, eps=1e-05, momentum=0.1, affine=True, track_running_stats=True)\n",
              "          (act1): SwishMe()\n",
              "          (conv_dw): MixedConv2d(\n",
              "            (0): Conv2d(90, 90, kernel_size=(3, 3), stride=(1, 1), padding=(1, 1), groups=90, bias=False)\n",
              "            (1): Conv2d(90, 90, kernel_size=(5, 5), stride=(1, 1), padding=(2, 2), groups=90, bias=False)\n",
              "            (2): Conv2d(90, 90, kernel_size=(7, 7), stride=(1, 1), padding=(3, 3), groups=90, bias=False)\n",
              "            (3): Conv2d(90, 90, kernel_size=(9, 9), stride=(1, 1), padding=(4, 4), groups=90, bias=False)\n",
              "          )\n",
              "          (bn2): BatchNorm2d(360, eps=1e-05, momentum=0.1, affine=True, track_running_stats=True)\n",
              "          (act2): SwishMe()\n",
              "          (se): SqueezeExcite(\n",
              "            (avg_pool): AdaptiveAvgPool2d(output_size=1)\n",
              "            (conv_reduce): Conv2d(360, 60, kernel_size=(1, 1), stride=(1, 1))\n",
              "            (act1): SwishMe()\n",
              "            (conv_expand): Conv2d(60, 360, kernel_size=(1, 1), stride=(1, 1))\n",
              "          )\n",
              "          (conv_pwl): MixedConv2d(\n",
              "            (0): Conv2d(180, 60, kernel_size=(1, 1), stride=(1, 1), bias=False)\n",
              "            (1): Conv2d(180, 60, kernel_size=(1, 1), stride=(1, 1), bias=False)\n",
              "          )\n",
              "          (bn3): BatchNorm2d(120, eps=1e-05, momentum=0.1, affine=True, track_running_stats=True)\n",
              "        )\n",
              "      )\n",
              "      (5): Sequential(\n",
              "        (0): InvertedResidual(\n",
              "          (conv_pw): Conv2d(120, 720, kernel_size=(1, 1), stride=(1, 1), bias=False)\n",
              "          (bn1): BatchNorm2d(720, eps=1e-05, momentum=0.1, affine=True, track_running_stats=True)\n",
              "          (act1): SwishMe()\n",
              "          (conv_dw): MixedConv2d(\n",
              "            (0): Conv2d(144, 144, kernel_size=(3, 3), stride=(2, 2), padding=(1, 1), groups=144, bias=False)\n",
              "            (1): Conv2d(144, 144, kernel_size=(5, 5), stride=(2, 2), padding=(2, 2), groups=144, bias=False)\n",
              "            (2): Conv2d(144, 144, kernel_size=(7, 7), stride=(2, 2), padding=(3, 3), groups=144, bias=False)\n",
              "            (3): Conv2d(144, 144, kernel_size=(9, 9), stride=(2, 2), padding=(4, 4), groups=144, bias=False)\n",
              "            (4): Conv2d(144, 144, kernel_size=(11, 11), stride=(2, 2), padding=(5, 5), groups=144, bias=False)\n",
              "          )\n",
              "          (bn2): BatchNorm2d(720, eps=1e-05, momentum=0.1, affine=True, track_running_stats=True)\n",
              "          (act2): SwishMe()\n",
              "          (se): SqueezeExcite(\n",
              "            (avg_pool): AdaptiveAvgPool2d(output_size=1)\n",
              "            (conv_reduce): Conv2d(720, 60, kernel_size=(1, 1), stride=(1, 1))\n",
              "            (act1): SwishMe()\n",
              "            (conv_expand): Conv2d(60, 720, kernel_size=(1, 1), stride=(1, 1))\n",
              "          )\n",
              "          (conv_pwl): Conv2d(720, 200, kernel_size=(1, 1), stride=(1, 1), bias=False)\n",
              "          (bn3): BatchNorm2d(200, eps=1e-05, momentum=0.1, affine=True, track_running_stats=True)\n",
              "        )\n",
              "        (1): InvertedResidual(\n",
              "          (conv_pw): Conv2d(200, 1200, kernel_size=(1, 1), stride=(1, 1), bias=False)\n",
              "          (bn1): BatchNorm2d(1200, eps=1e-05, momentum=0.1, affine=True, track_running_stats=True)\n",
              "          (act1): SwishMe()\n",
              "          (conv_dw): MixedConv2d(\n",
              "            (0): Conv2d(300, 300, kernel_size=(3, 3), stride=(1, 1), padding=(1, 1), groups=300, bias=False)\n",
              "            (1): Conv2d(300, 300, kernel_size=(5, 5), stride=(1, 1), padding=(2, 2), groups=300, bias=False)\n",
              "            (2): Conv2d(300, 300, kernel_size=(7, 7), stride=(1, 1), padding=(3, 3), groups=300, bias=False)\n",
              "            (3): Conv2d(300, 300, kernel_size=(9, 9), stride=(1, 1), padding=(4, 4), groups=300, bias=False)\n",
              "          )\n",
              "          (bn2): BatchNorm2d(1200, eps=1e-05, momentum=0.1, affine=True, track_running_stats=True)\n",
              "          (act2): SwishMe()\n",
              "          (se): SqueezeExcite(\n",
              "            (avg_pool): AdaptiveAvgPool2d(output_size=1)\n",
              "            (conv_reduce): Conv2d(1200, 100, kernel_size=(1, 1), stride=(1, 1))\n",
              "            (act1): SwishMe()\n",
              "            (conv_expand): Conv2d(100, 1200, kernel_size=(1, 1), stride=(1, 1))\n",
              "          )\n",
              "          (conv_pwl): MixedConv2d(\n",
              "            (0): Conv2d(600, 100, kernel_size=(1, 1), stride=(1, 1), bias=False)\n",
              "            (1): Conv2d(600, 100, kernel_size=(1, 1), stride=(1, 1), bias=False)\n",
              "          )\n",
              "          (bn3): BatchNorm2d(200, eps=1e-05, momentum=0.1, affine=True, track_running_stats=True)\n",
              "        )\n",
              "        (2): InvertedResidual(\n",
              "          (conv_pw): Conv2d(200, 1200, kernel_size=(1, 1), stride=(1, 1), bias=False)\n",
              "          (bn1): BatchNorm2d(1200, eps=1e-05, momentum=0.1, affine=True, track_running_stats=True)\n",
              "          (act1): SwishMe()\n",
              "          (conv_dw): MixedConv2d(\n",
              "            (0): Conv2d(300, 300, kernel_size=(3, 3), stride=(1, 1), padding=(1, 1), groups=300, bias=False)\n",
              "            (1): Conv2d(300, 300, kernel_size=(5, 5), stride=(1, 1), padding=(2, 2), groups=300, bias=False)\n",
              "            (2): Conv2d(300, 300, kernel_size=(7, 7), stride=(1, 1), padding=(3, 3), groups=300, bias=False)\n",
              "            (3): Conv2d(300, 300, kernel_size=(9, 9), stride=(1, 1), padding=(4, 4), groups=300, bias=False)\n",
              "          )\n",
              "          (bn2): BatchNorm2d(1200, eps=1e-05, momentum=0.1, affine=True, track_running_stats=True)\n",
              "          (act2): SwishMe()\n",
              "          (se): SqueezeExcite(\n",
              "            (avg_pool): AdaptiveAvgPool2d(output_size=1)\n",
              "            (conv_reduce): Conv2d(1200, 100, kernel_size=(1, 1), stride=(1, 1))\n",
              "            (act1): SwishMe()\n",
              "            (conv_expand): Conv2d(100, 1200, kernel_size=(1, 1), stride=(1, 1))\n",
              "          )\n",
              "          (conv_pwl): MixedConv2d(\n",
              "            (0): Conv2d(600, 100, kernel_size=(1, 1), stride=(1, 1), bias=False)\n",
              "            (1): Conv2d(600, 100, kernel_size=(1, 1), stride=(1, 1), bias=False)\n",
              "          )\n",
              "          (bn3): BatchNorm2d(200, eps=1e-05, momentum=0.1, affine=True, track_running_stats=True)\n",
              "        )\n",
              "      )\n",
              "    )\n",
              "    (conv_head): Conv2d(200, 1536, kernel_size=(1, 1), stride=(1, 1), bias=False)\n",
              "    (bn2): BatchNorm2d(1536, eps=1e-05, momentum=0.1, affine=True, track_running_stats=True)\n",
              "    (act2): ReLU(inplace=True)\n",
              "    (global_pool): SelectAdaptivePool2d (output_size=1, pool_type=avg)\n",
              "    (classifier): Identity()\n",
              "  )\n",
              "  (lstm): LSTM(1536, 512, num_layers=2, batch_first=True, dropout=0.5)\n",
              "  (dropout): Dropout(p=0.5, inplace=False)\n",
              "  (batchnorm): BatchNorm1d(512, eps=1e-05, momentum=0.1, affine=True, track_running_stats=True)\n",
              "  (elu): ELU(alpha=1.0)\n",
              "  (fc1): Linear(in_features=512, out_features=32, bias=True)\n",
              "  (fc4): Linear(in_features=32, out_features=1, bias=True)\n",
              "  (sigmoid): Sigmoid()\n",
              ")"
            ]
          },
          "metadata": {
            "tags": []
          },
          "execution_count": 65
        }
      ]
    },
    {
      "cell_type": "code",
      "metadata": {
        "id": "jVvm3WJhFP7U",
        "colab_type": "code",
        "colab": {}
      },
      "source": [
        "criterion = nn.BCELoss()"
      ],
      "execution_count": 0,
      "outputs": []
    },
    {
      "cell_type": "code",
      "metadata": {
        "id": "jWeCkbc72wgd",
        "colab_type": "code",
        "colab": {}
      },
      "source": [
        "optimizer = optim.SGD(net.parameters(), lr=0.001, momentum=0.9)"
      ],
      "execution_count": 0,
      "outputs": []
    },
    {
      "cell_type": "code",
      "metadata": {
        "id": "Ys0PLkhIapVv",
        "colab_type": "code",
        "colab": {}
      },
      "source": [
        "def train():\n",
        "  for epoch in range(1, 21):\n",
        "    print(\"Epoch \" + str(epoch), end=\"\")\n",
        "    for phase in phases:\n",
        "      if phase == 'train':\n",
        "        net.train() \n",
        "      else:\n",
        "        net.eval()\n",
        "      \n",
        "      dataset_size = 0\n",
        "      running_loss = 0\n",
        "      h = net.init_hidden(batchsize)  \n",
        " \n",
        "      # begin processing batch\n",
        "      for data in dataloader[phases.index(phase)]:\n",
        "        X, labels = data\n",
        "        if (len(labels) != batchsize):\n",
        "          continue\n",
        "        if phase == 'train':\n",
        "          net.zero_grad()\n",
        "        h = tuple([e.data for e in h])\n",
        "        outputs, h = net(X.to(device), h)\n",
        "        loss = criterion(outputs, labels.to(device))\n",
        "        dataset_size += len(labels)\n",
        "        running_loss += loss.item() * len(labels)\n",
        "        if phase == 'train':\n",
        "          loss.backward()\n",
        "          optimizer.step()\n",
        "        torch.cuda.empty_cache()\n",
        "        print(\".\", end=\"\")\n",
        "\n",
        "      print(\"\\n\")\n",
        "      print(\"Epoch \" + str(epoch) + \" Phase: \", phase, \" Loss: \", round(running_loss/dataset_size, 2))"
      ],
      "execution_count": 0,
      "outputs": []
    },
    {
      "cell_type": "code",
      "metadata": {
        "id": "qvehsMI_gwLx",
        "colab_type": "code",
        "outputId": "f8f08657-986c-4e0c-fcee-123d9ddec859",
        "colab": {
          "base_uri": "https://localhost:8080/",
          "height": 34
        }
      },
      "source": [
        "train()"
      ],
      "execution_count": 0,
      "outputs": [
        {
          "output_type": "stream",
          "text": [
            "Epoch 1.............................................................................................................."
          ],
          "name": "stdout"
        }
      ]
    }
  ]
}