{
  "nbformat": 4,
  "nbformat_minor": 0,
  "metadata": {
    "colab": {
      "name": "CNN-LSTM.ipynb",
      "provenance": [],
      "authorship_tag": "ABX9TyN58Erx/Y6BQCsp1xIsr4vD",
      "include_colab_link": true
    },
    "kernelspec": {
      "name": "python3",
      "display_name": "Python 3"
    }
  },
  "cells": [
    {
      "cell_type": "markdown",
      "metadata": {
        "id": "view-in-github",
        "colab_type": "text"
      },
      "source": [
        "<a href=\"https://colab.research.google.com/github/vijjus/CV/blob/master/CNN_LSTM.ipynb\" target=\"_parent\"><img src=\"https://colab.research.google.com/assets/colab-badge.svg\" alt=\"Open In Colab\"/></a>"
      ]
    },
    {
      "cell_type": "code",
      "metadata": {
        "id": "027uel3TaqPq",
        "colab_type": "code",
        "colab": {
          "base_uri": "https://localhost:8080/",
          "height": 51
        },
        "outputId": "321ef99f-a61c-4730-92e1-4d0eb9441c7e"
      },
      "source": [
        "gpu_info = !nvidia-smi\n",
        "gpu_info = '\\n'.join(gpu_info)\n",
        "if gpu_info.find('failed') >= 0:\n",
        "  print('Select the Runtime > \"Change runtime type\" menu to enable a GPU accelerator, ')\n",
        "  print('and then re-execute this cell.')\n",
        "else:\n",
        "  print(gpu_info)"
      ],
      "execution_count": 1,
      "outputs": [
        {
          "output_type": "stream",
          "text": [
            "Select the Runtime > \"Change runtime type\" menu to enable a GPU accelerator, \n",
            "and then re-execute this cell.\n"
          ],
          "name": "stdout"
        }
      ]
    },
    {
      "cell_type": "code",
      "metadata": {
        "id": "-Ei1cFhzatzk",
        "colab_type": "code",
        "colab": {
          "base_uri": "https://localhost:8080/",
          "height": 306
        },
        "outputId": "3b398ac9-470b-4234-b5d1-d2aee077ac25"
      },
      "source": [
        "!echo '3FDsALdx4sLyMedGxO5h:RsdZX1E2jRryINc6Vb5HGpL1FY84lNBXbTNSU8Ln' > ~/.passwd-s3fs\n",
        "!cat ~/.passwd-s3fs\n",
        "!chmod 600 ~/.passwd-s3fs\n",
        "!mkdir /s3\n",
        "!apt install s3fs"
      ],
      "execution_count": 2,
      "outputs": [
        {
          "output_type": "stream",
          "text": [
            "3FDsALdx4sLyMedGxO5h:RsdZX1E2jRryINc6Vb5HGpL1FY84lNBXbTNSU8Ln\n",
            "Reading package lists... Done\n",
            "Building dependency tree       \n",
            "Reading state information... Done\n",
            "The following NEW packages will be installed:\n",
            "  s3fs\n",
            "0 upgraded, 1 newly installed, 0 to remove and 32 not upgraded.\n",
            "Need to get 200 kB of archives.\n",
            "After this operation, 557 kB of additional disk space will be used.\n",
            "Get:1 http://archive.ubuntu.com/ubuntu bionic/universe amd64 s3fs amd64 1.82-1 [200 kB]\n",
            "Fetched 200 kB in 0s (1,246 kB/s)\n",
            "Selecting previously unselected package s3fs.\n",
            "(Reading database ... 144467 files and directories currently installed.)\n",
            "Preparing to unpack .../archives/s3fs_1.82-1_amd64.deb ...\n",
            "Unpacking s3fs (1.82-1) ...\n",
            "Setting up s3fs (1.82-1) ...\n",
            "Processing triggers for man-db (2.8.3-2ubuntu0.1) ...\n"
          ],
          "name": "stdout"
        }
      ]
    },
    {
      "cell_type": "code",
      "metadata": {
        "id": "U2Rife57axff",
        "colab_type": "code",
        "colab": {
          "base_uri": "https://localhost:8080/",
          "height": 527
        },
        "outputId": "cf8becf7-70ac-4269-ab68-1a611579a2d5"
      },
      "source": [
        "!s3fs w251-final-project /s3 -o passwd_file=~/.passwd-s3fs,url=https://s3.us.cloud-object-storage.appdomain.cloud\n",
        "!ls /s3"
      ],
      "execution_count": 3,
      "outputs": [
        {
          "output_type": "stream",
          "text": [
            " caption_model.pth.tar\n",
            " CatImages\n",
            " dataset_coco.json.gz\n",
            " delivery.jpg\n",
            " DFDC\n",
            " haderfake.mp4\n",
            " image2.jpeg\n",
            " image3.jpeg\n",
            " image_captioning.ipynb\n",
            " kagglecatsanddogs_3367a.zip\n",
            " kat_ring0.mp4\n",
            " kat_ring1.mp4\n",
            " kat_ring2.mp4\n",
            " kat_ring3.mp4\n",
            " knowns\n",
            " model.pt.zip\n",
            " models.py\n",
            "'MSR-LA - 3467.docx'\n",
            " new_faces.ipynb\n",
            " package.jpg\n",
            " package.mp4\n",
            " PetImages\n",
            " pman.jpg\n",
            " pretrained_weights\n",
            "'readme[1].txt'\n",
            " Reuters_Deepfake.mp4\n",
            " testdir\n",
            " test_imgs\n",
            " uploads\n",
            " WORDMAP_coco_5_cap_per_img_5_min_word_freq.json.gz\n"
          ],
          "name": "stdout"
        }
      ]
    },
    {
      "cell_type": "code",
      "metadata": {
        "id": "r4vmE1JLa0ar",
        "colab_type": "code",
        "colab": {}
      },
      "source": [
        "import torch\n",
        "from torch.autograd import Variable\n",
        "import numpy as np\n",
        "import torch.nn.functional as F\n",
        "import torchvision\n",
        "from torchvision import transforms, datasets\n",
        "import torch.optim as optim\n",
        "from torch import nn\n",
        "import matplotlib.pyplot as plt"
      ],
      "execution_count": 0,
      "outputs": []
    },
    {
      "cell_type": "code",
      "metadata": {
        "id": "VtfLjT2Bbsvy",
        "colab_type": "code",
        "colab": {
          "base_uri": "https://localhost:8080/",
          "height": 187
        },
        "outputId": "96038851-6e7e-4d45-9770-4850ec1c8a82"
      },
      "source": [
        "!pip3 install timm"
      ],
      "execution_count": 12,
      "outputs": [
        {
          "output_type": "stream",
          "text": [
            "Collecting timm\n",
            "\u001b[?25l  Downloading https://files.pythonhosted.org/packages/44/c7/b1ce15cfca60d10d069dafbc2138761940f73b691496fd998a680f04dad1/timm-0.1.26-py3-none-any.whl (179kB)\n",
            "\r\u001b[K     |█▉                              | 10kB 16.9MB/s eta 0:00:01\r\u001b[K     |███▋                            | 20kB 6.3MB/s eta 0:00:01\r\u001b[K     |█████▌                          | 30kB 7.4MB/s eta 0:00:01\r\u001b[K     |███████▎                        | 40kB 8.1MB/s eta 0:00:01\r\u001b[K     |█████████▏                      | 51kB 6.4MB/s eta 0:00:01\r\u001b[K     |███████████                     | 61kB 7.2MB/s eta 0:00:01\r\u001b[K     |████████████▉                   | 71kB 8.1MB/s eta 0:00:01\r\u001b[K     |██████████████▋                 | 81kB 7.7MB/s eta 0:00:01\r\u001b[K     |████████████████▌               | 92kB 7.3MB/s eta 0:00:01\r\u001b[K     |██████████████████▎             | 102kB 7.8MB/s eta 0:00:01\r\u001b[K     |████████████████████            | 112kB 7.8MB/s eta 0:00:01\r\u001b[K     |██████████████████████          | 122kB 7.8MB/s eta 0:00:01\r\u001b[K     |███████████████████████▊        | 133kB 7.8MB/s eta 0:00:01\r\u001b[K     |█████████████████████████▋      | 143kB 7.8MB/s eta 0:00:01\r\u001b[K     |███████████████████████████▍    | 153kB 7.8MB/s eta 0:00:01\r\u001b[K     |█████████████████████████████▎  | 163kB 7.8MB/s eta 0:00:01\r\u001b[K     |███████████████████████████████ | 174kB 7.8MB/s eta 0:00:01\r\u001b[K     |████████████████████████████████| 184kB 7.8MB/s \n",
            "\u001b[?25hRequirement already satisfied: torch>=1.0 in /usr/local/lib/python3.6/dist-packages (from timm) (1.5.0+cu101)\n",
            "Requirement already satisfied: torchvision in /usr/local/lib/python3.6/dist-packages (from timm) (0.6.0+cu101)\n",
            "Requirement already satisfied: numpy in /usr/local/lib/python3.6/dist-packages (from torch>=1.0->timm) (1.18.4)\n",
            "Requirement already satisfied: future in /usr/local/lib/python3.6/dist-packages (from torch>=1.0->timm) (0.16.0)\n",
            "Requirement already satisfied: pillow>=4.1.1 in /usr/local/lib/python3.6/dist-packages (from torchvision->timm) (7.0.0)\n",
            "Installing collected packages: timm\n",
            "Successfully installed timm-0.1.26\n"
          ],
          "name": "stdout"
        }
      ]
    },
    {
      "cell_type": "code",
      "metadata": {
        "id": "EeNKdsD8b2q2",
        "colab_type": "code",
        "colab": {}
      },
      "source": [
        "import timm"
      ],
      "execution_count": 0,
      "outputs": []
    },
    {
      "cell_type": "code",
      "metadata": {
        "id": "wt2hUhsBa7Cu",
        "colab_type": "code",
        "colab": {
          "base_uri": "https://localhost:8080/",
          "height": 34
        },
        "outputId": "3a6f4283-c5c5-4095-efb5-4f77ce11fc9c"
      },
      "source": [
        "# Device configuration\n",
        "device = torch.device('cuda' if torch.cuda.is_available() else 'cpu')\n",
        "device"
      ],
      "execution_count": 5,
      "outputs": [
        {
          "output_type": "execute_result",
          "data": {
            "text/plain": [
              "device(type='cpu')"
            ]
          },
          "metadata": {
            "tags": []
          },
          "execution_count": 5
        }
      ]
    },
    {
      "cell_type": "code",
      "metadata": {
        "id": "DQFB7HZJbh96",
        "colab_type": "code",
        "colab": {}
      },
      "source": [
        "input_size = 512\n",
        "output_size = 1\n",
        "hidden_dim = 512\n",
        "n_layers = 2"
      ],
      "execution_count": 0,
      "outputs": []
    },
    {
      "cell_type": "code",
      "metadata": {
        "id": "RScqXLVZb9xl",
        "colab_type": "code",
        "colab": {}
      },
      "source": [
        "class Identity(nn.Module):\n",
        "    def __init__(self):\n",
        "        super(Identity, self).__init__()\n",
        "        \n",
        "    def forward(self, x):\n",
        "        return x"
      ],
      "execution_count": 0,
      "outputs": []
    },
    {
      "cell_type": "code",
      "metadata": {
        "id": "DgXiFVGaa9h5",
        "colab_type": "code",
        "colab": {}
      },
      "source": [
        "class DFDCNet(nn.Module):\n",
        "    def __init__(self, input_size, output_size, hidden_dim, n_layers, drop_prob=0.5):\n",
        "        super(DFDCNet, self).__init__()\n",
        "        self.output_size = output_size\n",
        "        self.n_layers = n_layers\n",
        "        self.hidden_dim = hidden_dim\n",
        "        # use mixnet_s, remove the final Linear layer (1536 -> 1000)\n",
        "        self.mixnet = timm.create_model(\"mixnet_s\", pretrained=True)\n",
        "        self.mixnet.classifier = Identity()\n",
        "\n",
        "        self.lstm = nn.LSTM(1536, hidden_dim, n_layers, dropout=drop_prob, batch_first=True)\n",
        "        self.dropout = nn.Dropout(0.5)\n",
        "        self.batchnorm = nn.BatchNorm1d(hidden_dim)\n",
        "        self.elu = nn.ELU()\n",
        "        self.fc1 = nn.Linear(hidden_dim, 32)\n",
        "        self.fc4 = nn.Linear(32, output_size)\n",
        "        self.sigmoid = nn.Sigmoid()\n",
        "        \n",
        "    def forward(self, x, hidden):\n",
        "        batch_size, seqlen, c, h, w = x.size()\n",
        "        x = x.reshape(batch_size*seqlen, c, h, w).float()\n",
        "        x = self.mixnet(x)\n",
        "        x = x.reshape(batch_size, seqlen, x.shape[1])\n",
        "        lstm_out, hidden = self.lstm(x, hidden)\n",
        "        lstm_out = lstm_out.contiguous().view(-1, self.hidden_dim)\n",
        "        \n",
        "        out = self.dropout(lstm_out)\n",
        "        out = self.fc1(out)\n",
        "        out = self.elu(out)\n",
        "        out = self.fc4(out)\n",
        "        out = self.sigmoid(out)\n",
        "        \n",
        "        out = out.view(batch_size, -1)\n",
        "        out = out[:,-1]\n",
        "        return out, hidden\n",
        "    \n",
        "    def init_hidden(self, batch_size):\n",
        "        weight = next(self.parameters()).data\n",
        "        hidden = (weight.new(self.n_layers, batch_size, self.hidden_dim).zero_().to(device),\n",
        "                      weight.new(self.n_layers, batch_size, self.hidden_dim).zero_().to(device))\n",
        "        return hidden"
      ],
      "execution_count": 0,
      "outputs": []
    },
    {
      "cell_type": "code",
      "metadata": {
        "id": "gyvRsjJDbUSy",
        "colab_type": "code",
        "colab": {}
      },
      "source": [
        "net = DFDCNet(input_size, output_size, hidden_dim, n_layers)"
      ],
      "execution_count": 0,
      "outputs": []
    },
    {
      "cell_type": "code",
      "metadata": {
        "id": "6aZjF_Tvcoja",
        "colab_type": "code",
        "colab": {}
      },
      "source": [
        "m = timm.create_model(\"mixnet_s\", pretrained=True)"
      ],
      "execution_count": 0,
      "outputs": []
    },
    {
      "cell_type": "code",
      "metadata": {
        "id": "wgwbQJOtduyR",
        "colab_type": "code",
        "colab": {}
      },
      "source": [
        "m.classifier = Identity()"
      ],
      "execution_count": 0,
      "outputs": []
    },
    {
      "cell_type": "code",
      "metadata": {
        "id": "UbD_EW0Hd1Sa",
        "colab_type": "code",
        "colab": {}
      },
      "source": [
        "lstm = nn.LSTM(1536, 512, 2, dropout=0.5, batch_first=True)"
      ],
      "execution_count": 0,
      "outputs": []
    },
    {
      "cell_type": "code",
      "metadata": {
        "id": "DGXPv-LPeBhU",
        "colab_type": "code",
        "colab": {}
      },
      "source": [
        "x = torch.randn(16, 2, 3, 224, 224)"
      ],
      "execution_count": 0,
      "outputs": []
    },
    {
      "cell_type": "code",
      "metadata": {
        "id": "-KagHxLSeKqN",
        "colab_type": "code",
        "colab": {
          "base_uri": "https://localhost:8080/",
          "height": 34
        },
        "outputId": "56720ddd-af4f-4b96-c0f8-d7b9ac36570b"
      },
      "source": [
        "x.size()"
      ],
      "execution_count": 23,
      "outputs": [
        {
          "output_type": "execute_result",
          "data": {
            "text/plain": [
              "torch.Size([16, 2, 3, 224, 224])"
            ]
          },
          "metadata": {
            "tags": []
          },
          "execution_count": 23
        }
      ]
    },
    {
      "cell_type": "code",
      "metadata": {
        "id": "qlb1j9ImeLzI",
        "colab_type": "code",
        "colab": {}
      },
      "source": [
        "batch_size, seqlen, c, h, w = x.size()"
      ],
      "execution_count": 0,
      "outputs": []
    },
    {
      "cell_type": "code",
      "metadata": {
        "id": "tOE6AtkIeRcq",
        "colab_type": "code",
        "colab": {}
      },
      "source": [
        "x = x.reshape(batch_size*seqlen, c, h, w).float()"
      ],
      "execution_count": 0,
      "outputs": []
    },
    {
      "cell_type": "code",
      "metadata": {
        "id": "1K3NxucceUPw",
        "colab_type": "code",
        "colab": {
          "base_uri": "https://localhost:8080/",
          "height": 34
        },
        "outputId": "0995f1a3-e4c0-4473-a3ae-35e2b6f4c533"
      },
      "source": [
        "x.shape"
      ],
      "execution_count": 26,
      "outputs": [
        {
          "output_type": "execute_result",
          "data": {
            "text/plain": [
              "torch.Size([32, 3, 224, 224])"
            ]
          },
          "metadata": {
            "tags": []
          },
          "execution_count": 26
        }
      ]
    },
    {
      "cell_type": "code",
      "metadata": {
        "id": "OhP50_k7eVgd",
        "colab_type": "code",
        "colab": {}
      },
      "source": [
        "# run it through the CNN first\n",
        "x = m(x)"
      ],
      "execution_count": 0,
      "outputs": []
    },
    {
      "cell_type": "code",
      "metadata": {
        "id": "NsbzL4Faebj4",
        "colab_type": "code",
        "colab": {
          "base_uri": "https://localhost:8080/",
          "height": 34
        },
        "outputId": "ea3687d0-f1bb-4fe2-cc50-fdabb32da32f"
      },
      "source": [
        "x.shape"
      ],
      "execution_count": 28,
      "outputs": [
        {
          "output_type": "execute_result",
          "data": {
            "text/plain": [
              "torch.Size([32, 1536])"
            ]
          },
          "metadata": {
            "tags": []
          },
          "execution_count": 28
        }
      ]
    },
    {
      "cell_type": "code",
      "metadata": {
        "id": "G6tjdqRYed4p",
        "colab_type": "code",
        "colab": {}
      },
      "source": [
        "x = x.reshape(batch_size, seqlen, x.shape[1])"
      ],
      "execution_count": 0,
      "outputs": []
    },
    {
      "cell_type": "code",
      "metadata": {
        "id": "eAPX0d4Leoor",
        "colab_type": "code",
        "colab": {
          "base_uri": "https://localhost:8080/",
          "height": 34
        },
        "outputId": "ba60efed-1b41-4536-efb5-c71afd0914db"
      },
      "source": [
        "x.shape"
      ],
      "execution_count": 30,
      "outputs": [
        {
          "output_type": "execute_result",
          "data": {
            "text/plain": [
              "torch.Size([16, 2, 1536])"
            ]
          },
          "metadata": {
            "tags": []
          },
          "execution_count": 30
        }
      ]
    },
    {
      "cell_type": "code",
      "metadata": {
        "id": "-H0i8j3UfEiR",
        "colab_type": "code",
        "colab": {}
      },
      "source": [
        "hidden = net.init_hidden(16)"
      ],
      "execution_count": 0,
      "outputs": []
    },
    {
      "cell_type": "code",
      "metadata": {
        "id": "O0AgBJnqfx5l",
        "colab_type": "code",
        "colab": {
          "base_uri": "https://localhost:8080/",
          "height": 34
        },
        "outputId": "685d2807-c975-475c-bc74-004b84291661"
      },
      "source": [
        "hidden[0].shape, hidden[1].shape"
      ],
      "execution_count": 38,
      "outputs": [
        {
          "output_type": "execute_result",
          "data": {
            "text/plain": [
              "(torch.Size([2, 16, 512]), torch.Size([2, 16, 512]))"
            ]
          },
          "metadata": {
            "tags": []
          },
          "execution_count": 38
        }
      ]
    },
    {
      "cell_type": "code",
      "metadata": {
        "id": "0axLRI8Zeqed",
        "colab_type": "code",
        "colab": {}
      },
      "source": [
        "lstm_out, hidden = lstm(x, hidden)"
      ],
      "execution_count": 0,
      "outputs": []
    },
    {
      "cell_type": "code",
      "metadata": {
        "id": "g3psU57Ggi9j",
        "colab_type": "code",
        "colab": {
          "base_uri": "https://localhost:8080/",
          "height": 34
        },
        "outputId": "adcd10ea-aa7c-4283-e619-93eacda4266d"
      },
      "source": [
        "type(lstm_out)"
      ],
      "execution_count": 45,
      "outputs": [
        {
          "output_type": "execute_result",
          "data": {
            "text/plain": [
              "torch.Tensor"
            ]
          },
          "metadata": {
            "tags": []
          },
          "execution_count": 45
        }
      ]
    },
    {
      "cell_type": "code",
      "metadata": {
        "id": "euE3Q6vsgkyH",
        "colab_type": "code",
        "colab": {
          "base_uri": "https://localhost:8080/",
          "height": 34
        },
        "outputId": "42b02b46-cdb8-4a79-ef93-92efd9d3c466"
      },
      "source": [
        "lstm_out.shape"
      ],
      "execution_count": 46,
      "outputs": [
        {
          "output_type": "execute_result",
          "data": {
            "text/plain": [
              "torch.Size([16, 2, 512])"
            ]
          },
          "metadata": {
            "tags": []
          },
          "execution_count": 46
        }
      ]
    },
    {
      "cell_type": "code",
      "metadata": {
        "id": "2L9NGq9yf_kH",
        "colab_type": "code",
        "colab": {
          "base_uri": "https://localhost:8080/",
          "height": 289
        },
        "outputId": "496336e2-5c08-467d-e013-7f542113f9a8"
      },
      "source": [
        "hidden[0]"
      ],
      "execution_count": 41,
      "outputs": [
        {
          "output_type": "execute_result",
          "data": {
            "text/plain": [
              "tensor([[[ 0.0861, -0.3216,  0.0747,  ...,  0.0136,  0.0574, -0.1885],\n",
              "         [ 0.1063, -0.1820, -0.1261,  ..., -0.0233,  0.0555, -0.4650],\n",
              "         [ 0.1695, -0.1003,  0.1754,  ..., -0.0158,  0.0210, -0.2867],\n",
              "         ...,\n",
              "         [ 0.0434, -0.2564, -0.0063,  ...,  0.0630,  0.0907, -0.2971],\n",
              "         [ 0.0540, -0.0032, -0.0724,  ..., -0.1105, -0.1417, -0.3451],\n",
              "         [ 0.0643, -0.2997, -0.2645,  ..., -0.0890, -0.0713, -0.1612]],\n",
              "\n",
              "        [[ 0.0573, -0.0396,  0.0603,  ...,  0.0092,  0.0017,  0.0894],\n",
              "         [ 0.0754,  0.0141, -0.0305,  ...,  0.0033, -0.0542,  0.0115],\n",
              "         [ 0.0998, -0.0154,  0.0629,  ...,  0.0304, -0.0604, -0.0026],\n",
              "         ...,\n",
              "         [ 0.0353,  0.0136,  0.0147,  ...,  0.0480, -0.0173,  0.0465],\n",
              "         [ 0.0583,  0.0303, -0.0016,  ...,  0.0313,  0.0188,  0.0261],\n",
              "         [ 0.0375, -0.0143,  0.0261,  ...,  0.0140, -0.0241,  0.0033]]],\n",
              "       grad_fn=<StackBackward>)"
            ]
          },
          "metadata": {
            "tags": []
          },
          "execution_count": 41
        }
      ]
    },
    {
      "cell_type": "code",
      "metadata": {
        "id": "N7oc9ILhgDLv",
        "colab_type": "code",
        "colab": {}
      },
      "source": [
        "lstm_out = lstm_out.contiguous().view(-1, hidden_dim)"
      ],
      "execution_count": 0,
      "outputs": []
    },
    {
      "cell_type": "code",
      "metadata": {
        "id": "UptcIkQAgZVc",
        "colab_type": "code",
        "colab": {
          "base_uri": "https://localhost:8080/",
          "height": 34
        },
        "outputId": "11afa95b-3f0a-41d3-eba7-034827b3f5f5"
      },
      "source": [
        "lstm_out.shape"
      ],
      "execution_count": 43,
      "outputs": [
        {
          "output_type": "execute_result",
          "data": {
            "text/plain": [
              "torch.Size([32, 512])"
            ]
          },
          "metadata": {
            "tags": []
          },
          "execution_count": 43
        }
      ]
    },
    {
      "cell_type": "code",
      "metadata": {
        "id": "54GbFVcvhMDd",
        "colab_type": "code",
        "colab": {}
      },
      "source": [
        "fc = nn.Linear(512, 1)"
      ],
      "execution_count": 0,
      "outputs": []
    },
    {
      "cell_type": "code",
      "metadata": {
        "id": "7cFcqmHkgb3c",
        "colab_type": "code",
        "colab": {}
      },
      "source": [
        "out = fc(lstm_out)"
      ],
      "execution_count": 0,
      "outputs": []
    },
    {
      "cell_type": "code",
      "metadata": {
        "id": "ZbbPKw7-hWL8",
        "colab_type": "code",
        "colab": {}
      },
      "source": [
        "sigmoid = nn.Sigmoid()"
      ],
      "execution_count": 0,
      "outputs": []
    },
    {
      "cell_type": "code",
      "metadata": {
        "id": "XEEai0l8hZ3k",
        "colab_type": "code",
        "colab": {}
      },
      "source": [
        "out = sigmoid(out)"
      ],
      "execution_count": 0,
      "outputs": []
    },
    {
      "cell_type": "code",
      "metadata": {
        "id": "OyeDGMgPhb_0",
        "colab_type": "code",
        "colab": {
          "base_uri": "https://localhost:8080/",
          "height": 816
        },
        "outputId": "b554b695-2573-4517-e497-0dc4db0e830b"
      },
      "source": [
        "out"
      ],
      "execution_count": 52,
      "outputs": [
        {
          "output_type": "execute_result",
          "data": {
            "text/plain": [
              "tensor([[[0.4890],\n",
              "         [0.4891]],\n",
              "\n",
              "        [[0.4953],\n",
              "         [0.4995]],\n",
              "\n",
              "        [[0.4992],\n",
              "         [0.4976]],\n",
              "\n",
              "        [[0.4938],\n",
              "         [0.4915]],\n",
              "\n",
              "        [[0.4898],\n",
              "         [0.4955]],\n",
              "\n",
              "        [[0.4969],\n",
              "         [0.4973]],\n",
              "\n",
              "        [[0.5014],\n",
              "         [0.4960]],\n",
              "\n",
              "        [[0.4920],\n",
              "         [0.4908]],\n",
              "\n",
              "        [[0.4971],\n",
              "         [0.4933]],\n",
              "\n",
              "        [[0.4912],\n",
              "         [0.4909]],\n",
              "\n",
              "        [[0.4950],\n",
              "         [0.4948]],\n",
              "\n",
              "        [[0.4935],\n",
              "         [0.4909]],\n",
              "\n",
              "        [[0.4934],\n",
              "         [0.4922]],\n",
              "\n",
              "        [[0.4975],\n",
              "         [0.4981]],\n",
              "\n",
              "        [[0.4976],\n",
              "         [0.4954]],\n",
              "\n",
              "        [[0.5012],\n",
              "         [0.5007]]], grad_fn=<SigmoidBackward>)"
            ]
          },
          "metadata": {
            "tags": []
          },
          "execution_count": 52
        }
      ]
    },
    {
      "cell_type": "code",
      "metadata": {
        "id": "Dd-paE_0hclK",
        "colab_type": "code",
        "colab": {}
      },
      "source": [
        ""
      ],
      "execution_count": 0,
      "outputs": []
    }
  ]
}