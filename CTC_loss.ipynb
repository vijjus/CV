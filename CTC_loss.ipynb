{
  "nbformat": 4,
  "nbformat_minor": 0,
  "metadata": {
    "colab": {
      "name": "CTC_loss.ipynb",
      "provenance": [],
      "authorship_tag": "ABX9TyNejD6OvoBeWk9O1gLJNG0H",
      "include_colab_link": true
    },
    "kernelspec": {
      "name": "python3",
      "display_name": "Python 3"
    },
    "language_info": {
      "name": "python"
    }
  },
  "cells": [
    {
      "cell_type": "markdown",
      "metadata": {
        "id": "view-in-github",
        "colab_type": "text"
      },
      "source": [
        "<a href=\"https://colab.research.google.com/github/vijjus/CV/blob/master/CTC_loss.ipynb\" target=\"_parent\"><img src=\"https://colab.research.google.com/assets/colab-badge.svg\" alt=\"Open In Colab\"/></a>"
      ]
    },
    {
      "cell_type": "code",
      "metadata": {
        "colab": {
          "base_uri": "https://localhost:8080/"
        },
        "id": "51mDAeydNAft",
        "outputId": "c40ff667-700e-4458-a14c-54080c628d55"
      },
      "source": [
        "!nvidia-smi"
      ],
      "execution_count": 1,
      "outputs": [
        {
          "output_type": "stream",
          "text": [
            "NVIDIA-SMI has failed because it couldn't communicate with the NVIDIA driver. Make sure that the latest NVIDIA driver is installed and running.\n",
            "\n"
          ],
          "name": "stdout"
        }
      ]
    },
    {
      "cell_type": "code",
      "metadata": {
        "id": "8F44iImwNEhu"
      },
      "source": [
        "import torch\n",
        "import torch.nn as nn"
      ],
      "execution_count": 15,
      "outputs": []
    },
    {
      "cell_type": "code",
      "metadata": {
        "id": "MFa2_7F8NVuI"
      },
      "source": [
        "# Target are to be padded\n",
        "T = 50      # Input sequence length\n",
        "C = 20      # Number of classes (including blank)\n",
        "N = 16      # Batch size\n",
        "S = 30      # Target sequence length of longest target in batch (padding length)\n",
        "S_min = 10  # Minimum target length, for demonstration purposes"
      ],
      "execution_count": 2,
      "outputs": []
    },
    {
      "cell_type": "code",
      "metadata": {
        "colab": {
          "base_uri": "https://localhost:8080/"
        },
        "id": "HZnYRwoPNriY",
        "outputId": "5d24b9af-11cd-4495-c90d-3f634828e894"
      },
      "source": [
        "# Initialize random batch of input vectors, for *size = (T,N,C)\n",
        "input = torch.randn(T, N, C)\n",
        "input.shape"
      ],
      "execution_count": 19,
      "outputs": [
        {
          "output_type": "execute_result",
          "data": {
            "text/plain": [
              "torch.Size([50, 16, 20])"
            ]
          },
          "metadata": {
            "tags": []
          },
          "execution_count": 19
        }
      ]
    },
    {
      "cell_type": "code",
      "metadata": {
        "colab": {
          "base_uri": "https://localhost:8080/"
        },
        "id": "xrUtEnReN5aK",
        "outputId": "b10d35a1-da4f-4d36-f6d6-b3b92720e3a7"
      },
      "source": [
        "input"
      ],
      "execution_count": 20,
      "outputs": [
        {
          "output_type": "execute_result",
          "data": {
            "text/plain": [
              "tensor([[[-1.8133e-01,  5.5486e-02, -1.1801e+00,  ...,  5.9338e-01,\n",
              "          -7.6976e-03, -4.4068e-01],\n",
              "         [-1.0459e+00,  5.2527e-01,  8.9902e-01,  ...,  2.4780e+00,\n",
              "           9.7984e-01, -6.1498e-01],\n",
              "         [ 1.0073e+00, -9.0063e-01, -6.1997e-01,  ...,  1.7867e-01,\n",
              "           8.3250e-01, -8.6403e-01],\n",
              "         ...,\n",
              "         [ 1.1915e+00, -1.8326e+00, -8.7389e-01,  ...,  1.2519e+00,\n",
              "           2.6438e-02, -3.3346e-01],\n",
              "         [-3.4131e-01, -2.5401e+00,  1.8421e-01,  ...,  5.2401e-01,\n",
              "           2.0715e+00, -8.6275e-02],\n",
              "         [ 4.2230e-01, -1.1417e+00,  2.1390e+00,  ...,  3.2776e-01,\n",
              "           1.4635e-01, -6.3199e-01]],\n",
              "\n",
              "        [[-8.9254e-01,  8.2549e-01,  6.1904e-01,  ..., -1.9236e-01,\n",
              "           1.3014e+00,  3.5321e-01],\n",
              "         [-3.6969e-01,  1.9278e-01, -5.7103e-01,  ...,  1.8236e+00,\n",
              "           1.2948e-01,  8.3630e-02],\n",
              "         [ 1.4288e+00, -1.2932e+00,  9.1205e-01,  ...,  2.7004e-01,\n",
              "           1.1852e+00, -1.6636e+00],\n",
              "         ...,\n",
              "         [ 3.0265e+00, -8.2556e-01, -2.9988e-01,  ...,  1.4758e-01,\n",
              "          -1.7788e+00,  7.5453e-01],\n",
              "         [ 2.5703e-02, -4.3547e-01, -9.8733e-01,  ...,  5.3905e-01,\n",
              "          -6.5422e-01,  1.3266e+00],\n",
              "         [-2.3286e-01,  1.4315e+00, -9.8793e-02,  ...,  5.7367e-02,\n",
              "           1.5202e+00,  1.5048e+00]],\n",
              "\n",
              "        [[ 8.6214e-01,  1.1148e+00,  1.5927e-02,  ...,  1.4437e-01,\n",
              "          -1.5609e+00,  3.2207e-01],\n",
              "         [ 1.0864e+00,  8.9143e-01, -1.1362e+00,  ...,  2.6902e-01,\n",
              "          -7.0136e-02, -1.0352e-02],\n",
              "         [ 6.7233e-01, -3.5352e-01, -2.2158e+00,  ..., -1.6081e+00,\n",
              "           2.2164e-01,  1.1170e-01],\n",
              "         ...,\n",
              "         [-1.3809e+00,  6.8062e-01, -9.5765e-01,  ...,  1.5491e+00,\n",
              "           3.1995e-01,  2.1317e-01],\n",
              "         [-1.9820e+00, -3.9996e-01,  4.2413e-01,  ...,  6.1402e-01,\n",
              "           1.2222e+00,  6.9925e-01],\n",
              "         [ 3.4627e-01,  1.5844e+00, -1.1544e+00,  ...,  4.5853e-01,\n",
              "           7.7240e-01, -1.0025e+00]],\n",
              "\n",
              "        ...,\n",
              "\n",
              "        [[-2.6076e-01, -2.3213e+00, -1.1970e-01,  ...,  2.0194e+00,\n",
              "           1.1279e+00,  2.0952e+00],\n",
              "         [-1.7793e-01, -1.3445e+00, -1.0513e+00,  ..., -4.6778e-01,\n",
              "           5.2622e-02, -2.1926e+00],\n",
              "         [ 1.5215e-01, -4.9474e-01,  9.1958e-01,  ...,  5.7027e-01,\n",
              "           5.5892e-01,  1.7863e+00],\n",
              "         ...,\n",
              "         [-4.2827e-01, -5.4579e-01, -4.4686e-01,  ...,  1.3482e+00,\n",
              "           1.5034e+00,  4.2473e-01],\n",
              "         [-4.3198e-01, -2.6727e+00,  2.7782e-01,  ...,  7.4641e-01,\n",
              "           6.7292e-01, -2.8093e-01],\n",
              "         [ 1.5246e+00,  1.2267e+00,  2.8925e+00,  ...,  1.2866e-01,\n",
              "          -1.2273e+00,  9.6213e-01]],\n",
              "\n",
              "        [[-1.1348e+00, -4.7912e-01, -1.3323e+00,  ...,  5.1766e-01,\n",
              "          -5.6809e-01,  3.9329e-01],\n",
              "         [-2.7033e-01,  7.0477e-01, -3.8643e-02,  ..., -2.0219e+00,\n",
              "          -6.5067e-01, -8.1827e-01],\n",
              "         [-1.0183e+00,  9.5804e-01, -4.3573e-01,  ..., -4.6980e-01,\n",
              "           2.1720e-01, -4.3670e-01],\n",
              "         ...,\n",
              "         [ 1.6051e-01,  1.5346e+00,  7.9513e-01,  ..., -1.7581e+00,\n",
              "          -1.9440e-03, -1.0576e+00],\n",
              "         [-9.7961e-01, -5.1749e-01, -1.0846e+00,  ...,  1.3424e+00,\n",
              "          -2.3951e-01,  1.2599e+00],\n",
              "         [ 5.2055e-01, -5.4478e-01, -7.0753e-01,  ...,  3.4302e-01,\n",
              "           1.2860e+00,  1.3920e-01]],\n",
              "\n",
              "        [[ 1.4741e-01,  1.1188e+00,  6.7824e-01,  ..., -7.9018e-01,\n",
              "           3.5576e-01, -6.5903e-02],\n",
              "         [-1.6467e+00,  7.3925e-01,  5.7950e-01,  ..., -1.2654e+00,\n",
              "          -2.0048e-01, -8.7831e-03],\n",
              "         [ 4.4796e-01,  6.9515e-01, -6.3982e-01,  ..., -1.7947e-01,\n",
              "          -1.1364e+00,  4.2414e-01],\n",
              "         ...,\n",
              "         [-1.9640e-01,  1.0468e+00,  1.8537e+00,  ...,  1.1156e-01,\n",
              "           1.6051e+00,  3.4323e-01],\n",
              "         [-1.0549e+00,  1.2554e+00,  7.5656e-01,  ..., -6.3428e-01,\n",
              "          -9.1649e-01,  2.5481e-01],\n",
              "         [ 6.5491e-01,  8.2454e-01,  9.2288e-01,  ..., -4.0183e-01,\n",
              "          -1.0836e+00, -6.1310e-02]]])"
            ]
          },
          "metadata": {
            "tags": []
          },
          "execution_count": 20
        }
      ]
    },
    {
      "cell_type": "code",
      "metadata": {
        "colab": {
          "base_uri": "https://localhost:8080/"
        },
        "id": "MaNdUrYSOTjx",
        "outputId": "6417f1ee-f67a-4897-ca2b-a8b8a8e65e3f"
      },
      "source": [
        "input = input.log_softmax(2)\n",
        "print(input.shape)"
      ],
      "execution_count": 21,
      "outputs": [
        {
          "output_type": "stream",
          "text": [
            "torch.Size([50, 16, 20])\n"
          ],
          "name": "stdout"
        }
      ]
    },
    {
      "cell_type": "code",
      "metadata": {
        "colab": {
          "base_uri": "https://localhost:8080/"
        },
        "id": "MRKO4UUIZv46",
        "outputId": "07ae7284-19fc-4b5c-f798-95a46b475875"
      },
      "source": [
        "input = input.detach()\n",
        "input = input.requires_grad_()\n",
        "input"
      ],
      "execution_count": 22,
      "outputs": [
        {
          "output_type": "execute_result",
          "data": {
            "text/plain": [
              "tensor([[[-4.0006, -3.7638, -4.9993,  ..., -3.2259, -3.8270, -4.2600],\n",
              "         [-5.1843, -3.6131, -3.2394,  ..., -1.6604, -3.1586, -4.7534],\n",
              "         [-2.3850, -4.2929, -4.0122,  ..., -3.2136, -2.5598, -4.2563],\n",
              "         ...,\n",
              "         [-2.4962, -5.5203, -4.5615,  ..., -2.4358, -3.6612, -4.0211],\n",
              "         [-4.0986, -6.2974, -3.5731,  ..., -3.2333, -1.6858, -3.8436],\n",
              "         [-3.1145, -4.6785, -1.3978,  ..., -3.2090, -3.3904, -4.1688]],\n",
              "\n",
              "        [[-4.5340, -2.8159, -3.0224,  ..., -3.8338, -2.3401, -3.2882],\n",
              "         [-3.5717, -3.0092, -3.7730,  ..., -1.3783, -3.0725, -3.1183],\n",
              "         [-2.2086, -4.9306, -2.7254,  ..., -3.3674, -2.4522, -5.3010],\n",
              "         ...,\n",
              "         [-0.9715, -4.8235, -4.2978,  ..., -3.8504, -5.7768, -3.2434],\n",
              "         [-3.2400, -3.7012, -4.2531,  ..., -2.7267, -3.9200, -1.9392],\n",
              "         [-3.8653, -2.2009, -3.7312,  ..., -3.5750, -2.1122, -2.1276]],\n",
              "\n",
              "        [[-2.7735, -2.5209, -3.6197,  ..., -3.4913, -5.1966, -3.3136],\n",
              "         [-2.3972, -2.5922, -4.6198,  ..., -3.2146, -3.5538, -3.4940],\n",
              "         [-2.4736, -3.4995, -5.3617,  ..., -4.7540, -2.9243, -3.0342],\n",
              "         ...,\n",
              "         [-4.7417, -2.6801, -4.3184,  ..., -1.8117, -3.0408, -3.1476],\n",
              "         [-5.2726, -3.6906, -2.8665,  ..., -2.6766, -2.0685, -2.5914],\n",
              "         [-3.3903, -2.1522, -4.8909,  ..., -3.2780, -2.9642, -4.7391]],\n",
              "\n",
              "        ...,\n",
              "\n",
              "        [[-3.8930, -5.9536, -3.7520,  ..., -1.6129, -2.5044, -1.5370],\n",
              "         [-3.4369, -4.6035, -4.3103,  ..., -3.7267, -3.2063, -5.4516],\n",
              "         [-3.2228, -3.8696, -2.4553,  ..., -2.8046, -2.8160, -1.5886],\n",
              "         ...,\n",
              "         [-4.0786, -4.1961, -4.0972,  ..., -2.3021, -2.1469, -3.2256],\n",
              "         [-3.5273, -5.7680, -2.8175,  ..., -2.3489, -2.4224, -3.3762],\n",
              "         [-2.5420, -2.8399, -1.1742,  ..., -3.9380, -5.2939, -3.1045]],\n",
              "\n",
              "        [[-4.6667, -4.0111, -4.8643,  ..., -3.0143, -4.1001, -3.1387],\n",
              "         [-3.3342, -2.3591, -3.1025,  ..., -5.0857, -3.7145, -3.8821],\n",
              "         [-4.1831, -2.2068, -3.6006,  ..., -3.6346, -2.9476, -3.6015],\n",
              "         ...,\n",
              "         [-3.2275, -1.8534, -2.5929,  ..., -5.1460, -3.3899, -4.4456],\n",
              "         [-4.1637, -3.7016, -4.2688,  ..., -1.8417, -3.4236, -1.9242],\n",
              "         [-2.6932, -3.7585, -3.9213,  ..., -2.8707, -1.9277, -3.0745]],\n",
              "\n",
              "        [[-3.2745, -2.3031, -2.7437,  ..., -4.2121, -3.0661, -3.4878],\n",
              "         [-4.6552, -2.2693, -2.4290,  ..., -4.2739, -3.2090, -3.0173],\n",
              "         [-3.6737, -3.4265, -4.7615,  ..., -4.3012, -5.2581, -3.6976],\n",
              "         ...,\n",
              "         [-3.8713, -2.6281, -1.8213,  ..., -3.5634, -2.0698, -3.3317],\n",
              "         [-4.6042, -2.2939, -2.7928,  ..., -4.1836, -4.4658, -3.2945],\n",
              "         [-2.5003, -2.3307, -2.2323,  ..., -3.5570, -4.2388, -3.2165]]],\n",
              "       requires_grad=True)"
            ]
          },
          "metadata": {
            "tags": []
          },
          "execution_count": 22
        }
      ]
    },
    {
      "cell_type": "code",
      "metadata": {
        "colab": {
          "base_uri": "https://localhost:8080/"
        },
        "id": "ZSK0XwvVOYqk",
        "outputId": "0fd65e22-f18a-4a50-97ff-0389c2188606"
      },
      "source": [
        "# Initialize random batch of targets (0 = blank, 1:C = classes)\n",
        "target = torch.randint(low=1, high=C, size=(N, S), dtype=torch.long)\n",
        "print(target.shape)\n",
        "target"
      ],
      "execution_count": 11,
      "outputs": [
        {
          "output_type": "stream",
          "text": [
            "torch.Size([16, 30])\n"
          ],
          "name": "stdout"
        },
        {
          "output_type": "execute_result",
          "data": {
            "text/plain": [
              "tensor([[17, 11,  6, 15, 14,  8, 15, 18,  8, 19,  2,  1,  4,  2, 18, 19, 18,  9,\n",
              "          2,  5, 13,  8, 15, 12, 15, 16,  5, 17, 18, 16],\n",
              "        [ 6,  5,  3, 19, 15,  9, 13, 14, 15, 17, 17,  9,  7, 17, 17, 13,  8, 15,\n",
              "         12, 10, 11, 11,  2,  8,  8,  9,  2,  6, 19, 12],\n",
              "        [11, 19,  7,  7, 10, 13,  6, 15, 17,  9,  7, 10,  7, 16, 15,  3,  2, 17,\n",
              "         17,  7, 19, 11,  9,  2, 15,  6, 11, 19, 17, 10],\n",
              "        [ 7,  9, 13, 14,  9, 10, 10, 19,  9, 16, 15,  9, 16, 11,  8,  9,  3, 12,\n",
              "         10,  6,  9, 18,  4, 14, 12,  9, 12,  5,  8, 14],\n",
              "        [ 8,  5, 17, 15, 15, 17, 14,  7, 11,  2,  6, 17,  7,  8, 13, 10, 16, 15,\n",
              "          4,  2, 18, 12, 19, 12,  9,  5, 19, 14, 12, 10],\n",
              "        [13, 14, 11, 18, 14, 18, 13,  4, 14,  8,  1,  6,  4, 12, 19, 18,  2, 14,\n",
              "          4,  8, 10, 18, 14, 19,  7,  6,  8, 10, 19, 11],\n",
              "        [11,  6, 14, 11,  1,  8, 19, 14, 14, 17, 18,  7,  5,  5, 17,  8, 19,  9,\n",
              "         15, 11, 17,  4, 15, 18,  1,  4,  4,  1, 10,  9],\n",
              "        [18, 18,  3, 14, 18, 14,  8, 15, 15, 16,  2, 14, 11, 19,  5, 12, 15, 11,\n",
              "         11, 14,  1, 14, 15,  5,  5, 12, 10, 13,  4,  7],\n",
              "        [ 9,  4, 13,  4,  1, 15, 14, 16, 15, 14,  9, 16, 13,  5, 10, 10,  1,  3,\n",
              "         10, 13, 14,  8, 10,  6,  9,  5, 13,  3,  7, 13],\n",
              "        [ 9, 10, 10, 17,  7, 10, 15,  4, 12,  2,  8,  4,  5,  3, 14, 12,  7,  6,\n",
              "          3,  6,  8, 15, 12, 18,  5, 10,  2,  6,  2, 14],\n",
              "        [14, 16, 14,  9, 14, 12,  4,  4, 17,  1,  7, 17,  4,  2, 13,  5,  7, 11,\n",
              "         14, 19, 12,  6, 18, 17, 18, 11, 10, 16,  2, 16],\n",
              "        [10,  3,  3,  7, 18, 17, 19,  4, 17,  5, 19, 12, 15,  8, 19,  7, 10, 14,\n",
              "          1,  6, 18,  7, 13, 13,  7,  3, 10, 10, 13, 12],\n",
              "        [11, 13,  9, 13, 12,  5, 12,  6, 13, 14, 15,  8,  5,  8,  3,  5,  6,  3,\n",
              "          5,  2,  7,  5, 15,  9, 13, 11, 18, 16, 15, 18],\n",
              "        [15,  8, 14,  2, 15, 16, 16,  8,  2, 19,  4, 13, 10, 15, 18, 13, 15, 12,\n",
              "          6,  1, 10,  9, 19, 13,  1, 19, 17,  6, 14, 13],\n",
              "        [ 3,  8, 19,  7, 17,  2, 10,  8,  2,  4, 14,  1,  9, 15,  6, 18,  4,  1,\n",
              "         19, 10,  3, 18,  2, 11,  5, 14, 12,  6, 15, 18],\n",
              "        [18, 19, 11, 13, 16,  9, 14, 10,  9,  5,  6, 18, 10,  6, 14, 17, 12, 17,\n",
              "         10,  2,  2,  9, 17, 13, 11, 14, 17, 15, 18,  8]])"
            ]
          },
          "metadata": {
            "tags": []
          },
          "execution_count": 11
        }
      ]
    },
    {
      "cell_type": "code",
      "metadata": {
        "colab": {
          "base_uri": "https://localhost:8080/"
        },
        "id": "VeZbJpaVYYpZ",
        "outputId": "8b8a5228-ac7b-4793-89dc-8c04df512ef3"
      },
      "source": [
        "# this is saying that the model outputs a 50 length vector for batch element\n",
        "input_lengths = torch.full(size=(N,), fill_value=T, dtype=torch.long)\n",
        "input_lengths"
      ],
      "execution_count": 12,
      "outputs": [
        {
          "output_type": "execute_result",
          "data": {
            "text/plain": [
              "tensor([50, 50, 50, 50, 50, 50, 50, 50, 50, 50, 50, 50, 50, 50, 50, 50])"
            ]
          },
          "metadata": {
            "tags": []
          },
          "execution_count": 12
        }
      ]
    },
    {
      "cell_type": "code",
      "metadata": {
        "colab": {
          "base_uri": "https://localhost:8080/"
        },
        "id": "bdyhjdsJYx6a",
        "outputId": "b2a3a745-cec2-4344-d283-874374ef604a"
      },
      "source": [
        "# the actual target sequences have lengths between S_min and S\n",
        "target_lengths = torch.randint(low=S_min, high=S, size=(N,), dtype=torch.long)\n",
        "target_lengths"
      ],
      "execution_count": 13,
      "outputs": [
        {
          "output_type": "execute_result",
          "data": {
            "text/plain": [
              "tensor([29, 18, 11, 29, 26, 26, 12, 24, 20, 17, 26, 22, 26, 23, 27, 10])"
            ]
          },
          "metadata": {
            "tags": []
          },
          "execution_count": 13
        }
      ]
    },
    {
      "cell_type": "code",
      "metadata": {
        "id": "420R4D3cZNiK"
      },
      "source": [
        "ctc_loss = nn.CTCLoss()"
      ],
      "execution_count": 16,
      "outputs": []
    },
    {
      "cell_type": "code",
      "metadata": {
        "colab": {
          "base_uri": "https://localhost:8080/"
        },
        "id": "GArIS7VNZRej",
        "outputId": "1eb9861c-a2bf-4c21-c762-6b5d217a3e89"
      },
      "source": [
        "loss = ctc_loss(input, target, input_lengths, target_lengths)\n",
        "loss"
      ],
      "execution_count": 23,
      "outputs": [
        {
          "output_type": "execute_result",
          "data": {
            "text/plain": [
              "tensor(6.0106, grad_fn=<MeanBackward0>)"
            ]
          },
          "metadata": {
            "tags": []
          },
          "execution_count": 23
        }
      ]
    },
    {
      "cell_type": "code",
      "metadata": {
        "colab": {
          "base_uri": "https://localhost:8080/"
        },
        "id": "i4dBD1BJZrad",
        "outputId": "96767f7b-70a7-46a4-e89c-5302c1672ccc"
      },
      "source": [
        "prob = torch.exp(-loss)\n",
        "prob"
      ],
      "execution_count": 25,
      "outputs": [
        {
          "output_type": "execute_result",
          "data": {
            "text/plain": [
              "tensor(0.0025, grad_fn=<ExpBackward>)"
            ]
          },
          "metadata": {
            "tags": []
          },
          "execution_count": 25
        }
      ]
    },
    {
      "cell_type": "code",
      "metadata": {
        "colab": {
          "base_uri": "https://localhost:8080/"
        },
        "id": "UevrbVpYavuP",
        "outputId": "ae124f6c-2bb5-4c69-ec62-743a956ae8a6"
      },
      "source": [
        "f_loss = 0.25 * (1 - prob)**0.5 * loss\n",
        "f_loss"
      ],
      "execution_count": 27,
      "outputs": [
        {
          "output_type": "execute_result",
          "data": {
            "text/plain": [
              "tensor(1.5008, grad_fn=<MulBackward0>)"
            ]
          },
          "metadata": {
            "tags": []
          },
          "execution_count": 27
        }
      ]
    },
    {
      "cell_type": "code",
      "metadata": {
        "id": "On7fNACHbhv3"
      },
      "source": [
        "f_loss.backward()"
      ],
      "execution_count": 28,
      "outputs": []
    },
    {
      "cell_type": "code",
      "metadata": {
        "id": "8hFO4IrNelG7"
      },
      "source": [
        ""
      ],
      "execution_count": null,
      "outputs": []
    },
    {
      "cell_type": "code",
      "metadata": {
        "id": "C2h0etFGauXI"
      },
      "source": [
        ""
      ],
      "execution_count": null,
      "outputs": []
    }
  ]
}